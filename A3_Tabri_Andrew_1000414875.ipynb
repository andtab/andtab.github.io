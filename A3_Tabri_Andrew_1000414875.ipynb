{
  "nbformat": 4,
  "nbformat_minor": 0,
  "metadata": {
    "colab": {
      "name": "A3_Tabri_Andrew_1000414875.ipynb",
      "provenance": [],
      "collapsed_sections": [],
      "authorship_tag": "ABX9TyO2n5Znh/c+tf8NtHDDtnmg",
      "include_colab_link": true
    },
    "kernelspec": {
      "display_name": "Python 3",
      "name": "python3"
    }
  },
  "cells": [
    {
      "cell_type": "markdown",
      "metadata": {
        "id": "view-in-github",
        "colab_type": "text"
      },
      "source": [
        "<a href=\"https://colab.research.google.com/github/andtab/andtab.github.io/blob/master/A3_Tabri_Andrew_1000414875.ipynb\" target=\"_parent\"><img src=\"https://colab.research.google.com/assets/colab-badge.svg\" alt=\"Open In Colab\"/></a>"
      ]
    },
    {
      "cell_type": "markdown",
      "metadata": {
        "id": "3m2Meqmszd6_"
      },
      "source": [
        "#**A3: TD(n) and Mountain Car**"
      ]
    },
    {
      "cell_type": "markdown",
      "metadata": {
        "id": "feYkKBUhylTU"
      },
      "source": [
        "In this assignment we are going to apply the TD(n) methods to solve the Mountain Car problem.\r\n",
        "<br>\r\n",
        "<br>\r\n",
        "By now, you should know how to load OpenAI gym environments:\r\n",
        "\r\n",
        "`env = gym.make(`<font color = 'mahogany'>`'MountainCar-v0'`</font>`)`"
      ]
    },
    {
      "cell_type": "markdown",
      "metadata": {
        "id": "7qH8I-t7zTpX"
      },
      "source": [
        "#**Imports**"
      ]
    },
    {
      "cell_type": "code",
      "metadata": {
        "id": "N4o2JHiwEsyZ"
      },
      "source": [
        "!apt-get install -y xvfb python-opengl > /dev/null 2>&1"
      ],
      "execution_count": 1,
      "outputs": []
    },
    {
      "cell_type": "code",
      "metadata": {
        "id": "AMTqRocaEqM0"
      },
      "source": [
        "!pip install gym pyvirtualdisplay > /dev/null 2>&1"
      ],
      "execution_count": 2,
      "outputs": []
    },
    {
      "cell_type": "code",
      "metadata": {
        "id": "Vo_Vo2SW7ciu"
      },
      "source": [
        "import gym\r\n",
        "from IPython.display import HTML\r\n",
        "from IPython import display as ipythondisplay\r\n",
        "from pyvirtualdisplay import Display\r\n",
        "\r\n",
        "import numpy as np\r\n",
        "import matplotlib.pyplot as plt\r\n",
        "\r\n",
        "# Additional imports required for this implementation\r\n",
        "import glob\r\n",
        "import base64\r\n",
        "import copy \r\n",
        "import random\r\n",
        "from prettytable import PrettyTable"
      ],
      "execution_count": 3,
      "outputs": []
    },
    {
      "cell_type": "markdown",
      "metadata": {
        "id": "NEtz-gIcy4-2"
      },
      "source": [
        "#**Exercise 1: Prelims**"
      ]
    },
    {
      "cell_type": "markdown",
      "metadata": {
        "id": "SHRsenRIy9Aw"
      },
      "source": [
        "These are useful exercises to develop facility with the environment prior to the graded component of the assignment. Explore the above environment as we've done in past assignments and exercises.\r\n",
        "<br>\r\n",
        "Develop a MC controller and assess its performance."
      ]
    },
    {
      "cell_type": "markdown",
      "metadata": {
        "id": "NuphwEZe1ljT"
      },
      "source": [
        "**Text Response**: Inspecting the source code for the Mountain Car (MC) testing environment, we observe that an episode will terminate when the MC has hit or exceeded the flag position (0.5), with a velocity >= 0 (successful episode), or if an episode takes greater than or equal 200 steps to conclude (failed episode). MC states are represented by a tuple of `(position, velocity)`. The MC can move left, remain neutral, or move right at any given state. The built reward structure for the MC problem is -1 for every state transition."
      ]
    },
    {
      "cell_type": "markdown",
      "metadata": {
        "id": "XL0yaMu3Fr7d"
      },
      "source": [
        "**More notes on position and velocity for this problem...**\r\n",
        "<br>\r\n",
        "Position, $x$, ranges from $[1.2, 0.6]$ (inclusive)...\r\n",
        "<br>\r\n",
        "Velocity, $\\textbf{v}$ ranges from $[-0.7, -0.7]$ (inclusive)...\r\n",
        "\r\n",
        "when $x \\geq 0.5$ and $\\textbf{v} \\geq 0$, we have a successful episode."
      ]
    },
    {
      "cell_type": "markdown",
      "metadata": {
        "id": "btHJUiinWLeY"
      },
      "source": [
        "##**Action Space**"
      ]
    },
    {
      "cell_type": "markdown",
      "metadata": {
        "id": "ID035SM2WPCC"
      },
      "source": [
        "At any state, the mountain car can take one of 3 actions; push left (0), no push (1), push right (2), as presented in the below table."
      ]
    },
    {
      "cell_type": "code",
      "metadata": {
        "colab": {
          "base_uri": "https://localhost:8080/",
          "height": 0
        },
        "id": "ilxhfZUjXYfz",
        "outputId": "d7f3c884-0b5b-4da7-8fb4-df7ba824fe71"
      },
      "source": [
        "# This cell is used to display the table illustrating the relation ship between\r\n",
        "# input and performed logic action\r\n",
        "\r\n",
        "# Instantiate table class\r\n",
        "action_space_table = PrettyTable()\r\n",
        "\r\n",
        "# Provide title to table\r\n",
        "action_space_table.title = 'Input-Action Mapping'\r\n",
        "\r\n",
        "# Provide field names to table\r\n",
        "action_space_table.field_names = ['Input', 'Logic Action']\r\n",
        "\r\n",
        "# Populate table rows\r\n",
        "action_space_table.add_row([0, 'Push Left'])\r\n",
        "action_space_table.add_row([1, 'No Push'])\r\n",
        "action_space_table.add_row([2, 'Push Right'])\r\n",
        "action_space_table.border\r\n",
        "print(action_space_table)"
      ],
      "execution_count": 4,
      "outputs": [
        {
          "output_type": "stream",
          "text": [
            "+------------------------+\n",
            "|  Input-Action Mapping  |\n",
            "+--------+---------------+\n",
            "| Input  |  Logic Action |\n",
            "+--------+---------------+\n",
            "|   0    |   Push Left   |\n",
            "|   1    |    No Push    |\n",
            "|   2    |   Push Right  |\n",
            "+--------+---------------+\n"
          ],
          "name": "stdout"
        }
      ]
    },
    {
      "cell_type": "markdown",
      "metadata": {
        "id": "_NuQs0SIWE_L"
      },
      "source": [
        "##**Randomized Action Selection Model**"
      ]
    },
    {
      "cell_type": "markdown",
      "metadata": {
        "id": "LK3Nga0LXl_c"
      },
      "source": [
        "Developed code to demonstrate the MC taking random action selection, afterwards displaying the results in an embedded video. The code for implementing the video replay functionality takes guidance from the following notebook, linked <a href = \"https://colab.research.google.com/github/jeffheaton/t81_558_deep_learning/blob/master/t81_558_class_12_01_ai_gym.ipynb#scrollTo=XDKGJ9A3O8fT\">here</a>: "
      ]
    },
    {
      "cell_type": "markdown",
      "metadata": {
        "id": "WRUpMyrEC6Ih"
      },
      "source": [
        "###Display Video Replay of MC Episode"
      ]
    },
    {
      "cell_type": "code",
      "metadata": {
        "id": "Pio6LyWv6sCN"
      },
      "source": [
        "# Establish video size\r\n",
        "display = Display(visible=0, size=(1400, 900))\r\n",
        "display.start()\r\n",
        "\r\n",
        "# Function for video replay\r\n",
        "def display_video():\r\n",
        "  # Produce a list with all the video files created in the video folder of the\r\n",
        "  # notebook\r\n",
        "  mp4list = glob.glob('video/*.mp4')\r\n",
        "\r\n",
        "  # If video folder contains a video file...\r\n",
        "  if len(mp4list) > 0:\r\n",
        "\r\n",
        "    # Take the first video found in the folder \r\n",
        "    mp4 = mp4list[0]\r\n",
        "\r\n",
        "    # When video is opened with the 'read' method, it is encoded as a base64 \r\n",
        "    # string - we must convert this data into a video of mp4 format\r\n",
        "    video = open(mp4, 'rb').read()\r\n",
        "    encoded = base64.b64encode(video)\r\n",
        "    ipythondisplay.display(HTML(data='''<video alt=\"test\" autoplay \r\n",
        "                loop controls style=\"height: 400px;\">\r\n",
        "                <source src=\"data:video/mp4;base64,{0}\" type=\"video/mp4\" />\r\n",
        "             </video>'''.format(encoded.decode('ascii'))))\r\n",
        "  else: \r\n",
        "    print(\"Could not find video\")"
      ],
      "execution_count": 5,
      "outputs": []
    },
    {
      "cell_type": "markdown",
      "metadata": {
        "id": "huEOKl0TDz8n"
      },
      "source": [
        "###Random Action MC Episode Run (Output Video Recording)"
      ]
    },
    {
      "cell_type": "markdown",
      "metadata": {
        "id": "C44tCZ6omhN3"
      },
      "source": [
        "As we can see... performance isn't all to great here. Let's see if TD Learning control methods can be implemented to improve this situation."
      ]
    },
    {
      "cell_type": "code",
      "metadata": {
        "colab": {
          "base_uri": "https://localhost:8080/",
          "height": 473
        },
        "id": "WvA3G-GDOK13",
        "outputId": "638cc337-162c-4a34-9e4c-88ab1b93adcd"
      },
      "source": [
        "# Apply the Monitor wrapper to the regular environment specification in order\r\n",
        "# for a replay to be recorded\r\n",
        "env = gym.wrappers.Monitor(gym.make('MountainCar-v0'),'video', force = True, resume = True)\r\n",
        "\r\n",
        "# Run an MC episode with random actions being taken\r\n",
        "env.reset()\r\n",
        "\r\n",
        "for i in range(50000):\r\n",
        "  action = env.action_space.sample()\r\n",
        "  print(\"step i\",i,\"action=\",action)\r\n",
        "  obs, reward, done, info = env.step(action)\r\n",
        "  print(\"obs=\",obs,\"reward=\",reward,\"done=\",done,\"info=\",info)\r\n",
        "  print('obs2=', env.env.state)\r\n",
        "  ipythondisplay.clear_output(wait=True)      \r\n",
        "  \r\n",
        "  if done:\r\n",
        "    break\r\n",
        "    \r\n",
        "\r\n",
        "env.close()\r\n",
        "print(\"Iterations that were run:\", i)\r\n",
        "print(\"step i\",i,\"action=\",action)\r\n",
        "print(\"obs=\",obs,\"reward=\",reward,\"done=\",done,\"info=\",info)\r\n",
        "\r\n",
        "display_video()"
      ],
      "execution_count": 6,
      "outputs": [
        {
          "output_type": "stream",
          "text": [
            "Iterations that were run: 199\n",
            "step i 199 action= 1\n",
            "obs= [-0.32044734  0.00359201] reward= -1.0 done= True info= {'TimeLimit.truncated': True}\n"
          ],
          "name": "stdout"
        },
        {
          "output_type": "display_data",
          "data": {
            "text/html": [
              "<video alt=\"test\" autoplay \n",
              "                loop controls style=\"height: 400px;\">\n",
              "                <source src=\"data:video/mp4;base64,AAAAIGZ0eXBpc29tAAACAGlzb21pc28yYXZjMW1wNDEAAAAIZnJlZQAAqsltZGF0AAACrgYF//+q3EXpvebZSLeWLNgg2SPu73gyNjQgLSBjb3JlIDE1MiByMjg1NCBlOWE1OTAzIC0gSC4yNjQvTVBFRy00IEFWQyBjb2RlYyAtIENvcHlsZWZ0IDIwMDMtMjAxNyAtIGh0dHA6Ly93d3cudmlkZW9sYW4ub3JnL3gyNjQuaHRtbCAtIG9wdGlvbnM6IGNhYmFjPTEgcmVmPTMgZGVibG9jaz0xOjA6MCBhbmFseXNlPTB4MzoweDExMyBtZT1oZXggc3VibWU9NyBwc3k9MSBwc3lfcmQ9MS4wMDowLjAwIG1peGVkX3JlZj0xIG1lX3JhbmdlPTE2IGNocm9tYV9tZT0xIHRyZWxsaXM9MSA4eDhkY3Q9MSBjcW09MCBkZWFkem9uZT0yMSwxMSBmYXN0X3Bza2lwPTEgY2hyb21hX3FwX29mZnNldD0tMiB0aHJlYWRzPTMgbG9va2FoZWFkX3RocmVhZHM9MSBzbGljZWRfdGhyZWFkcz0wIG5yPTAgZGVjaW1hdGU9MSBpbnRlcmxhY2VkPTAgYmx1cmF5X2NvbXBhdD0wIGNvbnN0cmFpbmVkX2ludHJhPTAgYmZyYW1lcz0zIGJfcHlyYW1pZD0yIGJfYWRhcHQ9MSBiX2JpYXM9MCBkaXJlY3Q9MSB3ZWlnaHRiPTEgb3Blbl9nb3A9MCB3ZWlnaHRwPTIga2V5aW50PTI1MCBrZXlpbnRfbWluPTI1IHNjZW5lY3V0PTQwIGludHJhX3JlZnJlc2g9MCByY19sb29rYWhlYWQ9NDAgcmM9Y3JmIG1idHJlZT0xIGNyZj0yMy4wIHFjb21wPTAuNjAgcXBtaW49MCBxcG1heD02OSBxcHN0ZXA9NCBpcF9yYXRpbz0xLjQwIGFxPTE6MS4wMACAAAAQ6WWIhAA3//728P4FNjuY0JcRzeidMx+/Fbi6NDe9zgAAAwAAAwAACNCLwW1jsC2M+AAAJZAt9C+gGAAN3dq5XHPUJqMQ9STIE4h5i1p0ovAz2D6+0y6GAp6iGk03o7xeeJnNFlP7pyt72mmO8alQPFkcQS/hupH7h4mJTeRhtQk621kLNt8RFPKKRW6wQBeqa/bIUz2QUD/5/AKR9JghRtwUcbJYDG+GJMPfc0Z9+Ky2ZULlDK+ObhIm0waUlSDFaiGatI7Cv9YYX3GwANdOvfJULx5gqPt4GHqavREAVJQU2iOKP5G+WttIUpCgmsc99A8Dcsc4NyqwXB/Wn1HghqJQQTXBhrqdl+eCJeXRZ8bhBdBnr0sWP5YVPan+zifC1CRYcA7fnq256iVjYkyvp6grqbaJSiuDI5DbujXnFly7nle/W7NR/1S2Vof4k+CO61XnSIdtvxgWBwUWA46h0k1oBtMIQvNUXU33AM8G80Ey7IIx18o8b2mKF3zbUTMnFoBoXl6eDPvaN5fHuWZowtenf+WYDl1jSre9SqRT06h/6ZRDv7xTAHJNq6qxYSI0NftlMttSAzKr+nSofw/95u7GewZDF0yP7yLs82zMDY+0kJ1m7wus3HJL/RKeMZXAAAADABOd+97ZsfU/AetTFlL3eGUPI3gGHjOnAH31e4cNjmvsmesMTTM4eiERjIRWvHAU2TClT9QN4TxKLEodabOQADnwf0FnYOL2zQOiHdi3H/i0RT8Z6Q0OufexkjrfnBX8Ml+QdWQhPTOOVmynP2U537Z3NDuWSSw0CZz/THyMceaGg9XQ76ezrOt+G1EjwsVV9mb+q47cAwK/MLgHGq7Gck3N7ogAwAQ5YaQCO+lmuiUbPjz/Yd02QKOIDdL3mSY6VuxGFsKBYO8f0SRO+qjpT+Cm0RfoXnFLlFhjelV7VI7Aj+kvvWhqqdvsZh0oAjDuA/KteGfgQh2a4TwEB+IGv2Gkdqv3xJ9lIxX/3yowxySFuZ0+f1VUxedtXp5HyDwABORx1ZrGd+OIhIS8oWUL2EdmLP7P8IXICbCYmyEDV1ApwDnEiEFKoBVI7Zjll3KcVGMmcEDgBRlXZlJsPyA8JyP6fGtElmhHQ+E10HJ7Thld6rVLs/sbMDcspT4yhVk5V/cdobTn/kQ4ShBbsn1mFiUmUBjTYEwVOB8nRWYZ+fZRorSg+VbVzJwEziuojDaBme+4BQmK6S3hmx04jcjPXejw839OdX/0emPwxp6BBehtubLMbrrq+Kem0x/eRuI7IEeO9nvalmIHwarzjaNA80eco7v8zrqhCDQXtvbIBJZdISniHDToD9Vp42mUm6kHhfrXqeY8e5YvE+3q1aw1I3K58e2Q79VN900UgWF18QdfpQIPLBATdwg9uAABXVn0g9eAwYBDKBh09jReeRz/kgP9MBDPYe8dOVtgfULjZd9klC4VecBUoXp/+/Nxr25nUt3LNWyjZXfLHXhCqmA9rATdu88/aPY7n4+AGAT+ND337i/gEtQ4dRrGlDk61v16gcPogjUgVwKx1S3Zx+KKpV7WAYRfFTmnMBoGh+/rqA36lUBu8wIXFD8KGhlAtdrRoTlTqwsVDMspO1rMsY16Mzy9vKOik5cvigHNWkJYSI2kzf5xeYjU4G1qNAAAKeEh0P7f6H0DmPODvHjYSys6p7vhKP5r9wdkl+uV3Z6xqWa6/n2i3CaCbnaxxBF7rWQRZG7cyiWHlKfnkVk/FPmeB5yz60PqeexBVHUedbqSlUIFFn46vItwWNB5mdT+0Hk5XiCR5N6YJ60eWMgNuZunq3KmlwOgSF9IZFvTE5YmP/E+DqWFW25g+H8JrIC+4qVZU8h8qoFOEntb8Gan5nCwzXh2Cf1XJXipmQgC9UwMeE6iorSLm3mlsdcv1bA+L1Gxc51Egh7PKoDfoCfAMSh51NH/4r+nsBfaKnmjiSoxlIz6n6NnLJ6GZdgledksv2OEQ99NWzpFDN5fzOMEOoKSkP8iP1XiTAEosYw6eQtMq51ui6y+V8oEUBVHNLLXqOHl1oi/oYektmOyxg1Hd5eBPwgMQPWCYVYBQ2me0z2N0q1CmVfXrRQVszshaKzTxwLV0jPYm1Zlc8FsKyCo3pWKDEzPfx1B2sPBA4PZOmgMkq9HGsKIc5Sh8FXCUq8Iyh7v8ectcPz1hINsCBKl8QDSpbpcn5tIQBudtD7yaSsVO8xw5o3W2w8pAMcq/1an/tPs7NuJBW4O7gS7Ell7CnYIIZ9MO0OP1chcSVMbY/7+wVQ3c1Ph0CS5DvhM9iEbuhggBGVX1/BkWed0g1XrynA1m7mAWqZ34Clk+OlFhF4Xr5DM+q+Df2FUpysy1PHwPWh3Bd7Cki3d/K+SIDBJFHYxHM1tdUQ9P8ACdSHBQ42cYV6Ner4oK0o+2bcghkAIyh3zSC/X7GbWlLV95QLuvuZBxFSdTaYvSj0r2uByPQjOIrZHfhskOhfTZLNV5v/I+31vwyL4YwQr4BKE9JWHmxPEU2NFd2AQJNUpReb92cAt6hVXu12udLBXx+UfDnO6NARPTnYfwOZogS2uprKQGAqrqBMz0s6xAOG63e21z3p5AVddb+mqmUmelJz7GrVSz4MX+3DAav+U4IzJ/vfFD4V8bMz2iSD9RfPh2hBJaEn2DVku7rloC52Bf6czw4OegTryGK6hHumSJSD0VEmRRDqwj1W2uEYxgZ5nWiiZAnV/dNw4FBpjDYnGf0eoeCdV8Pf3H62OcAeLd75SYQFu1GDX+cMtaUuLwZMDCOr27Rb95Ax14Ok4yS9rVDbjdn+xXIL3aPCmFwpGiWj9X0IAjxkwPU5Q3DpSKwtnn1hpQAHb7VRd6vLWiquGKNsKhnYAmqdfD848xffseLvyWSPeoFhgZJm7pWnP7RsnlEVszor19i4JaG8SpB6oHAma2sZ+5mZ3BentE3Y5BFC/70Fg4nzcSfH+WEgaTz5RnCIwdZS7qXK484xv2U1QNyiL4lRE8MTm9Z9f+DsLRbSH44Xu7NU7itPXcZR73YXvsqQ/M7WMRp21Afj81jrXodsb9Q04y5Z8/rfzIxuP2ir8htD4I3KKxhmLWsfJjcNtd2OAF+Zu0Xk5asplaF0bDEq1Cl4fZFiqHaNzYqF9z81GWGdijm3fz3qPOQB5NMyT+R2ZsL1jGzD7mbzD3bLkTwoyXEZ8V1q+bZIn7RKYn1tvfVleNiAljTjLegyZQFap55cGC4xC0w3QTTn5yjqNeypmTUB0Nz9/bvk0H1fAwGyw1TC06BFNQedySTkKA+xEaB1s+OtPf8vNkXpX5Fjuhbil/Chk3aYjNnXkLbBhkP9lap4E+ihO27dcATbxoYiZBkNewn7RMoyWyUZnA8NGvJK1xqqCzC46d/zvFAVORiJ3h7T6vpgcDN3ReYHcNm4Rs7EJoFd+h+KYOvM6/67X1RthlbF56AJvIQ+MajL/GbaV3P6jGocoZNP/yk29MXcOXyHSixHZN7O+LQEGV3nun7YTf/97b/vo1VOAa4IsQ0lk5KlWt5o/dSGxhBOYEiIUYvxJ12GcFcx/paQ7paP87MjAZap+P+83+Q4VS3eNSfqbgdpP6K4E/0bqQdF5dJR7BaB6+Cfl/pHAAGnvC5dxSwZQ/USFks/Jy58WdOUDvVew2S7RaYhka0f75w83bkOjcm39m1XJQs3Lwnvyl4LvXNLo3SQqH+kv90wBF82nuYhuT/OHnWDEiTJdr9jPW5EXSuCbhiYI/7ArKem3YqEtcoepyX38xzCcOeWw/b21FwV4w3AglAXiU/HHy3XP8Q30ulmp/dZdr17Sj7Uo5H6AniyLVct9H/FefJjOO9Q7V4rRBuqJhnYYka0DT/128VnaPLbpAyM7UmoBjeWJOV1FC7fnAAEUC8ebGlie2A8ttljQRa9853NtBJo8TzOAGccfryT/RCX+KuNLf1VnJWN/yLjBCBSQqE0y0evfvtRXDUgcSFd0Z1L4atfYXv8p9KnMn8kac0oCRnc5ELxb5fJ8Gc/BLRpnngei+27SViuoO18rmoZfZ5iBqDb5wjfRoEmsHJq9l0M3sknD+wGgoh9Pxwlfn7XlVLp06U1Ov4sN6XwdVlBAx5lEncPMU7+3yyp8e+2w3swMNS/Ht9iQDafRMhcMS3TpXHEq+u6LWPgQQsJ+tKKveh0nE1VAane0pwAAAwDJcOncLZ5JDBOkDSCNoI+BgW2ZvWZni9sOftxm6tQCMFNBOj4JA9tfzIlbtsOk/ElvUSOU+5NmzB1nc+lKOjVhZVJSOUrJN7WZ8wckc1PJWAbjnuonaTtW1DCmGpAWuRljD6TP8B8ODGihyY8WCCKDzIYIswxogXeTTxBarxVGWzjH9yVmx34CERx7n6EkzRJ2RZo6XkDz8r+uDVIcCOYxZl5pF8jbXhMTwxwuMKt72zXUHupmqIOb58Vbjvzdm7ylHRExdDT6Eq3iTLroQjJaA2XkLrM/XHWneCGoUHi+/OGOAuufMgZWUMBItkbPMhwCvBGzg/8FcgFjTzjzj1VDVHgTTJyXa642/Sap1/XcPQBkPfVQk0RREtJr0i2u+vzMZaKgePmHP9iqZ/97qm269rz8D0SvAgIvf8asQd7qYHn44CLy/kcktBhoGEAABZskZR1M0wnIHtoHsr0O9F91GxTqYYKGpPlNf0FJLN36A/5+t3WobkbDY9qoYIHjRtWQDhCBGGeQ+2yvKs3tKvCEmMyIwcBzFK0/0wHsaLbXNvlJIUoCTwRs+Bskv7SV0ssn77RrzSWgjcMkyeseoRbrwdKyZnn/thTBNh0uiIdiZWTHZ0B9lST7P9qu8m5NsYwN0ONC8t1i5Mzd+2oXloKtKahS8z1ChdR28s4YdWm+UmmMlhTYMzD9BeRRfqANUi9CB5h4MwiiLlYGmAmE/mObaXNfv/pwGvbjW3o7iAW1gEy/OVjppJrnE5hJCZMw0FI3SZsOmWPLtUObYZxjB9DpogdCryKZcZbCEl61l8pAYOOQO48dlkWPTngtSNVMjJYUHkokaN4k4w1o4rSSQp6VqNGK2QBigeHYae6XWB/Y8A57RIF7FaUXEFYL2sGTiIaFDoTwAYvWbPYuLbL512xT8u1wZyeKo3SnVQpvB/573joJ7aB6b49wX8Zsunk7hrJAl0+BQMJ8mICgippOQJmN1ctqKI0T/0pC6HX3y4AASGpZu1QOy0zway7FiPT9WZY093tNLmrbCusCGfqx+i86sopuVY9peQW9ae20NEtevp0AY/KmI8wbtaWC8KSnft+gvZWeQLEw4UJD/FLHSsl0HV/S44ne5AEP41Z0gFwtxdN0Jk1A8mkYg2SumIkwKXTAiVEAgaKSysEIjTecU6VAV6+QX0Ajw/irvE/YkT60Hfs5bT6Y73LuikO7SKSl24bQPDZPXXWXQBZJMkVXNH5JkzQy/Ugiw13za3QFOtPghgJClQCOHk4aPL7WCjL1ImWGecastwG9ObVecvvXHzbKJFW7bpSDRktofqRR5gt1gXpNmSK7ORBc/ACTr/uSpNK2+Y4n+8ugAUJdAXqseDEjwl4avIwG9XXvwZMLGDU7pbG1lVDGpVHEsxVnguZLwyz6OhM4kLLqj46/IjMJNfFSrr/8DzUc9ow22azkL2LDcr78DHo/rBNSLft8hAGZ+FToK+tbDAntJPtTO3+u9KetE3j8k/xWPBGuBg8EoNJWQGc8YCsdQ0yTw1VrkaDbsK8WcUl+A0ga6OXJboYWrav4SDdOaEbxL2AErADxgQAAAldBmiJsQ3/+p4QBHZrhIKYA4AFh1xY1HY02mT3s82lZEwQSCwbm4jgVARfhVmdYsuqeXNPtcVNDRd6ms0v9AtMYLh07UyqTvyR1Gtxbx03ptk+1JNrb2ZClwblnHEGDksJNfWoM6BbLqStjPIGHx4Reg4v46WdeX2U5deBVBwYc/Ef2zN9/p3OLxA7Il00C7rGaytDximsK/nCzlqnBE72jf4s7FA1X7TiLQASgBAh2b3/xKpd/+hDCpXgo2d09Pip2kiEBIQi4g4cPSbhLwNONGrjUK67JC/cJh6NumHGAzariINsC4H/FVmjCMJ3LhX5CwbUzTppvLczNoktdPzGmFClZbS3jpTw73epWiljJTVei7I1rbX9242o+roTLl4lNuJuQqXnNzzm+hDmLct1ARsDPNR5EkRJGXNk7AdCgXYTbU0/utzOSMYoIN3i9Ray+K/QCRnmsKVVUbutjmNn9i9FsR3d3dNOiwJqcQf8SC5ZHNnpW19KA8iOXrSIrOOolZ2c3VTcr2r/OCbiSSijZ3CegbERbABwJlefe4K1B79OU6kP1kkNGHn5nBltaPDk6FJib1eNpF6D2XxEuGEsdA6Jdt4+tvXMoUB4UrQE3cbCkOwL3+E/bGQdOR7wrKoVjn1ft50PnYSrtOjWyCs/q2uSd2kmi4jkryF/clz63vpiOVgNo6xsNN+afN6Hhc8HlgOUNvI1Be5fIXr1ysGdHZPQbGvrrfagMF6DxbX0aCcXyXiL6SeeabekPHaxBqDk3eOJSkrPA89S/ui0UoTNG6nmlFoEC4AAAAGwBnkF5Cf8AEViMckY/d/bn9TekaupjSJO6VLwc2qMQskz8oN4Xh8FSchCbgZNt6SQIc3DNPWwGHMLDK332QAdlOIcGjP3zGj7XE62xleI8JRdFk0g7WVNtgzAHDVtWLTN6dRTurQG9baqEMIkAAAEyQZpGPCGTKYQ3//6nhAArXvCf4/3svu/z7RoAHICVFzgCMrkJbFm9+5+fVk2okIYW1G+j6oMeZTaRcwrOv5WRuvFW8SNAiarC4752eN8QU4MiLvUz/hgK3e8xC+z0ZcPyaykLVCZSLZdSAa/Tn901UdhmIJZ+/PLiMCqN906DmteJYtVL2B0Tox+Xqi+LLaZUvwF4w649moNLsz0Tewm8NRnUuwkCmTGwMlRkc9QvyFK9G93ew2y2AEi4dm7Vfcd5MRJiit/xmzeGhQyQmTqBPuXcS5brxG8I7QsqPGT79PV5CZ9WdUld6eXMp2fBt874x5T9pVDBIfTyR5ZXjpQKG7JX46P9ZhHWTihF1jbGL2VtI4neJnUYAV6uJfMehNqFuF54jwUt3c7O7suN6i27+2iwAAAAr0GeZGpTwr8AIrI7k/p97Ve15mY3FmDAeUZ/o0UDkyPDGATxaJJwAX0pUxVJgPsXBtO1dKkvoTDwqcWPIFr/Xp36h3gghreRgpW/BrOSxdCvAczFvAfg1xwgLdgkOJr4R+Ym2CpE+Xl4COs5dG1G7gvPxDvxGc577IONisdfCLA0m9vOC0oMN6FIG9kr9HydrSrA0HBcMEhxw3zBfKr5+WNWv9eviEkiLrNnUwb7ZzkAAABfAZ6DdEJ/AAZvye8i7PJPN8b9DTAllLDvO4AB2gDqkFUNiN+XstsaUZGahE3ms+mTmePq6btkFu9FbzOj839x03+orVQgra8hsX/w8VsI0dZp/xDwUGbPvmqd8xQZsDsAAACMAZ6FakJ/AAKPb+BrpiuEmswgAdOrn0U3h+kSygDhv6pI1FqmntEeBZ24f36I4Tf2m8a5J7RfeN/rwiQ2F+dXSDlUoyUcFEY1ALb0g8plfc8nZpG3OZLBMG7YEXl9/T51AQ+NoLYfTrCD5xaWQ+bFCid3edkfkOi7ABDQV4UKk5FB8T4vCr/7YYoXBLUAAAD2QZqKSahBaJlMCG///qeEAAADAABLVs2fsXPQ9wQADRveahecpfwe9+vi/0bpsSTsDT9PLQdN6bDh//G5um2vOtW+4L97WhYs2Ckw8uK7NbWiT5FSmA7zyLF8CeBxb8W5mwfMZxyKd+X80qNYOVqDE2kkASXYZKUwXDyu5im45Pa5a0xyyCfSTiDHaeq3KRZn00//SUJ+HtWxVswtJHXXwwz0tOLhmQV0qpmXhW1LI87cSvkiGNmgK/vvfcnXrwcgJel5CaYPNVsD77I/LspaqfC8fMWx0MKVY0s6zn5CR+sWpLNooTh2BQv6B6JirlHKRFH8xadhAAAAskGeqEURLCv/AAHxr0RfroGwkwrN7Th37t9AGKACcmGlK/JPPa0HWxuUAI7Xn6sxeyqlOQW6T3AG+1oHq452JGCZ/T9xK7EjDZ91Q8llzq2Vxc4Vp9xewAKeAvlhPkQNWdFgVVCc6Eep8Dd4m7vOFAarNiyT7xwM58Oi6txX7ZDkQmrVF/vqXq9mvbeyaLG/e0vKHfLykdCdOUWsaW+jwXX52ByndDBuANLqh7KeuH+xs4AAAACUAZ7HdEJ/AAKOjGr7sbYH7AE7IKAw6ql/54AAAvkcNld954Sf+ULJXHF9WOFx2PhylZyU8emUosS5hn6dTm7CKaV7patRvJwqRaA9DNh6WP20OwGAf4ogCyiR1ygAleARITUtat5prihQcL2zpUo0GQb6kMdUmzocN2kIYL9i2467vu/OnWZSmngqEbWYbZYtJtIEtAAAAJoBnslqQn8AAo9v4GumK4S1QSKI20ADsCRVMgOLSV7IBLCSS0wVH1fOG5hf2Eeo/2ggWcSS9ZxuY4q0DquWKdyoxKu8C5aMP2kvKZ1qLr3oD+0ZFtXwk8wORSk4HerKbeYX53M11QTzVgS+luCRCYQtj2Rk4UPcFnCEPK7XhkZyoCJTWrIyrBC0qOgwIUMp4FjTkTW0qXg6IdyZAAABJUGazkmoQWyZTAhv//6nhAAAAwAAS1M5ejA07uPr6AAuwfM32rYmXnMGwzjDf32qqE2ujbc47IlGE1+JQZJJPs+eQ6bG8CF4VPgmehc40iS1OTO9AiDry1bzrJ5S73KlRprpPLUX6efsGWmsx9VLIdmjNA0TEYaAbu0Mt5F+ZMkFdb18CpxPEW+mVfZy7SQndK/BF7kjmEGSKcQbnncDov6+/iwTsokArhCpTjU/oICK+J9gr2DIsq0ZFf0OlxBgnRRa00f0CwdOKb4MGxUQsTaxXhsUvvs8aJCXcOIEFY/WAsT4DSg+o/gD/Ae+x+Qj32IfgQGVR/wUmvuHAFpwyDQ25ca+1UDb4UG49HUOFrsn5MAYhA3SbmACLO0FWD8VQjDu1kzQAAAAwEGe7EUVLCv/AAHxr0RfroGwkwrPTcZwP+oYqFEozFhxABD7fVxKqKfiateDREncPe+c6DTO2xbB5HPhO+KbGD1wI3HWjc7rEwoANbepPEU2tS2VHEdYeLm7cumkZS4++RMJwHWLi8lq5ItDK7W5MZ2+JQDF8KVOuSZbQj7/aqt59Kb/Vnyd8YSnCm4vOt3TBmtbLOAZ77q1bgk7PeBdA8OkoLdmImVSG4XtBMUf0xqawM1cmIgyILt4pePOWV8+gAAAAJ8Bnwt0Qn8AAo6MavuxtghwGhJnZra5AALtpe2/eeRMQ/cU54oSsXZWKhAewzdfmH+yfdS9tIOfZ7mY4uWcxuyaJLa49QxV3DK0OLpZUVBTmpiUDlwfvWhwG1FQ8bR88opz1QNTvlXzPJwjqWnTjmkpLaMVsDnJ/K9b1NqR9dF67cc9mi9F94VJnl0vK1naCm4M+ac7XHTzguAA1Qrv8BkAAACDAZ8NakJ/AAKPb+BrpiuE2Ji9BBZbPRuM3SO9u8VB+oMfIAN+8mftHbIWesOCzOg1+Ehwey35Cc7rkC/zmwtNf3tdpEfH/XjGUf1qMXWAXddEX3lv2fKeBESecGFAVImUXK41e3Nipw/i52tVt9KZLOhew+sMr7VmHPbDYqkkf2ihfVEAAAD/QZsSSahBbJlMCG///qeEAAADAABNum9o5vKHow4RMCyQAcu3/4RwrlFBVp4Wo8wgDkMs1/tx8nGFhLlE9+8I4WyHzQgZULSOJNSg5kz7cxIbP0NmegH1Ouf1WQ7gQROvwfkQxy2fQJRm6w0OucHu+FybUoMNJ2FFsDhf+X+Cix1MtUdlUKagYvl7uzlJJ/e8nqCmr38eN4Csij22YZ7iospORNiIOj4lERb5MdXEnRkxzzARqi0hnFOg4Oe55ZofGo9QlQKQsbZ0/5kDK/5Nee5Axomhc+bnI4hguecEd3l/xi/963uKhd9MfT+K50wDSuiosQ/6MttHNyGT1AFBAAAAqkGfMEUVLCv/AAHxr0RfroGwkwrPHpJHRAJpPkrS1cHlassOdFixcl5vXKVqC5zCEd4GwhU/Wq0eE9VthpJKjs8OZYCNtvceZK7N4B/j1TtzuCDobB+MM0AbG04qi0Q1gQ5SVb3WFUq2GUOCI692T9GU1TGyrhybGWgjOTPeWaQ1G740C8Kzde7UaYPeZcjdRIYCBySmVEKfBJEMZ/Hs72MudR13LiPcoc7AAAAAngGfT3RCfwACjoxq+7G2CGz3eEdFQo3JEU4ATTyeucGhWCtS+P04Xxm8U84rdKFpPdYM+2m+nFuWMv9xWiEeP25tXktJKb+EGoZwSZNagfJ6yTw6SdqJCHBnigoVcYKI+vXvAmLUEccACCvG4qplnXxD+U4U6t5Qfh6ajaI72uQnMCREcA21XFoedn2O1u/5ULRV5NEFTSd0gP2WOlHAAAAAmgGfUWpCfwACj2/ga6YrhNVxWOuTW89/QyORPyOV4EnODAAnUedx+EJOJMBZp5/TY2ikq2sjIm9Ue/omZoa8hxyfBi+uMEMVUbrW6yLCd1CcpjgkoM4W7rgIm6cbF1y88p1nQggd0x+z0eZg34I3Q0Y7K+KRpYJyBM6DBmrLMiSCV7LJudX0T6AvPs9tal1/dRcoeN5JWKItRIEAAAE2QZtUSahBbJlMFEw3//6nhAAAAwAAT5TT+syJQ0gBLQ/swm0BGA/EjsXAf4mnGYncaoxpt05+ekBixzDsiPyldOP8EWwA2b+E5jI75qfzp5EQ/vv1sOZMr5e1Q8CeWVboJNVo7wmRdB+wiJM6xCKxh4SX5Na8D5NZKiemaZMXGTqi+JwvBJ3wZ39sMNqCOYr0DQNueiKpA88ZdDss21dfvCbbiWGe28C7dALm+G/UmGoqoBnRjCSzSHsjWYogXT2+qVhRVakh/m8oaKh37GmMxRItrg64omkkk5wqghX25udBqJKYtxHVpzKl13aaUN8GIfzw1k3LYVIlg/ZLzshRBNOIXRnMr7gy733VQfw4F2BswYq0gW1j7U4UfggfiC1WWQK+G/ypKW/kxPa8iU8AH09ui7+HuAAAAKoBn3NqQn8AAo/m/eLlRXFQ2tv+DklhgOqg8yrjPkwAHZFb9XqefRtz9Y+3Er+KuadMelP1ZVAAMe7rjXMnXLsNNMkPikqHBOuhENG/rZ3eX2dAxaqEtxq2R4AbLm/JpQv0lXjdjc5B8EEiCg9TcSoPbo3bIMm1ZVYP4tOM1teIWIwitXLgzcKu8cUUlgxGQrY9hc1F45liW4oq/+MTrq8eelTg6xyO/k+OPAAAARZBm3hJ4QpSZTAhv/6nhAAAAwAAUesjDXpMgBZFRm5Ri2dUmZZx65epMvuXhVDzWl9MWWoP64S8UiB2cIVAHZffrdBblxMeMapBlZZzXKfGkYjOL2u+1ul6200JzmaC96fliLFtPwKp0p400hDCA+jKV7V8Ew2yaqhezZL62koNU56CwYt+XXq0HPoT5aBlehiIOteOEOT/BxCYe0f5wIq0ZkQN0OC6C7XnEGgo6kSRMh7mtF5LvuhHNZP9rYIkSM8DpR1oFyddpQanuSfgVFb7kAsgXb1RfrrqjPScM93ykpzfzXr13Pg3JmCg/fejNceUY/2dMgaMrEPXcThDNxGmw/XIfRhbQRjGaG/s5dQzLEIDFRqVwQAAAL1Bn5ZFNEwr/wAB8Y3YDXrDIGWlOIhhP982UUAEPz5Jwld/ewdsr86VHPJvgPOZTDK11WN956tvOi3xGOORhCdL7Ng/PCAvxpxcAtSYtx6Wt69t4zysGp8s7M6YGpbhRWYnG1+DU8Ac98VWJbIjfkEF+ACspdhfoluRE/yrN55NczlC/YIfKq37HiMOIS4tpYbJm5t72UiiVuKQ1tGYZBYUSlCwSofETMilBsmc68uAf5aSPz0ihuS8+ZsjXcwAAACbAZ+1dEJ/AAKOjGr7sbYI79AfVk/XYU0m0NQ1iuHYHFxJABz836wKwGm4+1lhwGmbk0Bvn1PLiKb6iWNFSNWgCsC2zp/YHJk+vffBUbjStfVDjQqPqUujQndwH4NvFfp6ZS4pxzqwsfCnCmHRlcjFy2bruJQBEKW8hjupk75j4jTL2zrQNFKfz4OSCDPYOqjhwdKBTeZh3trGNmEAAACUAZ+3akJ/AAKPb+BrpiuFHj3m43q4tF0uYNiVh3pU2gnmTSTAAPDruw4BOd7XvuB7hGetuuEARmAlFSzDRrC4GzU6kS+J4qkYSLpOUxwhekdQMItRJGI3HUFVBaB6c+kV6v/AriHaMAnZEqHji/0yA1b2c/PQKDCUPrfIvGYD6516lPKlhkDdrzp2gqsZJYfGGJeZVQAAASJBm7pJqEFomUwU8N/+p4QAAAMAAFIPACg3SAEuUZshLRVEsMnN5YY4EglbeRk5z8rN7/1s/ol+q1tfseKfxB1c0Dxrfh9j1b/ezIL+/AMSU1YUG69aFf1vh5eEuGgwBtZz5Dy3wqJrn/ijNyot+v6Wcb8rKPALnaOfO9cz0dftbx2pU+in0e0KZ0LyN5eQBsZ4LZ4JAyW4CNY1f8wCLUnqCsg1SEbpccpFc7xeFJAqlTlmz7WRqyHHACVJqhx1m9JlgSr4dtG5LDjcSI7H6Ap4fxz5JLgoZgVZcfEVt9osDCLb7pVWTB9H7hhjEFBimrnGvnyYo4N93A48J6UmOmW0Iu4On92AjhgGhmlpe0MaKyy98Qd7AY06TxauQqV2ZZuW4AAAAKQBn9lqQn8AAo/m/eLlRXFQ2t7qwNekGaQdofcYwUjKw4zsXuc1gAcPHggmkGMM8GlrcRv3cOvBWQ4zYs+XN6fJORSteGLzpzeovsr4Mq+n5+4NqHCsT3jGrC8h18YlYVkAqbirsboZR3yQ9Fk7cpCsHOof89WDH5VrlykhYBzXWt1gRvA5w4JUD1HLy25H3wStaYDC3IMdrRkyZ+OU6FFWHzDZ8QAAASZBm95J4QpSZTAhv/6nhAAAAwAAUaE7j1+8aJMskY4SAEIImcr2sbT0iGUmAfojnk+ACfIxvq7RLbI1pdGB7ESc/v820J5DgdwcEveUSwXRFqOhlD9bCtuyiChVDsZK9utNvXuqiRCwHpiCDuUAYktfueYz43Zh9edh8EVaJgDdkaLUiKnVYVeEzRrf4ehCJOdNAVdJKQOLfHS1K67ay2Caz4N/dC/kE126YnnEea76Ky0n3/rLMwCtvhoFYAajcjW9R05if9QasBDeNQowGfMpmF0QZe/uf0m07LDy+ilmk5zXFRqJkMO0gWXdTBrD7JQgN2h1RK2ybmVPWnlTAtLleIwnuZ+GAz+wmdrNZaNCHZS1HM132xuzqdE6AUQjzWVWg4aY/rcAAAC3QZ/8RTRMK/8AAfGN2A16wyBlpTgtuc6L7s+xIANqO5PW+o67PXY2nJr93QZ59oVFueEIpBf3HJFZPOE27teVvcguWPeTvWZYnCN3HlqQtMT4jeQR/E+EWVlkNtAFaKPkXnojQfG93k5Y+yh4TZpS9nual9i2JDVfcxn/lp3IKApljdJQiXgfmLweStGXwT7USu/A1mkJBJek7nMg+1u14CdmZzor387+HMZe/hT8/tXX8nKT9kCxAAAAhgGeG3RCfwACjoxq+7G2COFS3eXSpNAAW1EkOlKq1uNdr3SBVx5C0zJAVzlVydrqEAkbnScEWstH+qpHIhX5UR0HWmOiZ3Za16EoM/hTxeN5Jlp/CegHcKumf3uTlJ91U8dg0+TfCvYDCayern7euKSihwH5M7t+FbhQbSsAOrmP/xxnrWSBAAAAqgGeHWpCfwACj2/ga6YrhRjfBVUeSAAvXC6JXj2OrwSpiPWngjE4EWDWRbQ0PoHwbxoC6QqnDOZ5mJQCdXn/O818o8bcPuliwIZT66E10tuPCU0Exx8in5/GpvVgp7NesrD4UFKIUkMVIXXBt+7iFG+zciCEgDgK1JQOjcTVkK19Znfg3QNsB4s9Re/TInQ+IUpj+K+L683URhtfFmGaJlEcdris9uOxwF0EAAAAykGaAEmoQWiZTBTw3/6nhAAAAwAAUbGMxDyQAbUHaBRYlGp7fosNJd03Hj/o3V8vtOzSHgUGTAk/pYend9PPm2zq7Y84eTVRE8N1H9+d7HifmCQrzZbPaete7pTjITaLsw8RMu/5l24v8rCWTbOOpkYSOFQ5PqqF6Ce5xEYIa56oBBkkcV+JBCH1GTItOqGgaSKIUaD2YWc66CuXqZnx1PTgzX9sG1ARQx5ZJnj6ctdocpFsxCLqFAiAigroYj+U7h6oVUp9nfvAGYAAAACTAZ4/akJ/AAKP5v3i5UVxUNrhfuMLtIOVznTz7Jw5SLmQ3Ze2VCAAIfH2YfVqasS0BzsJCt/LzJQs0tDCFxqceRdmmNiYEjv1pTUsrSfPl3Rscsk4tPFhAXAx4h2PRvi/PN4332scbClxRj+a54vmXpSYd/xcN6N58Fo5K9dR7OjG+dH18yA8P3ku5S5fuayndCAhAAAA9EGaIknhClJlMFLDf/6nhAAAAwAAVE8rtQBbroRl9Bm9AAh+tB1y2rBzIiHMCnBS+UbaP885dNBJ4pQWuFZfCMdRFmL+WQznt7kedjsS+q0Q+FkgwsFC9QvI2DKONPM1az1uaDp0fvaD+6Ma9pSACxpGdRqo731/4n8w7W6DEwBq78HAp97OdxgVR0iDjwg7h0egl9JP9jClWDtZqqL9SCihmz92yZNFiqVG9+T/Di9XFXDgkcxINeQLm8kLNGQT8cs0iEqorEYPOH+nYc/s2pgj20huzDYyqzDb6VVdn5oetOu6EE4GtQfAo1qbfcut2ppmK8AAAAB2AZ5BakJ/AAADAABYvMVpqLQePAAX15bbWk9z7GdkAYP/0jf33sO0tGmjqwbzNvRQusE+9178BhwqIYwrHgj5ONcO7ZPnwQCNMOfuEXGwLephGzV2Qr6LIkCnovct5DyFWSuA50ZgVpCzr2XN5t6N5oWSnFFlcwAAAMhBmkZJ4Q6JlMCG//6nhAAAAwAAVFWH6Wevl0OgQAJ281Mr+o7l9ofzfSag9m3Np5uRXk2FoaN3zJHRXeEv+HpBte2xatANKC+oH6I005+Sw/j2TIyPpRinc8asMPRapghPR5oDGGoPv6SBy/OM/XCbAJwqyk0KINnV5I0d4E7HthNn7h7Egv/N/d0ZJsbEkXzG0bUmGGvkyxxS2g2humhLq2gLiDCXw1FXWm7+A8TTHLSgwfLrbgrOxFirXAN9xBal3F2ilVTeFgAAAIFBnmRFFTwr/wAAAwAAhtWDw//HVx4GoAEIyX1JzhD0RPH2ct8LD4hMQsrqAq/K3Goq0fZ0tvr1pBtfQhEE8vDVf2KFWXHKZLZbmsV06TSCOGlRRMl1xlq5w+VF6E989tjpl7pHOuYT0aGm+ez3hWkgZ37vrOCXWGDZl2AGae5S7rEAAABuAZ6DdEJ/AAADAADizITZwWtpjNeAAc++9NX3yJeXTct3mBNrkvPxt10lhitOGLDHPDF9QYpZQV/Uz8fVaL480tuE/mzrIA8iN4W5bKhXECWNNCS3VmWhV9G+Egu2BAF3HdmpsAkXm2NP68FGst0AAABTAZ6FakJ/AAADAABYooQgAlSRB+KK9FaH2d22oCVHxlprtE2e35aVP5gWebD5ETP0MyliW6ABl/TmKu1duaQDIxbBX9sNXQsBXf5vNGQrbpAYg3EAAADFQZqKSahBaJlMCGf//p4QAAADAAFI5lzvpvp7PgAdoe+pQV5QE/va+Apuci1rBXOHICPykgmyLmE8B0BS0+R71bcKMy/Rmwyoof9k1RWIbWEJ5CqqWMwqkZYQFCMlgfnEbMa2BVD2TOulhpuUNYquy14/F0Q9L06/zOYHNRbVuGFy5tfQykrCOJRMh2FxOdncyj/7PQuvQMI4tymBF5fLAGtxNDI91sWHfrpDE57GDvgw+EO5D44rc98WP6p0Q43ngu3elC0AAAAsQZ6oRREsK/8AAAMAAIcGaUduBNYh7+sckAH+6cCkUU9OA49KJ/ItOf4JcJAAAAA+AZ7HdEJ/AAADAABYtKVeeADmit2VBwcn0RrY+edQ0RXq9eD2w3cshSdlngnUSPK18+JQC940ztbFrsS9XqwAAAB5AZ7JakJ/AAADAABYlBQsZH5gteAoe54AOY1rYSUZ6icKS99x30Rj1gfRq1wtUozGxNeKiU2GcOsTV3FJJDzCfwkQUuT8TGflruBrJ8oj2jfH6jVRgkQyPBDeBymZSsagiGLxGY8twOw6unxSvj8iWQgjEHrwxBLeNwAAANxBmstJqEFsmUwIb//+p4QAAAMAAFILU87+qh6QAZd7zOV7KkKMtpfH0+zul4SK9sCaMuDMRKOol5x8ITYHzbZ2onUSNkDPhEoyTRzSzc6QvMHcXyV3tl0ZKW/HL0aTuReb6EflBEp6Y3IzHgOypNWXiufE5BxTTW9M0YacoZfbFYF0RaJ2LoIruTOb7Au4Kry2fP6pKHUTjn7/95jxv1vPAO5lsNDlAkF+eG1FkOzB/Wv4X3k3snq4HKzl2nzwJNV7ai9syliB0h5ZQaw/RU7XBmNmbS5i7820fBVgAAABDEGa70nhClJlMCGf/p4QAAADAAFI5lzxObZRPTapke3Z/AALeGbqwa396EIRgbUzUqR23OmOdLErmQk12dSnePl83vvJGqMkkCjiDKko94+HQlFhPfFcQqBaKldqS97bRG4ecHSepJNBX0gxaO2LJbPe09z1qzgMiBDIha8Uz55wjQJ0eTWyJxkRLvorcutRneeCi9W1mKUAFWiFXuKQVjQBR8e1NNqsEINqQa2LUCrX/4enOBjp9fsx+HO3Y6Cm9Vn2RDgtcv9W4ZUHX989rQ4oN6rqu4S12Bl968deLZgplammHBnB2cesrofxdbzBxZV+P++pngnUgp5THKpb5Pnxl+m6dY68rF3eHOAAAAC1QZ8NRTRMK/8AAAMAAIb6yOMHByGnoPcXmzZDX9ABBeMNvyTN2qprnf2b9sm+7x83R5D/HeV+5UnEJLPozJuRfLpEoKlsCNZIk0pBQTF2hs5a5Y7k1gxwg+LlimXnqlb8J9c39yEetOPEpL0sM/Jx2np68kDlFXZ/wQ1+lcHLfcvnbn0hrPYL5Qd8cA7zpQQt8KZwV8Ln3fslwV6F0poaqZpBXt2DvxkdSksb9VH7y7/KwW490QAAAI0Bnyx0Qn8AAAMAAFiRS/KfK0ABfXlv0kKRPk7/AmTzoJ440DnVgbOhHhu8/8e4HhgAA9DhFp+mMlH7qohjyoNNP1I05qnwKQAxbB8zhcpflVUjSWFXOP+yHIm+85chEjw17yBntCQcZyU35ft0wyt6TSoJnMOJJZnlrGjVvhXW5Dz9LZoCT9J6T8/Sd/EAAACaAZ8uakJ/AAADAABWaflda8AGxp8M+zn44hxgOHRPyK1OuC27akSI9+SaitNlJhPPash1vBbNM5AgKAyiPp1Xtvet2i1p7V0HuO97kVZaZK6W5b9T+Of5nnksEzwg8YbQc/1uXtQ4swtoi2kyBuKzaeoYiTYF4PE6+tTl3XEMVidBVJ7Jv7xhwKRHCckIAniaiLDNs2MU/wTI4QAAAQlBmzBJqEFomUwIb//+p4QAAAMAAFHADbdTJ9EUh6WgAOy8sbqcqQMDVz0pVd4XYabk2kLaO+JEMvH3Ci8X0sJX5sYShEqfAydT7uhulhsjleDhQZbawYprgyzGqavGE8BLg65EMWUhX5dj2qUu0KJuQPjWXYflhQeCpQUk+6OhziOatN3dOXyCFa0o04WDAU6HMTf0ZGHXes1VWHpYvPIf7AH9j1uXk87jRvxlZycKWiCcGVpZ5KbM9STQmxrOedW5s5757W/Iboyc+G8V6jnGBc6JrtgG9GuZsfS/DjIdxxDHf7zJy/7G57U/58QCEEzAzn1yygNAx4I3+QVo/UdIspm/sv9pnOuAAAAA/0GbUknhClJlMFESw3/+p4QAAAMAAFI94FX5wdrd8taLTkYxbwlABT8Zn9fjZ6kZBHpWvFuJkBzf9nsDVVcVqFdI5Q4CuYiJ95Tw91no6d1Uayvxw+8zl9Lnwryvni6gY8gxfuZ8TsMIGjK0BF11h6F95/xQonIZJqRBvUzD6/VzXiKvQ6iN/QwKJVXTcWHIuWguGTN56Fm1AK8bk9V0UUkBMMbRYxAJxFiofisAaGGvco7Zuh57zflfcJyaFtg8pl89BKa8+AWoL4321ndIOpqxEMi8v48O1rWq/k6BGQjz2pOmvAoJlKjUIp3AD6s7nJWsqYBMCpZTxg3evO5bgAAAAHkBn3FqQn8AAAMAAFZY8j0UxNCr+iDWKH5Fg3IDgJoCrS+xx5y6tXXAAOfa6JVyTFGWM/Lr8et4fiUO6DIBm0zBA/JBDn7w9R6jX3SiCJie6Xew1CdF3sFFbSU7raDrLQbln42L43tcA8Hip0pEhMSDhovs1BMCMSclAAAA1UGbdknhDomUwIb//qeEAAADAABP+Zdo5vKHn24sn0ZM2wy9KXS+fCFK077w8ynkBrVYYcRACoDH//X8BuYpA1xiSrgrCkv2uCqpPlcOXA8SduDILjMKihK39eaIlnnHohgC39/I3jvdRphW4J4k4J7P170rCB1npnDsbs2uDa+J7VknQnXP99UWwNQEkclu6Z+wfZzk6gdV7UrS/DWP0HJyDuFObPe1cHF9Yc6R9jaFSAbBks7YlMUkYQcx06jpGrQMHKZpDO7d8WcF5ah9sHMQfaWYYAAAAKJBn5RFFTwr/wAAAwAAhtWDMmzQyUf2fiyVsierTIAKLDrhMPQyVxhxOGfUJf88S18M5YZhZ8x0SaogqqvM5TX9odhRWnjBimQYNKZXYw14oSTytvkRtTgT9mH+FiNUUhYifHTGRGMmgzi+iqhVNAmnfh4CH8eav8wHkT28GG7nrmlrUdWpshVkzFWXVXeLn88Gu6pACXn8as7pm8pijJtGQQMAAACGAZ+zdEJ/AAADAABT276pqnd5tiErXyw+M6gsr3Vd3inw1z59gAHHePIXdoCZp+XwaY20iNLaVeOLV3JKnjgWV3OcqfGoR7jikmx59VJyVHP+C4lb4GrbnYXwF4gyENnsGVpkwyQvkh6jsnMN0gh/cRU78xVx+YDF270ekSwb1+8HVP1qiW0AAABiAZ+1akJ/AAADAAAfDUKWONH2KgCljjRTWIjvHHA2JxpzDgA5wwB37+Cd9GNwWpVpUlsdNGu3jtWjyAolvRjXC2Z2PsZKWybFJcInkSva1S65ydVtOI6W2vWShyNd4omWToAAAAEiQZu6SahBaJlMCG///qeEAAADAABLSNVp3UwV46i3UX2hE1OATStZr/wLpHeBqLddlRagec+pnruQcvtvvtiwBj9FMyVuyFfQe6RHiVI2Av//GX1+HIdagodHqUsVReEpVsCSAlc7IdAxDQl0ZitY/0kE2xxlCVqFiOCW8Af9gJpOkVOOUCzPKy/Z36oOqAX+y++PyiWacqcTI+LQfaUbqpYu9GabmffTw4o7ScHDX5dJFY4VUXqketfCiRPqaldYXsACWdl30oNQnZa0/S73PtcJtV+MPWf9De9gsRHDw1J6nYHEKHhojW6mIJFYVSRglQVwEEboGxbYWvJxVlxxQn/7ZVNd47OzB+Vp/7+PdZQiB8NJEBEfFP8818Os+8c1EMEAAACTQZ/YRREsK/8AAAMAAIcGaGz7hzIxIc9UGHJ2EDO6eZPYVxYbMogA4s25dOf+Md2ALdieO67i3YGrVjs/VJizJ72nQgT0UtmcHlD2h6XRjuTWmw+JcW7I4JRcpKASUFXa80WpNnBwFGHQON8M4hbmsEMy/F4Gnov4iTCShcbkUhfPDAxC0jrpVB5w7bHOc8jnO92BAAAAmQGf93RCfwAAAwAATG4wf/TQAjiUIiUlg3lSQgZu8Pg8BK6j4TTI6aR0emicuhLSY0Rgxcg8rplHXr3MDI4p0Cs5ZOP2903yEkV17EHKdmdgrIi20qHefbUbdBUuXucpyJXbI6jkcIK6vsS0yAeL2hqWJfVEuyQeQj0xqfxa0+1wqQeYb/H7uC96e9uUQcKlOnu3ZyBevcsCSAAAAIoBn/lqQn8AAAMAAFH8yqlKO4ouEIvZh5ZtLFLF/B+Y6dVHvO/P+AH/IATVxKf+dTCidHXnqKmpma2E1cOa0RpR/DwvFLfhD7lTLtFO0CGQDQg5iLHPC2kfZ82QnVzcdrGCyU7488E5MU5FbdCmI9/PcHE/YkpKQ1Yxnsow7JDW1ZVHjEWgLMx16VsAAAEnQZv+SahBbJlMCG///qeEAAADAABNvkWzwC5aJfj7C0SQAF1XJd1YtI03gp3RjXNpED1aDHiYiV0ljgLaeA4X57q4HpC5tXz3ArBMgrHcAPbiSlixxiol5mcutwhhd+q71mduPNqIjYAhANepdaItuOICTCJ5KverDyUdX8iXSQY/l+aRlJao02amFz8ZGHBoCPRgw1CEPE61JNjQll44XQUzaFpIQmupFIZAl+mrE1Zyvuz5JvDpbvjYpHNjaQig8OdvogMFMjxZugsSNQfkCSRx4LDWn0FEzZ1wAIIlE2Y2gNI+CkAx3mHSi95W4Y0qQ650IsULLOFNW3jJav/kVyJU4QYqIIA7z47gJOA/9lGT0wxijkvrAV3efVbyxESFc+EYS5CvXgAAAKtBnhxFFSwr/wAAAwAAhwZoahJMhzJfKAEJz5K0tMybWVX9eFBVvmBJQPoMYuHroCm8G25kieoy4FfJM5lv22nicrLh8DCX6b1mWHzlrPyNJE2/FK/vTp87AGHoQUQIuFWc2vfec196BlSlP8xHqqqYD4lmRM0Aj+O2BOOXg+7s6lUv9Fimd/ywkoewGaaF6AvbTUavXAb3VwYiIwm0w+H/2fiy/ZcOrZNyOGEAAACBAZ47dEJ/AAADAABR4sH8YQ7MhU0m6AAfoHSCLNXA/gKoQ6rMvohb38NvSvJjrbLt2CqApSkexgyLwzvQI85aWLPFdR4AOfTcsPWon0cfPv97t609Q+OafYEXwHGLuVW0SUaTiJ4IgciAda5YlU6fyhY/fOAB45XxnS6EZlPNzlWhAAAAlgGePWpCfwAAAwAATXMjYz5RBzdtL+cGY/+8fN/uEADj68CRgZ5ZALpF6UGB5Sntcins6MtImmSfL8BJM59gDfqqX+KG57FOnNo0aaYgIA5UezrCmbnrq5rl63MdCJL6ekBlJgFAalNVL3px2aduJxLCoFFragmG7e25O4Eb+R4KQ+u2195Xd6I9swmVhtm9/kkPYYOWaQAAAR1BmiBJqEFsmUwUTDf//qeEAAADAABLS+bgDmXJd1f8OH+rCEzdxIO0Njic6dwR9l4XCtvExSrJmtSXn7FFkwwzxXFiSptx7vcXuwBM3EB1X6LZ/i76IdUmo8WfTLZeQqCGFXU4Ydzh0Oum5bPRKHE5lz45aSrsr2/5sI4fboodtz4g7EH1FYAKXBhIhLzSQoy8kfuvT98vOtrYS7M15qklF22WDYDr0mYbPCs90yXU7erIHOn1UkFrUo4n8i91+cqeH1yZ7QI4dmmEBooU0Qv2O7/ubKR8VXLmoH9jQyTGiipS8jf5JRpxUUANyJzQg+tzk+XuGpydtYIm3Br+ZLBaid15GFTbvgxsuzV9648NhY+FpdCwb+jVsTUHp5wAAAChAZ5fakJ/AAADAABPmShh9YAOaK36SrTysJMkQhZ6023DsX4mXvQbY+tgzttbJbGhayOCZarskrJBqVIv99F4cG+NRynCkOgYy9f/eUtJXhAEC5qvb+dhQjLx/J1eMXIcdfydUpE7BqWetqqAD2Z7EtHMMUC5B1Zyi4+FPpdDUcQ93BWy16A9Wsx3EZC929WOIFsrMpA2jtXHuCc//a7AS4EAAAEFQZpESeEKUmUwIb/+p4QAAAMAAElL5uAFlcu6v0RC1xWWh4X99RtIr1uYmQ7f99Sf/YfwpA3GLDv0WkxbcNVENHOKlLA/V84AuNUC5dmh7NwNnn5uMOO6WdsMpJfKpFXS/8ya6FAOxJ242p/XLN6xcwNQAQuz/j8zI9wQPbEJgvlcZcq4xi0uesq1cTMQHpEqaXxbExKgL1Hf0U2X24takJpV3ZtdXCXFwpZQ3E+7etmwOH0hx40UXw4PPoVJbTmfI3KdrkeHoXqG4tC1fuBeEr5etzllNKkglHBUxmBdQH6n76u4vq4Dzi/afayNhT0kgJW0H9rs8uZd8TQ4rxQjDNwOWBdgAAAAX0GeYkU0TCv/AAADAACG+sejKESwOYHdSYw/eoAQpujWsWX6wuUkrnr0D+S9Qk/FRW4jwenhVXJFOwKpqMsW6MunRkkASLl+HaqBSofU6JG1teX8vh/UTwnF+t7gOqhjAAAAigGegXRCfwAAAwAATXxyxuM0KtcADs/vyyTd1qtlue1thPl1h6Z/k8i6Dk9zjx1ZH/jKSFm8Ktk5hOF6M65wIqzz4XU++9EBFOrbQM2DSszChf63P18/DXuG4XJrawMCcGrs4d7Kilk/WaTpGbYgO5s/j3YF+KjxqjOtjRaSquoZ2mEkxyVMvH4MIAAAADQBnoNqQn8AAAMAAEt3AX2uVzwAcofvHwbLcE7xjuYc5KodQW6UicEZ9APEG85CbGUdtAKxAAAAd0GahUmoQWiZTAhv//6nhAAAAwAAR00HSAEKe8zlZrMH+tk5VgZA9v6GDRBoob1/T5pSquBi9WsKImnyf8z/HjSa3mvoSqv7Lr5nOa3cSh+lapDTXf81Mg1V7U5Ymt1s+kXo9SNG1i8eXTY+t2EP3hZK/iTjunvhAAAA9UGaqUnhClJlMCG//qeEAAADAABJS+bgBA1Wa/NaQVJavyrBFsUHVSErzdGHib1uYudQ3/Qn7W8XrYWz8gLWtGyC7qx8xJAFzpQv/lASpT5IRkaoK9AT2Sx1ZY/BgazUsI9frA09eBtNVy/ubgTX6Ve0OB0o/Pj7BCMTN3ogcRY4BILWRRncYXyN+awg9noUttvY+49oIzvZJq+gP/LY35zysuRCqJsZafe+AjT55J75DipW7vEg5HSZO5h2tga4scZojKyH0HHLwPMygixlTY6NlTV3aHsO2j5BzewtX07l+aAY4VtCYaan70AJtiYMzGlvz1c1AAAAJUGex0U0TCv/AAADAACG+semG2/ZEUxSJuMDTM6wxVu8F1Qx4T8AAAA1AZ7mdEJ/AAADAABKbsD2+ADnCdX12BPE9bbLm6lRx/JU1+vZzc/6k2d8naQoDWiqWOyNuMAAAACHAZ7oakJ/AAADAABNYQopM7P5FgAcdahkA+D19AiMc5I+ylwyOadRAviurwg8xyO1xI2ruDldgwQ+yckDQvu3G3M0xjLUn8NH/m8WqkKXNwXAD8IEFWhCZRZyJM9OmR23hwe+mkDixp9JV0xX5e8hnBshoYuZHtidEuvGrqVMHDCBypMPSo77AAABHkGa7UmoQWiZTAhv//6nhAAAAwAAS0n7iACMjdNIiQMGaMtpPt/db2k567Hc4xVzAGACxsYSJKYTjIAM40snbbKgo3eMi1Di4E07TboLBqgemYptrz+SzaqECVaCDGnLggOagtApjmrVJqkm1aqMb8le8VIVlOhFjp0ype/m3he5CMlH7Wih/rg/Mmr/Zs2etkur2Ta6Br5o5PpuoctdYtArSEloDqHCdpphvs1R2IRTekWpHD4xhKq4gpw86Vs2rbCJ305LFvjTjXDmftnXdBTYzJGv/iPRJSFyLf5DhDVnuQVBZNZExwzNPqhxMW9QmOfommCT7fPNe187YBWDZ98U4b++UCHoAW09FC5s5Izq0u5HT29UsKjJ/qAHBk8AAACWQZ8LRREsK/8AAAMAAIcGaCRy/v1VvayhxpVePgPvKgUb2o3YJC8lEUw/2mADlQCVDiiA9nTm2Ob2qV4gJnGBi+GTeearZvlTnXFLcGH38WR5mGoVZlcIrxfx4kmiyr4EtCVj0DVxgC8lPbrsuYZGkOrPZNLTmDeZitzfxDL0ZZP9tRAgdW1ipA2X3IFaYgmYg2hgfZngAAAAjgGfKnRCfwAAAwAAT7RdiwesAHOHU6whVO3yXXeObSa+0W/cS89yVLC+6WWxmAln6LwBUhdTSW0g2hSuHWevoZgDLC/h6zL8OAcgNbFtn7M+vqPN0NLIxMT2MmgWao20Jf2rFmdYfkaBADCMyIwy406kL6KWrGNc/gSxBb7jSsU8FXnvfaY3VCaWuiFRpAEAAABxAZ8sakJ/AAADAABNO7sFqXgBzPV1+vfAdW0ADtDqeEbSKJOrF1upRdOe1mRjCCE7y5EWhYl6b/0FoAkgMIrRY4/4MH8P36r+Wa0OGjHkk7hcG/GJoYvGAXsB/td14N1OpW+A2D+FHevVvapFNpjzg4kAAAEJQZsxSahBbJlMCG///qeEAAADAABLVoHGIQ6D4+6KcCW0QCZgP0u4ALsoUQWU7Px/N0+IKozJ63+3+q+RHdsy5c9bJHsGxHxbEXImyokzw+7cAjsAIK4L596wvKxEcvWqOB/OGBImlU/atsmMjyH+686IkauiVhnEM3Qb0b5z6qVmhEeZfXbDwnBA87+xun0tD9ZnDEKAg3L3cEC9dO6dhNtVl55zVclWHDwpcoK8hQswaeyi1kmErKxdTxQycvcOAfxKpe109YxOjhK5gFOWO+SaPstSpS6/+r90uHa/qIFK7tUJGqqduxLSQPtJPX5YX7DbNjXRZ2MbQH2UEBVZaBurfYA+VoH5ZwAAAJtBn09FFSwr/wAAAwAAhwZobPhRbTm5w+MEKQnAffpEtbH5aIHs7zwAfithFmPrHo/RgxVae+KAkQpGBoXh15MqhllG7Ci0HEKlCCmu2hHaLrv2Yw2tkd+5EpuGk6VJz8E3KpTVraIgIdTeJMg9l5rrH/DYfXz08IJRhRqX3XqarPJGc3BlZ506FGz4EwzjjsbvGxtb/4/efyJhgQAAAKEBn250Qn8AAAMAAE1Xif91WsAA1B7K8b7qYdYib+Njqg3IphgpgaY+ufEezrnz5QjSVXfj9iR1xqRv5jVYPS5bhU2rTG4cHjrKs5hCiZZhanA07B+ZZjR93UG8j2aaVB9gNbM23T0fFw0QxwD80VagJmi9BKSwk5o9e4Yoy0G+nW/VoGxES5LvZR64isdtPkv65gXRwN324Z6WthRSC3q8wAAAAIYBn3BqQn8AAAMAAFHt1jWYAnksIAboAB+gdIRVyy4CT/x6mtXyo37SPJW7Mb/qKLkZD+Uwy1cKAZFy06ysPU7O8dtkTMqb83S2k6FdxYiSpzCL1AcVtrKZ1LVujJl68QTXko8XUsXg7afhD8A1YfeS3ha5ILQ0JblhMPpOaSM8SP3jFhM+IAAAAPNBm3NJqEFsmUwUTDf//qeEAAADAABLum9hkLzipgApPD+YmIp4VP+DwAM4ozle3myF5Cv9vOSLTsl1EQtgJ5eBJGc4Ck+xXapTJH5UJ7PPJxt4nJEvh6rlh7kYoiXW0g5aw+do12u9VRyqlkDjy6562Iido/co+sNu132trzfm8xHbIPDb4LYTmeolM9u1QSBCOPVfn2Lqk1EFzAP93vx9rLmoKQ4cGKYEcjZ+A3BgD8rb5Cri5gwGc3uwqhc4FfVmII8gfptVNACutOAIgRt0zaxIlRX8EDba1+Y3mx9rr1ik53MJtJzLUJ+m5KZVbgVWTNEAAACDAZ+SakJ/AAADAABR/NQ2J8tsSsE1UXD9d277IC0qLirJ5Lx2cbvZ8l74Iq49sgCabf/QAOvHYstIHbN5DE9iyaAt03mIBSDVxFXSt4l9EhOovo8D6QEn11dXMHa2UVOzB3iLfxFXC323IHqTfNysxmR05M2v/2Ct3JXm6usul93DfIAAAAD7QZuWSeEKUmUwIZ/+nhAAAAMAAS7pvSrujJcasL0wtX4rfeCAAvr1pjuRkMhuVUnwmqDtp+J82rfx25EIwkg4r/5ip6/3+izOc3bhh/u944NaIH+Uz5flJdPjHQ4oR/ykQuZ/dsivpBz6+squMGjbBYBhxDQVZdkviOxM3ns2Y+LTcLawyoj5uUo2tjZkTF/DnYjALEUqla+YvPVoF5f3//DB4Y3Y3h0Thovx8LZMSrpVaHTw/JPHuLnveuu47I4DYgIVq3OefwaFc+MAgqjT0PMLUR0BCN/A31sswTrMjSWve+G2zlOxV+kPpGg79dXHdXty/4MGdbts+34AAACZQZ+0RTRMK/8AAAMAAIb6yCNXY/3xej+JNPo8qADh7R2Gg4AaL39I33Cc8TSNOyDK0VD76ukawsQVOKsEIZKHR3v+/pfazy7L7ItRF26jYUiMrUhBZEO8ho/ZvbDMumFGID8kzaJqbwQVVCT5RBjSrC24BIKfnj9urwYNIdwciyBCrVMMbOXwgZ48Sm+gpPBxpPL0YmrSLtuZAAAAcwGf1WpCfwAAAwAAHxZ0W4qS0NmDpQT5z67LY1Rm6eU7SqQZcPE56HawDIAIZlcjlNSAKeqLLp76f+HdhG2/DBB7oN7EcNWhyd6oP5NNOSRDJjRhpBQIKDyQ7itOrLlKRX6Qhywx/9ij/E1h73VQYd47/TAAAAELQZvYSahBaJlMFPDP/p4QAAADAAE1kOQAnTKvQAIg9WqUd5YULhxxwbKBck2J5f7DG1pNcLZw9xz3KN0IG4Xgu43gUT7dBqAeYX4+9HOjtMFTToSn4OQsFZM0Rpw9YRseP52GPfPM5wmp6TYFcLbm4kUv58AgfsD//Jx9ljds/QpbuQ/6pZflQ9W2dAh2sUiNeFR1zEzpg2/NCGrlCS+BtGIWmLxoiTrexJMj2RZn1DxFhsGXOHrjfksJNp42Lj2eCOfNBssLbm1cOkEsgqthNyr/9o9snga8+YYJf/C+uSgBWIfE0Rp/ix3d6jE9TJHxjxuCHQEsPtxOcCRWZ0LSQEj6UTkgwWDPOxqBAAAAigGf92pCfwAAAwAAU/ZjENH7s7gBNQRp6KczKzow50jjVWFlxSWyN6CnlZNW7YQvRH9rLsnqzlOWAiswzGetu50kp1Ari6ABDI5eunYJxVhkNDV5/aXPiIZ+dBwn5EwGnD23eNKivW5XmQP0cOweAQylNFuZvPplmgsx7GO6ZqyMffBtKvtLDTkywQAAAQxBm/pJ4QpSZTBSw3/+p4QAAAMAAFHAGDe/DZACZih7pex2jgi7j/2rB9aJqHTiT/Sj7yCcn96jOMMFdFmJBGbIyThAPie7cQOxX5TSblZPA3xkITp9dxA8vS3kxLzfUXMWX/xylEFJZ0LoMuBog6/BiEpJBGlvhwBZPoqcMS21FI+yucq9hiFQYfw9YXYDlElFw/yWl0jUcxJ60edfXGZrnaOhG4h3RK6sCH/4DkBtIOt9jfeTZwKbvkQCpU6onqrEdSEGFNdXdgRnHokzqxrH+a6fkS8dYAQfsQk6czECyT1APMhx1qGJF2Vr1WiO8aVMVjWVMLpt2Tfv0aL1hi+rEvlfK0eXQl9CQcPgAAAApwGeGWpCfwAAAwAAVlFCjYEWuaLXmW88ZIAEsegwvJ/10ILY3RO+02cRmbN2XcWxLa+SjE5Ai9upAgx3JUKcv2I8uGfBBW6EEark4RsT57uIRYQD4npcO4R5XMxh4QEel7/n9F0MBF+/3xIZHrdmwvUKUAu8et8CRWOLzfsFn7qzxUudg/lEEXfljBn2LZO8cKj5dqOhFj1PAb1v8sLbvH9Iuurh2U0hAAABGEGaHEnhDomUwUTDf/6nhAAAAwAAUbETTA+0AB2aAzlfbW5ulA5/udyInRcvv8aQg7rFVu2VHZauGnvnUD8eNK/e3HpFwJb6+VPZkUAAAsBLAtjbubqsiuWEfZg/r3blwO+EyARCV7FZW6fhXQ2hAOINa7YzUXhV44RjhUtCurVf66kxQqkUcl0FnU/8JNpdyAWypz46ehzczyxJTr6AAONwTbthi3vhfluDcqY8tWgB4aL1+9egsTgv3QQ7ijjdH1lG0AKogd9WFT5ai2f63FNkHGPfU1tLQI0qqADmp/v9jD2jPpM+m7l0di5XMmp2JiuTdfapredmXz7C6Y2HkyMYH3nW1MwtAe7VWoG8ajpyeUBNPGrdZ+AAAAC7AZ47akJ/AAADAABWahw+QgADkTzUC1x3ToNDutAXhSsmxziSnk1k/9o9Gj8FMAMEASHwsbZGegpapm+kowwSGO1c+s4/LnGpfaWKfwKrjTLcS8FN1qRMeBlDkmI0ZebCDrIhRPtOBRKLmR4BZJS1RHU6GSwuD17chsDz85u1VRdVt6Tp1VF2T0GCU9rUlrGJOKFuI3VrW30cS3GC6dprT48QC8J5xKHFGncbFHt9ugN4HZ82x4/JYzsxkwAAASJBmj5J4Q8mUwU8N//+p4QAAAMAAFQAF2a+NkAN13+IN9WDycpprfi6n4kG9jWhAaqtfsfQMwq8XANISNfyL0bX9964JNQLzPyOmEVXd3puaFA+cC0FszLg1P4ODMWOh7ToE0PdNcnbl2ox75SuHxUmRN215DwgT9UOBsngqf5HkgIvXCGZVcVs9P7Q9waxny1umdygEVRhsh/b0y5lvS0AIazuaHaSj4Jyw83ZgymIwyNB71Ue6t03AD4Dx/5JI2QeUbhiT00Y4JawPvQh9YZFEIF6snglMhllKFZ6xgu+q4NMtOdJ6zrST1zUHSHjQLH5CrHJ7124k1Ne04d3hDf9n8TnCQ4y4bwrICsMXyvC6K0BwQrIIUTlscSRB0ju/67wsQAAAI4Bnl1qQn8AAAMAAFitMSi98NLHTCz6Dc8AHNrf73we/zafLZQqtibnh6Zzv1OOT5BM2YpQwjat1+xJWjT9D25XtZd9n3B9OFTFSyM45DMBdYTETPa1vGJd6z9zFsenEAnz+ziiSM+AUEFL39rJuNATJpbEC8+XpOXoCR1ofsYe6Iit82vbuBMYUwZshLp/AAABYEGaQknhDyZTAhv//qeEAAADAADdMJ3su8JACWTuTCVuJhDKcpjYkbPolkMRZdgMbCrkAKnHUXzmgbTqWfTobVUAF0qRY2vWXZ8ndzwDKo3OCOMdZ0Nce9r1pKwvpZ93KNW4ywKX1fyETJ9o8oRf/XtkZRfnXnt/aXYRBPkhYB1PvkjmBTG6+JrerUm5PyojsNlqgyfLnpr3oS7fwaEVl4ClctHgOnrE+mt37GFxZvrAHboR7MNEiH9QJ6FzROGdoOPNtlVYYdxdaQYiHYXdYaBjbIYJixziVnhvdnh4wZ1b1HV77FuNYU0Lkjz/+W9KbJtYFjSVZEAIRGSi8W3w5BF/1qtAYwoUfGwhHvts6cS7f8g1atKDQm8CxaU1e0pQ94Sb8L562Z9D3yU6W7TBaE0KhIBU3gCiltqk4ixhNZwF6V/jnLl1aFt3rWzQHNEAMN6Bw90SkMLe9rsZ7o3zXsAAAAC1QZ5gRRE8K/8AAAMAALWpocHleKU6SCJtNyzCk8MAHMB0oUfHlfH9MZUwL8WIhUXFYqzxMGGucQpAvvUVU6HmsRfHGmG4myB+jBmcKahnzaGyOH+0V3BWWkMmBZCBZYjcuooO4vAXfuIuR6Xj6I4gUnJnIIzELGvkoBpj4JzCsEae6RWWeT14JZNrpMXN8pQc5BDzt8/TWJo8ERVo9y215nhuseRnhex35rJMuNp4jL0C+oDouwAAAHQBnp90Qn8AAAMAAOhLhe1iM0HSloAC+utlRQjQ6KQwSvmDv/K3xG7Ln4lh+ITs6sxCOWoWRFgLC0PM/YT4+LXHpkxiA3wfETkVeEx4Ee8Y/b28/huk+BWl1f77J+e9fjHKlPIeDDZQcR+pY4mLG7/Ea8T0wAAAAJMBnoFqQn8AAAMAAOfzPkrwAthkH5roKzzsKcnkyhQ9JWCvmMNAZCTYgsj0WLW7OCitD/T8p/N3IhgG/7P4h/ih0nSk0EMBeLgzox26J8Eimg0uIM9BSj/z3bfWnWEAin1Ghi30nKB/X/tojyg6SHJtl1J2LIuZGshvE1rimnTLeUZPBEy0CnSCq3L8cLYYyxPw3MkAAADyQZqESahBaJlMFPDf/qeEAAADAADdONeS+NkALdPt5bbcakZLl5zXM/dc6xnXZqRStrGSd+eHcdXTAGH+2TEGsi72zg1aimN0pWqzncsWGq0IfXVIbSnooeao8v4/UrauyewwMjhGC8RrIpwgjEWi42pCJ/qLCs6/Ed15h/RH2mc6NkICC+WDy4dV0OJrKV6XEA58Ckib+Q8R6s/uO216zjz32/vtOtHyEofjku77do3BWhI3v6+D9J29Zsf2DSZCM6hIdTBaDfmLEOM0uVUTmQuk/V3O9TfOyzkWMVEgZ382A8gAIeIKspuzm6VaFyntEcAAAACGAZ6jakJ/AAADAADoN2ygQACc20AYkHEWaJFEYiuP/Sv1nkSH+lfTidJd8nxN71Aec8yEsHP7baLRNW3x+iYb5kA9juoxKPy+SCpP+UDXHtwVrRCljAVOc++k2iiCr5oYeeW6OqU0osZ0jx6MPX8JCARqqZu1UUpiUarPrnGN8UZcpvBe/kEAAAApQZqmSeEKUmUwUsN//qeEAAADAAALVvH4ANqajF4zkEOmdP+4ffB5AUEAAACLAZ7FakJ/AAADAADnjgfgngA+1TVy0BIyOmLIgwfZ/gQ7EONwxZoZH0W1mCwVn2y1fwCy0BPggIWv2gXKmuepGNrM8r2lTQAe5Hk1ZZObxSwZxEzAe8pSbq0u2mQjgOML2ZY+sdjSEmb8JUtB5BXGeCNdX3tNjhNZiKvlnCbLI7NuKw0k7BFAUCacwQAAAONBmspJ4Q6JlMCGf/6eEAAAAwADY8J0eiZyh9R/6EI6GACXYqWE9OfsyDEVgc2PmmK4+ZGUvQHCcnP9fFVHp8D3/9Iic9KPklXTwn0rWtUd+k4namUUb2+szIIWcuehVQzEiwIK3rSbCKXVPry85LBUH1x5vb2PM/nA09fpS9gZzgWbty27MTSQVDReLtE+lOrZf2ViFAOu54W3jgppRLPRKMCyBqqAAE1MLUgdEclZM3QgEo6oKmhCVn9MVhhZZ5dn48tKSvQ7vt8/y/zUMncux2frPwE3+Bequauc/oIjQPXukQAAALtBnuhFFTwr/wAAAwAAtdLpjWiAFvGblumSqJ5C1GGZCvkFlM5G44NMZKZxbHfjCUYlT1FWm2cVrXXDmtpwDN/engqNV56ODa8/wS6f125sgOVv1SB8rLJSK2acJzs8YzqiLTWXQl5kq6NxyEdid0HGKpjxqcRUIQEK5xH0LzWJ92IepoC3KywO+WvnT9xE03Pka/RH1XvWvhCsZK8wWyOpIjeZzwztifZafOjNIP1IJAgRPc/5xPJwHbgYAAAAjAGfB3RCfwAAAwAA5+M+aEAAnUC7VsKYyimdm3MKrrQSkXyOCxe7Lg0v4ZC+GrppK/Y6vVGaDeR7swqpHOYakG0pWeIJ2oEQePwBK1MJj83RNIjBorxLl6r9Q9MHuONCebCi/kBljg9eTihC5aVphTrSQLX9kOIoSx+BUFt4xBsAwHQ4ivQWsM/JafvwAAAAgwGfCWpCfwAAAwAA6DbigbMNYPn4b8UAHZEromIBTxD7F8fGzjXMKlKoEcJ9m5zfTw/y5nr0afCDlGm2oZ89bnQL7sakUh27cu/xrBsSI3UUDcz9ryKY96QQe1y41DKesXzeFSNipYpsgW26jRSJk8UiD3cQqf3lOj2SV5LSizR0D7vBAAABM0GbDkmoQWiZTAhf//6MsAAAAwABS+ZcciZ3klW0xf/lw+XwAHaE5hdGTjhStjrW1G/FrBLTxRi3XUzrJWeyufqu/zuDJzW40txiXtt2mOAJO5IRZA6dcCO1MaWyIi+N3VRTX67MSS/FZNqz4t4Sz93OWBaBHyFPttyA5sDiP1XVOR3CfEssz4I1NPFKShcIfFAnHS9h4nbqI/SnzuOzp4huGtK9HqSKS9ttWj6JG03LMnFdjEX8Xtha6vAdofVvhI5aa4cFY8Sml9ejww/qGiLR+ggUVXt8DBmETHtvgl43aJjR8iBZ6FENRO+SguCdSAp8zMxabOEF+ZaqOVyUbe6afLD3iNCanjYWhyunCJ/JxPHUfu4L0tEwWzyCpaBK+0MxnfLdZbJ13DZwIYIpOQ1t4WAAAACsQZ8sRREsK/8AAAMAAK9/+yW5iO4RHGPo4ALiErG/L4pq9Y93U+PaOisk9wQolFwyAbOk3PECKZtl+dZCHf8BUNFs2hSuoyB9ZnV+3xZiIz4byAyxHzfB/JwFfMjODzamhgLkBtT1ra8dFM0nzVgfR5TinoZVpUupGGm9s6pA/dbsvDH4e6TiJF4TrRDjKzer98u/k//5ee8ds1z9mEO1rbDgQ5DHkfXttfGYOAAAAH0Bn0t0Qn8AAAMAAOJsyJkfk/bJm7qSn8GUcgp9oPD2QASyTdf+A35JRSm39CIk8zm5lwrFKGzM7rWpn+Jrw0Uh+py0kAcr6rDpaOCSxq+OIrmTTduBXN6C/NzgKYtmwZXn5C0b4rk7NB6VieQrI7DyOkXmySW39gfBlzo4twAAAI4Bn01qQn8AAAMAAOK8Z0Q8LAsdxcGgA5w4AxC2VqThkFubiPxU3xoUNfveK7QVnYM9ALPSGwnN2OCDJ3OlePTyCTi7zN1fYAxxOxy/Cg+bEZT4LTSLjIuBh4iqeKWXtsY8fpVCZIeOaDCpnsGExqJLFK2C0fjMJM3nARzBXVgixV++eUn8qvGZIye+8Ti3AAAA5UGbT0moQWyZTAhn//6eEAAAAwABPay9iV4AEIn1ttS/8HFdWUnDKuK40FxymAkH38Zz2p4XUfIazDIqZSUITnoSVt718V894lg4/nuOmLISbHaM0IRjCD0eAjtsJ+zlG/Yj91kowcUdOSCbRDc5pNbQ36Yvde9f9p+u/4dNKSvroqmzy5g0XH4AVmJ00Hs6QH9I27/9qQwDCqJFaGQrL8wnWtQ/LrULptZmBOHXSeUUJ52HVsLN21wcjAAAZ3JbPXfAKwHmsRo16wK+CP1oPz+wz3y8cuQ0nUj/U2lPWjr6pg8CCpEAAAD/QZtwSeEKUmUwIZ/+nhAAAAMAAT2tColeABDfOE+zpKxM9Mmpd7ptXMJytQBv7ubSMait4+8kBfxsctGXnwjDIhe5j4eRkY64w8JkpkRBxhjrbwRJlUAMDJNIN+2wnEcZ7PCOWKoH1h0Nb9OzV1NqNBv3vMPOirQdQlK4eyAbbFmB0k9bd55eKmTzdQ+9kspSaJgt2Dyaetf+PoBueMp4AnCWfgj5j6rUnjSHx9l57nS2ue1Y04pm3xc4wpmMR6GPqul0fzIm640s6+LYnFYFnvEI6dSNeeQtP1cvGEauqsKlpW1r9lWAvr17BnVYwpJYR4JyzbMIAm5amrzNO5bgAAAA/0GbkUnhDomUwIZ//p4QAAADAAE/5lz10ZczZmACo6XCx1E4cq4FF1iUxhY6GmxEf9sO40F+56qmqpbnfzIw8bxZ18BMV3FBdf8Y6Ns5B6o257oY78tcq5bfWT3X80peG1Cu/FcqKd9/vPCoIugrKBn96+35JDFHF1sca4BwF8mAj3IEbbjdz5WWw5tpCQe0ccjay//4f2KHNqo/HymJPW/FqjDyrs30Xx1tlhg3RYmBXiD9EHewkRCugX5ONx4Ovcf8MIxFlbK9wOr1r+k13QQ+GB/ICx8zOZ2b54gFcFPkO/5KgZKWSZa3rekjM2xsXGa//oWpUusKcn0rT+1z3wAAALRBm7JJ4Q8mUwIZ//6eEAAAAwABNZAvEGwfgPK88eHBq979CoIrSeK7+sa1NiADLvVuRR7coL4lMGH93KdXnxrhgIKAnPISaF75CZIgTfDbFsQM2lLEDxr46jAnTQl1nYgqC66YUbmbuymGJaHfNG1n/atg6fB2AUf7KBvO5wgbX2vFNDGdGvBGbylB3/8z4OAISDTqpZeXEoiENsYtlEPA6ixWpb9ou/BT64VQACe5E64E6+8AAAErQZvUSeEPJlMFETw3//6nhAAAAwAAT/3hLeB1gqEHB0AGwIZpRcaITeSFO5195QrZBgyziK8ZR/Q2kuJp+38wcqLRFqRTulgBF4g+7C2FvaFHybQuyOlw2DJBf83/j4OpGm/7gNd5GnH62W6T2eGNfooPaWTYjHED6NvZVw7vVXjwEp6m0FSjo+Bvnj6HOAfjAa2GS8ZA+VZkydp3Q88MTNyF04/19y68grsuWtEMvQAa+3Zi55RZ8DGVeRzmhdbOYxX8fA5eWRxY1qvlEXiTT5CwDpM23GgdKxWEMCFggDyt7HXe/Ip1AWuUC9WVP34HTr6XLkBADC6geRfID0tWl287WbnJlR/RuFGRSdy3ea96+EGC/DNV6sgQpLL2phgpGTN/JtPz86IGXYIAAACAAZ/zakJ/AAADAABUG8vAERw1O71MaZ9bdwoxO1nIY3pp/VxcT/LoelDiR6dVBjCTdvdDF0TbWEwlBWrF7Wrcp6EFO7ONvvAti9pPcdYx/X5n19LI1xefIYxkRmV8zuhHJmR2vQ8nB+76lvuQu0W+DKwnO8ty/tQhR/2CpKzmzMkAAAEIQZv2SeEPJlMFPDf//qeEAAADAABLuQfA1CICh3Jd1f6AO1N5r9eXMKoc6wSbRxWuTnacqxd9ZcG053FmlLPA241HVZbZPkFBMg0vV2vQuKDjQ8qgiI5XIQOoqQz4nrPFGzfMWD7hWc9RDzGPrVKmp9NSLD/EMjtEJZDcb+PIYimAaCg5J00G3lLt521cPMftLrza0tA2GatSfmCUpxOv6NZKc/XxCxgODI4GUyJ6kAWl5Ml2GAKfhZiVZUNgYF8QfAwe0S9vv5xve55OxplB5390DmiVir5hlrcwk5CcJvWXGByvSQYagSy8Lra4WT7BcH9n9inzmeq52gxotWbldBtyhe8B2XWTAAAAiwGeFWpCfwAAAwAATqVm4cLc+spxiXYg0ccF+95xPQQscbH/KrxxBQRgUGt2hpDFEAIbO2ZB0hbTgI1hn1tL3VC+lfCNsf41VlemVglgAsCHdbBA5QZbx77TevZ0atvgl1+v00XNtCCSNq+dLNaqrdQ8z3/XimXH+io50+dzS6Sts7EHJTvVA8qOePIAAAFfQZoaSeEPJlMCGf/+nhAAAAMAASUQ7FD3iABNXrwVUhBqrb25NJu18TGTQZBn0mx9DcPaxLBjjM2FOd3jjoN+Uu9zDXjCGVJMdB9fQwaD4yk09d1xsImHJDMAwWmah3Iu0phIbZg35/slO8zic86LNqmlI2BDJ6TMkJiZey1ne/MkAPQzcFyH9z8Czim+2Zj4Ci9K4XpA3PC+4b7+6sdXQF8nkNCwuV99Jk1IZFl5SAx1YHcwJmlnGzBAAcmf202S75zZ0bW3mssGiJuAjxiyTMnyrsJbGRul7xFNCSJlnJsLghB7j4rkbtFMsLg14yCCMCBgytGUIk4bVKIx+7bKdlnr5rklnaF1pYGK3BsPjteY5sOabLRrhFJjJN5d8WYWkgNLqzExGXQspY8ZGZPd5fkByjCP3Su/1kYoxEHY6D1Kf3X/8H5ijOIuAllfjEW0+OCKCRM3VpIaoaA/ClGBAAAAuUGeOEURPCv/AAADAACG1YLvlVTgc4v0rSMQzf0ADrgOmuJb6Q0K/VRT8YGaKQrwP0mN9NuKUkG+T9NML2extPJr+mxNLxsNR/97N/6uLD9ijHrvk5GsZPPgIAEP4icFhts25kBaIDjqPVNK7QXb3iahxKVQR65jnAigcvSBa0SRj8Itcg7fRMuZPW4+LDN5wCRPb3Jpp+09lBcmtJ0itcEou3a8Myd1r4kvLQJHXpjGbm0lvIgYynzXAAAAkAGeV3RCfwAAAwAAUOVlpfmQ0OQYSD9bIjTbPaJhtcWIAHZFb9ZOQB/wVw9qxlyyoUSrZ41F5BMIlU878TdIm5Srm0fGc5DWH695430Ehr/e8COK4WWiZSKW+PjMfNr78qdsSrk7COh9o4QPTuA/sth+1JaS9VLJ/iY8wJr3VfjbfF8BG/thhb6pXa68MwzGYAAAAIkBnllqQn8AAAMAAE+ttF281ZRt2ZsafYanAbUTyYvS9ODeBFegAOORhvdWJ2ADV1TxZjtqNxKhqcAIKOH4vnaLfMbhEJJehkTuzCxxSUyfWAF5qy7cX22Yljg32O84qxGgWXOzbt/lX3sgBTRuf/E7XmN9a8P9+F1LW5ARTtPycl78oaLZD/HP0wAAASRBmlxJqEFomUwU8M/+nhAAAAMAASVFIjfFIEAE7evBaSAi6SBP9AO5vWymTSh7PA+nxG4V3LZgeMrs8aXO7Jz8raSxUHzHHmdeUBsTKakz7wBZc8AoP5iFjDuyb9fKquoEw31Lz/T4Oh/yPZe1bmdFMYvJcprjhIwkpNAKM6CulFwas9U5pJzleGzMkdDlBWPCQ8+BpRHwv3P70Tshvep3hSN3Wgo0owJYg8tCLdMgo1xZ4vjKdkSDq3xrTdVSi0OCxckS4U8pLzWdaTpmEhVTYqXXfR9sx7yuODymPNm5Pfe39x5JSKoM1onyUaBLnkE+1lUA9IfZ//QTLBMcsD6+3F+QD7aXNSUfwT3mLC2QcUSTnG3gvCxAUmJsbESt8e/+u9OZAAAAtAGee2pCfwAAAwAAxDzSS9aUm/qmmtAAcUligXre97j9F9lH9JnX8l8IselbgjQeezxHOdFmYSEvaxOdmD/4hgjvgV82rCeNDfzKlZOblnvNZTucfCiDn9ykg9GnnSrjuyMntb44HBBBpeZyDG8OFUtDFS9dLRvwP4yp2m5S6IrUw2H5MmDYi0bPkIvbV01jM1cHx+MPTET3mzbUUcgKBjrax6iUMW0WkI5U9vwgB/vRr9/ZPQAAANhBmn1J4QpSZTAhn/6eEAAAAwAC2cy6SgcXZWl8WACC5/bqxblaTnNNsde1tgh4pqEhS81ySONUDgVfdBxstK0AxZFgZThpGESuY9KgYUNxrKyo0GLiQLvJQZ0bMjbgG/j4CUGORImOLhc/XyCxSsVPsvBRMfmaANavlNe97+0gt8ZEf+WI9SUjwiGepOeJh3iDfHjooWxOfg9iP60o+rE8LFWB7a235QQSWQwKLV+XEYuYjw5LypJYWCv06leRKnNBzc/4xlKm1fDoCP8vVTYD0NF2jVSLChkAAAEhQZqfSeEOiZTBTRMM//6eEAAAAwAC12xVUJ9DCcgBbxuKdn1XIrt3dp1W5rPNdjF/psPzJWVkO+dJGucEdFb0nbB5Rr58Rm+OXa8hGusncZ4xea/HA5IrtkbUXvjxZdA57NU0MD4tQcvKHs4/P5SPRKVBSftmKZdtyzU8VW43+jW0PATmHvYx0bospL4/Jp0bWcMx+DvQH5t7vj7e8O1sUoNbGdJD/e6TFgu+C+JnkQjIB1Maa7ULBg4M/5E14yflyAtmwhj/rvStWojhJQciSMAf2e54Quzh21CwMcAPWcYGIJOw/WaxVNlYw/pos2WCNESv1atOBUtjDQpOhWQAqBX9UI7LuQoFn0aLOVv1+K2QNsGMMGhjOHzz5s/AaJWuQAAAAKwBnr5qQn8AAAMAAMk7/gGAnrACauVVApTypIUGdzy+Bustx3ftnk2WMTZII22vdaVc4rWbGqkQnkBNwve/tpG4DsWQ1xazGjACVmMdGqQ0KWtHqezGxJVWofTalmWgEVD500F1jbdxS8SDBjW59Peh49+MEvJw3why8TZi4wT/a9w4yQ6dPof+UORFvgR8KF1+F6BbBm7XErf0uEXDJo74UcsMa6PN27Ox/vwXAAAA9kGaoEnhDyZTAhv//qeEAAADAAC5xaT+46nSkAG0jO2lmQnG8EXEd4SsNf4tEm1fF/BJlQbsfldQqHfQ2M9PK2s9HyFzpkcDYbHI7+/Jv16uCUNMoUnnt//rGXRJ2PAugcqZWLjPRFhVmKiR/FQ2C38udzCffv6Owj8wbtHUnUwl8PF1iNngUUk5r42UC/PVPkdLBEoAib3BlgUvuqqCeob0IolgrCuh5Mr5+2dsgospXq+++y8QjYao0wSq69GPcgss4oYUZ5gI1cBU8XLF7RADKgXkxMqRfUqud1Ruh9b6H7jjgxX7xvn8CmGVLR4t2k7CG+DNwQAAAN9BmsJJ4Q8mUwURPDf//qeEAAADAAC+33TPlEnkSFktAAiD3mcr+mMLzOKGnmYc7ipe6TpSGHVjJv9UQ9ipp5+R1PAo6v+g3Gr906sdAj6dbdpT7+VX369FnucIJKb+V6icDLH2pRBXDtL6elcj0rYompoGvzNnPJrWDR5SEk8ogvEbfRLrcmMQDQBk7AnNyjIsaB3+J0r0sY9QZu5xCRamQH5tYodTfATuN6DZJkT1JOAMffHrw55DEwAgU926H65tPDjTO73QdL+/liJOV/Fifz7D0wFl/Ox3fhnDxjsIAAAAmQGe4WpCfwAAAwAAyTZUCBtO4AOcOp1g/qfHkKM9oAbZVsUGAytcRHT3ZLkwgr5oMC6BswydnYToQcKPTBmE3q3yIWuiLWUpq8LecBylLlOiCea1F10skNX3v9CX+Eo97I6MXxslWbkGOAiifxJUqsffPxRYdQhDvuKEnAVVjXNA6RStv1m1zhzM9AQ+0qHANzIdaxVX8n6jGwAAAQ9BmuZJ4Q8mUwIb//6nhAAAAwAAvrs4fK391WWgATt2LH/WXLffT4WzbakvY8E9g/UAbiEEL+XgJjhtMCJtQpSutJv3h7Zw479eQkVlHnvnjHQ70ND9/Yee6PQlfR1D1QFa+0nZgdwG5rBg0R3NKB4WxnQFmdo5jEH/2K5Rllabk07y45GaWo5eZSZ2sygNDryplkK6KlnL8aX/1NwBf3EL/XpszhD2fHoi9Hr6wlnUN4saHEAqLyGJORMmpETFMoudxKKwDORhRlxUipg5Aj86X402dmV9hFDfXO7yGs1LygEA4O2B3hwxGXoTwVueKZ0kvGPiFstJej/XMkBgXxAe4sSoFn12NyGtZqfKY+36AAAAh0GfBEURPCv/AAADAAGIdLsqII3UMBc6AAdPo/Zr3Y9ObqCGx2qfO6J5XEvu8hdlQC2tb4kjChctBhT4arI1/vZ0xLTqb1MkSn5mwQxUnnvdB7JTEM0VlWqpcsXBDIwXZIacgEppzTEyiN4VXobk7fIOba1Aj5vfYG4izAJ0Fv1Qb6pnzDnecQAAAHwBnyN0Qn8AAAMAAMlL46Gy1gA5T4euT94Ma3BQhpTaRHaHc0OkdX8WeN32OK7MsWARsOBZVcr0Uzw6qG6hkGnwreq1DysLCVldKDPx+3JB/ZFddBwTpQLF0vF00krjwhA4GfrDg1tLgekj7aM3kDS8NHacliKzy2JeKDSBAAAAawGfJWpCfwAAAwAB8XjQ6JG/jMyAA4eMUoVzV6Ao92P07TydHQPI/mh0VQg6gfaWgpLg2s3gChhogaPONEvAC/iVs9u10NnBO1dFEwcoWzc99Igy8mUDp+dY1aEU3qs9X1xgZ85FLac0MG2dAAAAY0GbKUmoQWiZTAhn//6eEAAAAwACw+I+mIB6b1TV3Z+kFvAASmiYA1lc6QKgopLorz1OAO4VhXFwBPO7EsKd51gkBoM0FjjM0s2UZ7SDnTC2l0XdFJRQ9wSEAykrH2O2XzUvgQAAAKRBn0dFESwr/wAAAwABiLDNTI6AA7Q7krOj/i1BfHe4dfcm8qCZwZJYn63IhPWfOVIrXMqnDMZ4pa/FGU3g8x05v5Y0ZTiHpn5/d3m9IVzwfExImom29kebqf4QOd9zmBo1khvDxiWJmQBdE+OIHa7uIykp+zhRwjZHVXn5o5sAgEWXkrWen5048U/KZ3RiNpOiSFuUhPVoABDz64HrVJON3JV5wAAAAGgBn2hqQn8AAAMAAMPI87aAB2MTyyJyZv8a/CAppz6BBsyr6sQRD8Cu0oqwGXLGO9GuMP/H1CF61JvQ8WjGU4FoPcMysgZuMgAOHr5OteHRNf7LDqT5QKnDkM1q67eXoNhYV8zz6IjhfgAAANdBm2xJqEFsmUwIX//+jLAAAAMAAu3pKlEM7XL0AEQONKLc6XH6j8d5SSI7MyNMK5WTCEPcn/ebuNlSCNxJSqtzmfRp9GuXuH196RIe/ysruXlElH0hjtGuo8WZZ4BsFNT4EKyuS2ieXO8N02s8G6pt5ks6tQpVvEcRsc6lzEXxVkWmGftU1DOs5CP30OTEehltj2glDyqcQls2b+1mxxiIIFzoAt9CpgDOq5hzz6NY1n1waJxQzRXiaeYOYYcVNXDHz5twWit7dcexztIUk7Sc41wnvJ7foQAAAJdBn4pFFSwr/wAAAwABhCv2BeSdY+jpb73cgYswAIYqZD9g8wM4DlIzFsilOyHXbkZUGjXtbhuGDHvSt26ThY4BGiZA8sAYnNjfmeovVk02nfIgc7LP65WVa7nul8T5bs4enh0GPvF3eDo5RuwNZjw+9b5dbDYknLwInOFhwQTXhd1BD0P3CRfNNNzgfs82UkBLqHn8dpLSAAAAfAGfq2pCfwAAAwAAyVzNcwNDz/52eovGYRX5ceqzxAPrlGWsCCzd2/ErYhwAE7dhNIBu9UJqVLZBkw/ILy8PF+ZxXXjVSt/PD6BxZGaIj1bJxKPyS99sB9PCrelfhs+TszBbmu8jndJQ0X8DzUJ5SGZs2zCjl1CKL7kqqsAAAADMQZutSahBbJlMCF///oywAAADAALcp4kvaJh+hFdKv+PRnTWAFuDITzuRrZ2bunjnV6/lrD0o6Lu8IVXwsWN6Eaq0b0kWPtxw233SlisZRl2beY+luJb0Hk1W64pFBbRvgRtenc0GXg2DxZBzYvauF7rL0p8rDGc+gs1vMPblsRC7nxhK/eiz+6PcAUpzqqnw6f+2qih6wK2b+eCgp/v+GIGq8IQd93u9iR9dMAABeUeo5jonFZ/y8kikUcdTwvSC2q8OnS2Gyfrgoi7DAAAA4UGbzknhClJlMCF//oywAAADAALxzLjyuGE3gAIfonAXI8uvcIHmbDP+5eICiNjg5nN5tzmN9g0Ng/921xRCIY1FSVPpo8ta0Ubt18oRTPRWuazTIq3jU0KcQdjRSK/jVpxmrlbs+scNJd9EaBytREPeEPvUIHQhoejKN2yDOg8XZvAeMTExAhIehSF3i4dfE2ehtK8xm9QIfe37OqN6YVxExKnx4On9PxnazgDe3Z08QLVk8xweM+CF33Y0V6QVNLJxrxJsbHQSaGBZqVZcP8+MVVWWQwesoIRXYW+IvnKQIQAAANxBm+9J4Q6JlMCGf/6eEAAAAwAC1d3QacZAAc0bwWkTXSZX///oeNH2AJf9MMqX2cBSvkTrvpBr5XkUt0MsPOGZ6UBKzPcYZjB1PHxSEfd5Ol91LMqF657+Q0WfjXKLOVm3SwGu8KzGkGnsOr3TTHXM2YlyVTMwyyq9/9fVzqkMhSgTGVQpC2u/QlJjWJ1DoHK1QqQKQLtJ850gxjVRp/49j2JbkmB8tn/OTuEjgTUzJX7eUQlh9qzedvDhR0RQ00UuHKp76SAORI8XoGy6h8a07tuJ4wrYAAAnZ0nBAAAA50GaEEnhDyZTAhn//p4QAAADAALWCuEXrIZ1gn6ztAAvmNdLEeLQ3Ds7+sIR3Fu68h728iIZLz8pDP3BYmXHMEasLY281qPy5hkClL2BFPZ/9cP37l3Ajbo16cio8+3EwwhPOrrUgsLBtGf+sAsqQSe7qzNmrhK/IC192LgByyhFLLkjt838fTSgxi9EY5G2nb7cHhVqb3pHNgS3T2Qva3E7uMEFwG1e7311A+OMDuRSbdExPkIWqv4Eu8Pu/tP0y7sz5hYi275UXyU+/8Gcg6xl6BISAESyxCPqSIFZZfVIFcLr1ZGVgAAAAPBBmjFJ4Q8mUwIZ//6eEAAAAwAC2cy6Sf7unur38fX1qACG+cFo3aCSiGym3nGo6WQ5ieK2Sb/w2DatMSVKurBbT5I+R+pvJ103FeUUUfeqDpbkr+7PT+IdaZOqSmx5UWLcun8VQzx/qMNNpnK4ULem8ytmgC0iyCnsgxXLWOGYg/kiPmZqRGHu1s1Kd6JHvBVXuFW08xXtdsXdfW1s0YB3ELapSAmsZdg4og9S2BACImXKkitVV9TVdTD9lQBQn8EdRNJbjp1oum4Cq0i54l601N/QcfB7ahfGDXbQ13YCGmIir60EUWYmqZsPVt5TeYAAAAD/QZpSSeEPJlMCGf/+nhAAAAMAASUXVoADow2Poz0e/7aan+UJZo1kWIeoajYcQsEXXgu6dPa4arT5KIxDzkgQagCuSGPUAIV33A8HztkY1LPw3jfO0DH/De/zqbOhFljYuNzEo5GGdLrgk/NopqIifo8AIajqlfTvY6EOXhimOtH2IjMknrwGspfdQH/0mOy+RWWkS6oE5UPqeyBcVrsyn+c3UmAAwAk54RbFQfvzVT4ER3aFJd+y80Wty8I6chzNp8vCn96xsUAOudmqpqfxwY0RBoRbKww3faLKO0sGcIteiSbdEK40xRZykko63Zzb5GolCFj4T97wA90090qNAAABCUGac0nhDyZTAhv//qeEAAADAABLR2YMcmPlAWACoETOVuiG5buVcFgk2niyZABeMum1t55TPmBVAUSZhJ1h1bIEuoceCeTxObZROd0h2tFSd9eGqd2BHYN8Jfg9HV18Sj+cKnMcFo4EiQQGTNocBLiVAZ1oQzT41zt/VSKgVOi3JGE9DDB/7CgBONF15i25SHOEV5iG2GRxxS/ZS0/4m4Rv9J0/Nhpti0w2r6Pr1L7OJVGNA+lE1kJjRUO1zsL/ZQx+uw8jsFSHFZx3Qh0HygFJ4e16k85NJGM2/rKAUJsYX5j2WPHO1NPqQAg98iXmzQtMxjSNxmF6cket1JgqZsHMbm2mN4xmWbIAAAFQQZqXSeEPJlMCGf/+nhAAAAMAASVH+gemtHNNmACo6PqTe2o9oMkN58HXilXaHnNqiOG+7ucupG8UqflVRHkZcT2B7eUeQoZ4ZOOGCTfswV3CzVeeu1RF5LQjPu+fShIjv9WEsjMLHySw+FaZdOh7l1J4t3qZK9/34kk00JSsMSN1UqWTGJYxE0ag8C3wsqRSNSLw+H1HU8N3j9sv7wqWPcLwdvQERQX+wlCNO8XxO0XkG+10Fx0qs5rUQGtYlYVv0fqI78W7KP57Ys/3+AcCYypmLHjqeWsw4Jc4O1D6PZUrruQaKCjWPK1WMY+uVc0+ddHQaVT80ttzHQKK+/81G98216NhcHp7lYW7lhsI5iUsB7BMOHmWAliJaL9GgTVwPnVbtY2VONiMXPYxLkcK1NoKRMAL2RlDHipLBzI7Mga4ie/gI3Y6GlT0lkbNdFxgAAAA1EGetUURPCv/AAADAACG1YLOg1O8xyoP0AO5nnG3gBDSt55EAUFaIFtU4cnjj+uez9igCJ8xYkeHhjof95jNpe1qOh6E7JUVk+fvNIHFROnGZu3jv1bmMkG3cGr5pcIgQjXZNLZcaHBCRquKBlH8uwdvKj3BH74en9JCIl6LOHst6KPHvYMC0gPYTTeACHVjcNtdJ+mYi9N1Rsezwh5yisTdfZoZ7Yvk4espctEjUGFzXQI52tmnn81cq+iPmEd7IWRxN3Y1ZxzuTV7v7zRhv//i/xWBAAAAqgGe1HRCfwAAAwAAT7OBsNye07W5NnlfcJPgqQAF8zp1hE3sRwXnWTK0X8aDai+O4057EgclZKxkeYqUP1/3iAvbnCFj0IcVc6AvfT/kP8XcXrAIbOHQml4Nbd5PkgUq8kuCDoo2Mf6bkJKBgEyhy0WmLvM99k1ciMr5E1el2SLno0ezNnCiuKNi7qYG4OHGpwa0IbkaGcxWSTXvm8UJwsnT2TCzsLLvhK+wAAAApAGe1mpCfwAAAwAAT4O/FSX2ATsJYC6XAA7EWTP2jtn1SzMaLtNCTJPkhcYWqH19lVUX+9v5/9SUrNXeBilc9su5DLOf2RTEmbAIn0SUv9gupj+s/iRkMCGiLPyWLErOFfS/CtQjv+es0gdfKCq58v+0zqSGxu1wtFQvWE7REWs9kttl/BU7hsGNj4RpXvfMdMZl3d0ybqiSIfMYZ4Q0yjUdgPBhAAAA30Ga2EmoQWiZTAhv//6nhAAAAwAATbpvaYJIStnQc1v+ADLD8GbY3m/XtdwXO5NVXP1ZU3M48mz1rm8FrV8VgFEWcOtYQRFXY37W1XIHkn5Ztch4cVyAPwNlQof92xNxd878kHJXm/3rLgSr5C47lhKV1svhh1p/3IcEUkjTwMDEpPlstmfjEGMXBFbrd05WyRo5Dou6bN8V4jOdu25YB9o9hVpVCWkFlghUQnb6lgpoLYRqkECrjIEKcFqBMDCAG6p45E//P32AYYmojvZlmB1pMOohObDup7oa74nMuBkAAAEXQZr7SeEKUmUwIb/+p4QAAAMAAE+Zq2LP0yAIk1gUNr9zANzrYjcKWGiSO4+DD7cS8P2T+3ZBz84x14EC0ZQMFdmNc8YFk09RoHg/C982cL88WFXjDIwtxvyHqhvislf+IQAAufNtOQeprE4ScKYBX48SZB64dNl2QEpRmWj/2NF9/azKU0y2PMlCLvMF7tYSa0T6OpWbpI77wMBYhg6e9WUFTqW4xNjgp1yTogsqo0rMn0PC2iAIgMRnlP/JfFqry6F7ESH+BtOvJ/l7G5FozpOxMj04NUDmdDwaLTHvKSu8eGS3aaivBeH2DM1yWK8ofze1bbQjI7AKXLzd5zdRcEJU28iRKhd8Ml88VvrCI7oAv+vG6QPAAAAAkkGfGUU0TCv/AAADAACG+shmKsXysmF4GFUcismSylzkOOsBxWpdZWAV5IAGzxTzeWEOftlYEMBib0RFSR0tXzeSscgAZMqTHYhjVOea38aUAPfeDxoxx4WHt1ndXJUMnsv4neRjqWmcFx5GkmmvH17L/uHVV2Ygh7dBg9EU2Fd1k4dNj0JU1IZysaXkuhXJ+ecHAAAAgAGfOmpCfwAAAwAAVC3Vyq/S0fjN7jZI9kaDACaruSknM5e+Uqx0kx1As7wrtOjEIu3WVCjF5ec3C3d4SMX/BAoKRIn72/uynaaDt8Pcmtq98Z2xQcP3SIgIKkrX2OE11jKS+lvpjrB2fT7etTWxaf67c+epPcLWXM6XnDCGlWCcAAABfEGbP0moQWiZTAhn//6eEAAAAwABPmRA8Yv2gAJ28llxcf9rGYWMx9OWxc0uExUc6BRN6H/ZM5Va7l//1WEsUI/pvCXtK0ZI9KxOQ6EHavJHNPschRrGIT27E543NmZDUuiyQ18MebtUWXj6n+mie7wrBgRvUSDCQdqxNRiRsi0Hr5sOeZmQOyI5yqLJdYPaQu2Wi5r0AAP3K8gbaHZVij24DJMC6EGAKly8uA2GN3liMwsAsJGkTCsLJWjZTmLFa6Onme7EYvfnhSiN+saDCAlvr3v+2L2sxDg0XFG91ilp4Fzgv9c6NlJpuItDB5VvFhbL5JcnpgnWMaYdgKdf2HAPc0xDk3yuwA9rJPs/3WVL/fvu+wsxfZXRECi1EbC6k/E0zU005tQas/JUswA7K/Jzni60CtMmplLsab7Oh/d7CibYfyOm7wi30qV/R/zTnS8NvK6PF2ZCUjAEvqj5mj0BazBxHzyfrS3dP9c2C9+H+oA2niMkd20WZiy3AAAAxEGfXUURLCv/AAADAACHBmj5LoRnIxmBZvinAAvl0Gg0gdZkF5h122i7yHaiWInLINBUbNn3OkhBXqz7/268Rdniie6a7ln+raq+6t2Jfqd+qFk2lFymSTPutbhF7+0/+hq/Sx05pcJYD/tMq7cMPw/l0cfTmAgj7CJgwxsQIc6QeKIKn9APvvO2OrOUYlEoHIMeX9JUG97dX6QGnAcG1kqHJxsmhedVNI9RiQc2osuLtFuCTZt5M9SbBDBPuPXQ9f8/rcEAAACJAZ98dEJ/AAADAABVZmhqZ/N9UYcEXes9blFgYFazWAAgA5orfRmX6BUgK6D2vFIh1UgeNR1TjR1L7oCSFP5vzwSolRS/oIFAlj0+g/YpdMFh1vcx2hf6/r5fyExteMCjn77sU4OvNAydiaj4UVab+we41P9BNpqa7TJV+zfdv6scFK966uE2AHwAAACxAZ9+akJ/AAADAABWBMUHWIS9eAEHTD0H8/xrfkRAgTPZnlnheAp+wazqzdHS+r6ddJ9dKvOMZTQRn5cqG69UoPbKlgvOZnOjYFfePRbZYoi6ZFgFEcHZsQTRDx5UWCH/itte7xRt7SChznR95h3bgjA92wIz9FjeAgbToQGwUPuQYzsF8g1uj0ET2TvNxZo7V3RBq3mFUveic2/P7LnzcviIeiv7/y1QqQxIAcB4g0HwAAABIEGbYEmoQWyZTAhv//6nhAAAAwAAUf97D1c5kgA5y4kuKp60k6qtf3lHFE4eEJrIaCozDtyeGpzknEYMZpZl9dmfs/wbu1f8hcQFcxJMpNR0a9cmmLFu8ZKhjR4w1ebOWf9ZDp7CVs7AD6Q+2vc8SI3QffbLtEQnkg2ztfGdF62/ms6JdmuazdZKCAWxStF1jkSbBy3aHqR9sR1QkWLbGn77CuenArHvhu7bkWI35Tt0/iI69c+t4eaHJpQtNeQvK7r68IUuagx4xQrL5CtfRTm5cxNjghdAQJzrBUybBy35VLxq/VXjV2yXYk4ywBRoW4JZiDb1/kaV/8zi5HCn4+60kAcxyjLFwsRbJoySABhSswzYDW0vZQOCEYIjIPLmqQAAAWJBm4RJ4QpSZTAhv/6nhAAAAwAA3LqDVwlsgCs1Nb/MbrvK06403jQZ8B8/pb53n3cZQBs8s3ByVMr+DK1X84OuCLw9RemLc4tmdOmCgr36BbMGBsm93B7r8GWopYw+rqqyxqf1nXg697XNnzLFhQvj8BCbrGDnK7MZ38Luvc6oqizr+rPSIY+G3V46QWxdq6p0E+GuMrTQAdVcStAZFo6FdZ+Kt++cojbTWnjQ6j65et7yR4fgCFiT8vdTTtmA0JiWXTltAd5J91PmHNd1ppsQMyjRcmCHNTKgJYT9LvJslhPsWWqyH/vPFHf+xVDnAdLXADvIJPHbPeFQy3FmymI+aX15jRo7/eAx+LyQSJOHW/6KdpxXXbIORcualnHYS0vFXYfDMmT44VlM7EQPaDm06gMFfyFuiH0d4oMAEfiKrPup2sdFX9ZtGD2Yoyj0FZHlMx+91qzqE/ocb04WSc1l3SAAAAC+QZ+iRTRMK/8AAAMAALP/+sqJssx39XdzjQBe4AIfnyVECH7qIsf8JPcygNQ8U/2rjl7jffGWO8F1rX3XsMVLF9CTeCu3BUkERMW2qTHav661X3RNry8K5yf2VOjy2pIHy+PN6ZMLmlherHbWo9vPFD4WxvJRsWkzTCGK0wB7a89gW8xWBsWs3+YMwSgNFuzF7137XPW7Kq4Kj+5paEf8gUApqgofecmbz/pLmt5eRMF81Bhf8xgcHiTx74svwQAAAJwBn8F0Qn8AAAMAAFiM+9VKaKK/nd/p8hIAHYlRXoXVhefl42BJV6vAwbsSt48UEn/zwu0o3vY+ITWp9b/FaTONGlWZG6MxSHW0vTr9QfJxy0CTuQdklwsQENIJFvom0o5YSTI8EuNjbunaODv0tEzv5H5ZFKHWYvs0Pv5uhEBAZFgxVQlGNeEyVU8kum5kUB7siJiuYwkpXjKmT38AAACbAZ/DakJ/AAADAADlk7jh380SpHkOQAOxiV1dvldfJjrD+42wyTjhm4PTqTEWyo/xyGAj+4lQAFxlAkB3Jl4Ei+DeYJMMDyBxt/k23GuxItvVRVE/0Yw6/MBmX5zb74tSkVe/TeoxaSkXBJ0zEXbgxkA5HHVZUd8a5gUd+Ry1z2aQ5HmfWS4TDTVyMZR5KhGtHzDhywnvEkNHDbEAAAENQZvISahBaJlMCGf//p4QAAADAANeK6P6zHSf7yRJqCazoAgeVlzcaT+ZAtpphdWRiQIEwl9B17m6Z+5La66LFjinXlMxukR6Yb0ya8tlGnCjAv4X/e7s1CH2NJ2KkLPboqwacQnRIomcbBq4dfEIgVd0TcQc/9uq2t6DyTApqXqmGvKatw6PdX3fJi+6OLx8MqeddSYPHx1OIdU00LRkipuyypF9DFpjBZ++RH28s95omlxRvlYd95tEHKrHV6JEOq9iS42aEYIGboAkedafZdC9OOpTX3afEL3p3/bqBYOE/YOBVuRmVJrwqUGlAOzoi7E+rNfDH74/wGT+Z1qCewMmjD9wtc5OBJLS8mEAAACmQZ/mRREsK/8AAAMAALXRmI50QAhTmCQPrmzz3YxZhyTfZo7GaCn29RcbVmcfMhZR5AAecKoHpf49ps+DM3HzQD5noUPsC5Ez7G6j9Q2Zfn+E5VlDzkFfi0l/ocGFCIHR7ehXPk9MAe3n84TA3kQnairZIV161cMDl8xvNND5ioXXd+rYh1r/55LVD4/DDGpWv7DqNaid4/KsBrc7QxF2OE7zHfV2YQAAAIUBngV0Qn8AAAMAAOfizwxAAJz2vXsomIuEjTGbObUXBFtjAqF+7IRSST8vCq4dJ1a4li2q3cTe3PI5iKmMuZHklyEH11PLEmWkdb+4/V4/yQPzZ7hdP15fJH0/LWamcFAp8lGl/JEvIdH0NuYwUxUP7ukYu19mFqhqNUszSRbZo/kVP3ITAAAAfQGeB2pCfwAAAwAA5/T1sk93T8CUkf9QmK5pvVEAIFkeEdktCKELoncMj5NrvgqPesd/98dYnvOhrmpsrUqf6HuydLIZf+ccodTJXaOE8oL1lE7czDcsI/9KMi3feMgj2lHOth50F2qwVEfnWgZsohB30OamTRGmh8Q8SoSwAAAAZkGaCkmoQWyZTBRMN//+p4QAAAMAAFP3w6ABM8L4BuAmkv9tETUHumC+51SE2J/a7Z4ZQTSSD4H/RHfbXVbsggIAdwT4YahZ2feDYajT6/IXszKW5kyKY/GRY0y2Xax97FuEL246cAAAAG4BnilqQn8AAAMAAOeOKTRgAL1zqxUG/MVbduiWNvnQXCaVEPT01lwwiMui20khNYebvr4jKfHYBKQ9KKbwmwy5/u5/hlFndJdskKVKq6t+ALxHtI049Gi/UkXLLsj8iCUHS3OWsrhoaUM6nPzzuQAAAIRBmixJ4QpSZTBSw3/+p4QAAAMAAN0T1+IRWSAE1e8zle+AbY7PTWej4fZdPQk4bK20WoxNpIFJOsiupq+oaJjiiib+OjoNni9RTR8xXHz3EPp5Bz44n0vdh8MJEswhKW2KuU4DZ5wV5FGN52Ab8rh0TndqtCC+n7znjWghfkqgSmG76kAAAAB7AZ5LakJ/AAADAADlMC8KPjAGiZsWNvMwNKogAbKXGvy392bk8IMBdr3d8wHASrXC4gMxH8k0Nr3Dy6RfDc2Z9vR2R8u/gTilFSVoZlvP/7ai+OqKiQcPGYGMjsxuNiUT1eb4uLJwP1a87zbG8pvNtr8qfTqdGnBIgYV4AAABBEGaUEnhDomUwIZ//p4QAAADAANjwnR6JnLsZv0UwCzCpAC27Qmr7oWwKjljz0toPaqpNYagMUjOhXZdCSFFqi8kjZ5wRjiX3RKRVqbTHsxjn178ct17PlvM9kZjhNSzWRxli2oIMOyityuL7h9uKeYQG0sb1byaUzu1JcnFibrnkfXkx9ZsouPUlE0pMw7kQxKggFaLxNQHSD+0NRSnV2VpUy9ltk6QtOACcoOOFW0yPsb83M2+tRkyfq7+TMjXh1bdHP73E0kEKSF/mHyuM6gfnH0haWw+01dDIAgxSEBDyKXYkIM07dpCAl+L5LYw6DIE474ZBLaJGuS/VvfsoRs2v3WBAAAAvkGebkUVPCv/AAADAAC18Hi0jWwAXQNUOyD/s1TWfghSJDDMypRWP5OiznayyH9e3dpQIW7pnXyOSJEL3lRKA3ouYs6pJ3P3cnf0nAbqW+JAqIg//xRWkOMCPfQOCyM5ApxDfle6WXNRvP9heRApmvJ+WV1YgjZbuynDgbKCSgXUFE8VKEYwmKIt/PenKJWIYBWoaqFLaikq5iNnJ6vpMcd+0I3zog+12SZIaXw/4t8ws1XteL3xuL6PV7N/T38AAACSAZ6NdEJ/AAADAADnwsXhR/VAAJ0xiLKD501BeT72WHaR9Iam0pnmHZhtZfd6KAZQ0TQPac7yeHjL0W3m+z5O4cOJfcDXfnHW1XLhPBxcygMHxK6URyRK3J6yBmGH6rz3kbtJDQwwraL+FLPm1miEesyXuVLz90SfILsDupK1guMs7WBpM1cyC9w6jqYf/qKjyhkAAACeAZ6PakJ/AAADAADleQAAT1ElEb6jIH6SlqiOqcQ4RGfLscHLu7gGs9Xp4XdectPiwjBEzUGuBIbHRCAZroSZd2hTKlvD/Wl1z1BW/WhTLmQB6PrJ6zp5611ppi0xrM2tnZ6xWhH+ZnkOzMF2NiOV7WaW8GIf9iioOAp9KEmU35yBRqztXS3Dom1pJyoggutTWJ+v4WoojzCgbspqfu8AAAEEQZqSSahBaJlMFPDP/p4QAAADAANjwnSSkbTcShpEJZqFaAAaN6AdUzGB+bSSCyoD8+iDk6XjkwO7fnSa7UEFOx5RHHwtm98YjN9a6RBVqn6FdEM6Wq5nmlg6otkh+ELRV8Vw2da5X9NZZMiGETnUR7Pvq9radpnbJ2inFf+6Vm/Mu7Ngi5oh5KWbR83Ra/OytZtTmJVjjsitJO30C3Ae0TSLKkAdGs7xsSreFAwdfVG5i8sTXotEklhnz6xIVWlJMCopMMaTCxUos18rsvBNVSNHj/ku0RUJj8VTyyoiub+6X8Ic9QQmW6bpkTQgHx0C6MIRLHzS3ma0pVksw6A70oGud8AAAACMAZ6xakJ/AAADAADoBRqsuyN2/lGqYaAB2RK6Jiil9BiHp9mamhtWYLrlngG32asJd6muvmx/eYJ//ocY3dRlD9aoaH0jothy6NZfEU9NZi/WA4gr7kcl0maym91/F0XO0YS/r6K9bHlTWrVBMtF5jEK8XY0ao1ftftRVTSU0ebBFOXJn9OB8S6Z8H/sAAAD5QZq0SeEKUmUwUsL//oywAAADAAFC3x8F3P0AGxiox6lia8ZiHQwY45VWmvCFt7GmcLl0qdJhZ6WgnT5hNeOm0BKR1iWyVXjnWoBiUTAt+mBsN5fSBM8dZElil63zCrj8LA9iv84+b95PptrSrBC2rvsisouxJGIluQuyJ8+9wBeQaNi4afh/HtkE4EX77YVmjAQYg6TZ5XM/7T9LiluxeZf5VbZkfBfBK1kn0Ewmyp/wappa1XHicsKRmDSdG0AMemX9xZ4RdxNxnLRK+1p3wPnLYYkc1A6JMsWGd53ir2rnheW6S2CHQkPnFNCeEkry5VncfBH4rSKuAAAAngGe02pCfwAAAwAAV6Vko1BeiP/UIAOs+PEOTIP6eyy/E3bOaUXbHVb9ab2esePEShMm4CIEdiiu4Je1lnw/Aalh7AV2eAw8OAb/6AKasLM9ovArbGbazoYZ24cDdY7r61oEtrncfzwyEuJcpVpbU/vc7F/PieuqcCJlUGKylbZdzuNgeh3Szo9KpcquaHkS+/lYBWu2XQwoEc7/lgqYAAAA4kGa1UnhDomUwIZ//p4QAAADAAE/5lz29x4K8v+ABohrOeG5pJY0qOE4bHsS+nt75Oy1Xeenisq35gAZSHk/IcG3zucIU59t+U7yjn5EyCVZb8pAhNO307EkOOfcwJu6VQpCxLAckSznfn4VUTqCg9ZvEJtvX5H7U00c+9AjvKeqJqSy21Grj034/XiE2K3EB04hvo//JBWCNtUwXmOCDI7neNJe2e4sM3yytFxFN7GjgMliHLLtSDXulc0Ep/QOEjUY2HLffUjKCFxyW+ZfNwMZrmAxkKbvms5jZX4/2xldh78AAADUQZr2SeEPJlMCGf/+nhAAAAMAATWQQNyrGODYADRsd+rXoVgJjMMeotFtbEZimQ2a2ppqoeIsotgtKgCgpc/aHqj6+y/r/FvFw18jA92h3p8NMfFdaZ/BLR3yPLZmhvH1O3Tm7ph2WvzIY9aEM4uf8A7oLbO902EX8M1pI1wdA20zGG4MiY5LabK0XzYs0KHPinnxP8jVYgJfcGtyuzBvSkej6mP2nXpGLEV6LCumlMqE1dCj59PN/4LW+rwFYHhel8wD8MP/4wynEN+FZeuv7h81nnkAAAC+QZsXSeEPJlMCGf/+nhAAAAMAATb4sNftDUIDuvTJCvB7gA1X8Fox+yp7wnkI/IT6tOYkya7bzOK8+cPQM4gtnPkybbva/YVkjzmw6NDK3DCMSI22Qx+xZW5NyCCWhCAHmcT81KADeL5EddU8iZJkz6NTxHHFQ4CC/DsX/K9xO8YCpg6AlTNdvc6l9Oc6YOD/i8xrfT8+FSqRY2FU0OLAX8pBGO1oTLoAyXxedCttErwfPmq070TqAKaiC5yvSwAAAMtBmzhJ4Q8mUwIZ//6eEAAAAwAAdDaPu88Lvt8AH121kFHvBKqUTf+HtwbyxYFZs1YhyYgzdy08Cy4qba3G1gLMtDZyCm9xmO9ig9BB8Knp/CBcD4I7bZ+K7D2t+P5hzUnuLg2dLSAedScouFOsEHKMBVf46ChXfRp1cmh+HKbGLpyS4dG3z2DrxRv4M4b0Rh83vqlwmcc02mj/FFvnXdIndoiKmUVCxMakYQ4njxLuVkxWuIuUgAj3mUik2hT9RJvN3Kfjn9f45QbVoQAAAQtBm1pJ4Q8mUwURPDP//p4QAAADAAEm48+BoIgMb14LSTrDKwRLNzBSbs9brVXbejID9mCC7aLDt9camBw6k1fjpn38nj5MTRxYJvbwv/6seOy3999/ey/2wo2PomDjtHikaVmIGqbCNoodeJQBq4zg5ZkSDtums4/vKY2kJ/xDgqPvFaaUBdYJuvmu/pwg1FCJTXoWyj/9qmw54uTZ9Wkas7c1vXaPqETQjbIIQ70ejFln+ayfgEK0DsC4yiaCy98SpAgcstnDPA6e5L1jBs1soz+KVHrNCdHm6txpqftOOOldUzwDPdenjx6kWwxO4dj+hD1EgrUfP91QQ3WP/25NwuQblbVGijykV8AAAACXAZ95akJ/AAADAABUGU2VwuaAEYFKqsFGXlMWkkV44KU1zeoUncmEQ2+nXSzZNr5UIHQ7jDyzJK19p6aus+dqpC6Kc2aXaYrFkvJf9hCbF1didC121fdSEKvGkLm5nWANMbwEjKbRjIn6/TPxhW+ULd0t5ZTrCaYEKHxiJtaK95PrX2/bzfBZyEDhnvtWAZtWzP53wFb7twAAAQ9Bm3xJ4Q8mUwU8M//+nhAAAAMAAS7pvOsfJmICH1jcPAAdaNqyoHKvfSC5tGmqvJtmDOvGNmFfs3f8vPh+jMjbwY7XIN3NShzmkjig4TrQxprzcZtxai5msBjLygJncvMdgti++mPPI7qHgSZ+dWd+++lWOYk7n9SprODWj7s+FdOy5SdmWjYC0iqTmzRdK4QwVP5b6nD2o7Go7flSiwUx0WGS4Lm+7PUCRb9lc3TqWRRMIm4xNsOtYIS1z9JQgZ1wzIi8qWAf2DANgKewrZcf7eN3H2LCd6SPtFKcZd/QNB+l5C4F74uFMfoKiYG605vYQvQ/m8I5/H7coT293TPBlcQ2Bi7f6tA8hYrjqvXgAAAAlwGfm2pCfwAAAwAAUfzLhUZJMHK5hKhEAEQeW/WF1arV2Pcnbt65LBTTZwLPk9h21pAcywayVhdKFreUHiH1W1DZdntcUsZSXMUFhBzAUVQ5QF8vwiiIvtqP54vQjoh4/BUxBi3+AJ5/8kllCl6BKWfAfCgqGBC9FXTWPoyb3Cs9IrV9+VPT3baDNixq3ZkFH4hKDyaAurEAAAFFQZufSeEPJlMCGf/+nhAAAAMAASUUlwhwodEV0AA7Q+4Wi1eowYTx4Hz9bKWd8cyHx0Py1eWHuUHe6dPUiG9RvNeC+eCo7C8LlaJTYbDXqsZjz4ulc6fNMKjoGTMlWBUXk1rWFk+B/QZxHTNdvdnZ+knL8oiOYCvjUkxHNBNlvxYTQ3IqP5teAuHzSj9xhB2waWjnEhpemSOp3kbza6plsaD0mWkiEDmxcTXCMVCPh4MxugJad6mbUn4UALpZrPw+6V3grdfTpLPSgE/vSI//fU+QVqTomcUW2PaHcSf9tOAg0IOvDHxi8rBtB9ypatb2KRYBjJ7CXIJkiCbj9QkMjJ2WSGkS/Mhk+l0WDcVEXFLJSJpUo9QA0Elo6O97PzxpHXdiBaHMRV6McASpDXuCOldMUm2LOGCtY/9Hk5c8AbzMlGBIOQAAAMNBn71FETwr/wAAAwAAhtWC6nFyXwdi0xw8NDFtAA6vOGSd5vAUgzxRitewyKXcn5w50MI4Q5ujKh/ZRKBY0Rxusw2CpzXv3j3ejfINDjiOcacySbc2xrn1sYCBiAM3hGHMUNzQZwIuLhxzhguzA++goWzxsMmK9x/2H0+UmNdumsmZeAzVV2rT//TzLeOA8m+s+2C9vewhZyeuspzc9PJqgHc3lczR8UoSk0OOLgJbayAJA6Msiz5crhHw6//+AuPhKrgAAACkAZ/eakJ/AAADAABPXOLxpxb51bOglAALx08E9C+97iXMA5SoUxHbliguh43PJYO6+krHvCbV6EvSx0V+TJxiQQ9ekG+mRFKdRGWnBPuxEXUUVXHchSk5m8BczHoKlmB/jtqcaTJ6ajr3aeOus3N0ySaBnfJ1Qpy2xD8Rkm1QrBb1eMrn1Ec4rRQSQoLb1xwnPs1+1zDFpSl3Vdcttpxais/p6cAAAAExQZvBSahBaJlMFPDP/p4QAAADAALVXPVwv0ABc+60Kl5t4ubXZwpp3gTeAGab+BuI2o8gem80oa50lrGaFHkLdWO5811SEeP5TRgYraorNyXjotESXVZUf6X8lsI3lsbr8iZ1/dxaNxvsn/psPUfTlf9DYglwb3lDExZaCcmydrkXqe0DEhUs/xMMX+O+2aLaQqiwm64j900Gt0TgteIG7r4iceKIdAMm7RauqQgnO1Cf/P8Su3DWHJReoYreBcgPnalAazO6bqJHF0+elFUTeJCPbdQliHJSCo4aTCAGyrsohXcwA6zYF1NMezmrUi2tPo9AtVtzH74Svh7MfbXZvfv3xftzXA1cXMyKbM/pAtIbqonNeFxfFJa8IyFSHN2ccw8xCIkh/5cVPl2NneXw6acAAACYAZ/gakJ/AAADAADEXx59T5Q59H/VwmLNd+l8sADqdUm9fzrsuE/uh9aVTqpN0fND6fUL7+9ITTs5OAZDGR0fqalKnG/98/ljXjdBCp7j8wi5pECCydYxeRjMbsh2hCZJ5XF2gLcbZ9T+lYcnirK5xzEaFGBn6G5ySiakMZOghZGI+2CUjKK6O5SSBsh8az/funnK4xtXfh4AAAEJQZviSeEKUmUwIZ/+nhAAAAMAAtVY3oh0ABD4cCW95Khru798z5/sURnOOwabMjybSI4pWm3ETjT0aLlm/8xr294esWYp36QfYx/0gY9MsLhSBh14+qlRn02EadsQOEM/F7IAy+QPsKxV80mHfvW87fu2fYglc7bAfdripssvXuLRP3ae6uRflt1WnGTFU3HQezZBQhw+5iREIznqIM6uRumcw9LFpEhxkawcftarQuLEqoOhsGLclLKphjdSCf6l48NncSUtEAwzgtPrI4zRO2lCs1HPG2FnnS9bxeWoqEKQovYljg/dfL+2pQsceHShAFV2939m1eYZqrR1UhyVlMgvm/BxPXP6WQAAAPpBmgNJ4Q6JlMCGf/6eEAAAAwAC52BDoAG19GeZEowBMi2oSlKi9GSPuj6aCE1Poc6SWNRs0AsNjBqapAtVre1q6srAWsQiRgkl/nC33NWZO8PSEj3GJPrjb1uiU11jMrk1vqcrPcFZ4JcVwthpVuwW5P5bcFOR8kQAYcqDTHlkvbAcWxWZKg01UUQ6XCzTiX/ry2J7qYEr1zESogmzuySWAjkth6QXslbXwgwktMJACCfgTF0L7QxJGsXP5ZJc76m220D79+4oJV97TL7Z10C6ki83fw8ynUy8tSYqqy9qpzNERJSd3hLUXGo7T/IQIbJml/S+TSAEVxpmAAAA7UGaJ0nhDyZTAhX//jhAAAADAAtX1MaENJN0XOnP4AOYYjmZeVT3hllaCjQcvi0xhzr0CBvnrzyFeBl2qw7OUg53FaUYsZOCxlLlofHg9G5OZUMDk6/OJzLRyUzbVPrlUixK7Zu1ADbObmEX7Fi3BltjQyXhiHqgI8FOkkTW3+SMyXVBUMF74mrlTAWYwB9RZoYyVhbOY1qxo+q57oh4KCR/4jyUFra6jAv3gXYgrwarD04HdR5xfc5/5MKWn0R1HJh0mEAN6he2oJE0VLOUuEn3sZGtGJPksP1E+Jkmstcd1chP9cjDln6BpJw6QQAAALNBnkVFETwr/wAAAwABknS5tkCFT/iV7KCrtnnFaAAaDkdbporM7HSzdaq284mMkzWwmFYP/EeCJMsYPPxhLPuu5G1kvcerDcCnM05+qX41pNciXZ85PlpWfdQC/0OjtcOb4JIj8l8ZpVGp6fwqnZdNB8LQOkHJaUMP/EPxVJWDPpbYfnMWeoFHMlQ22GmuoBM3SjWoHpRnY5PT6+AUTcx0mD5h/8nppqZGpQnloMNIsh6VGwAAAHABnmR0Qn8AAAMAAMk6sDCKK38zWiBLH810yakkRNygAfiqeIjsjH4lQT6uZYXPn/bYxllVC0vaNPbY8JgATmCmPn6o6gllu//4CBCXjJl1jy1sLKU2x3GsOk4gRFRfd3/HCt9wLZMu8dW9qAb0fXfBAAAAkAGeZmpCfwAAAwAB/HjOvUsllmnkABfM6eEpyvEFrD/EXPtNaptQ242gsyBWj7o4H1fPcKQ4PDLr1Dd0hd+mVvTVYQ5bO+0Pg/wWEwm4cW/2C+8hBpVremh2tEmVWAIxbihbn4dvoHAT7QwbdDzC4v7JIpA//2XLatSgEpWMiioippeg/1llyXMTYXejcTovgQAAAHZBmmhJqEFomUwIT//98QAAAwAAGxFkh0JHABzh1OsOdKWJ/PeZ95Ma4Vjr0ilRCjO/qu8yXV+rmdQ5xl0cwIHv5zD/AKwJQcjE0Ex7tWEof9I8wz64VnjqOpeMpUPqtIC+HegKqVjD/ZWkR2eScDHquSfJ1PrAAAAL721vb3YAAABsbXZoZAAAAAAAAAAAAAAAAAAAA+gAABosAAEAAAEAAAAAAAAAAAAAAAABAAAAAAAAAAAAAAAAAAAAAQAAAAAAAAAAAAAAAAAAQAAAAAAAAAAAAAAAAAAAAAAAAAAAAAAAAAAAAAAAAAIAAAsZdHJhawAAAFx0a2hkAAAAAwAAAAAAAAAAAAAAAQAAAAAAABosAAAAAAAAAAAAAAAAAAAAAAABAAAAAAAAAAAAAAAAAAAAAQAAAAAAAAAAAAAAAAAAQAAAAAJYAAABkAAAAAAAJGVkdHMAAAAcZWxzdAAAAAAAAAABAAAaLAAABAAAAQAAAAAKkW1kaWEAAAAgbWRoZAAAAAAAAAAAAAAAAAAAPAAAAZIAVcQAAAAAAC1oZGxyAAAAAAAAAAB2aWRlAAAAAAAAAAAAAAAAVmlkZW9IYW5kbGVyAAAACjxtaW5mAAAAFHZtaGQAAAABAAAAAAAAAAAAAAAkZGluZgAAABxkcmVmAAAAAAAAAAEAAAAMdXJsIAAAAAEAAAn8c3RibAAAAJhzdHNkAAAAAAAAAAEAAACIYXZjMQAAAAAAAAABAAAAAAAAAAAAAAAAAAAAAAJYAZAASAAAAEgAAAAAAAAAAQAAAAAAAAAAAAAAAAAAAAAAAAAAAAAAAAAAAAAAAAAAABj//wAAADJhdmNDAWQAHv/hABlnZAAerNlAmDPl4QAAAwABAAADADwPFi2WAQAGaOvjyyLAAAAAGHN0dHMAAAAAAAAAAQAAAMkAAAIAAAAAFHN0c3MAAAAAAAAAAQAAAAEAAAXIY3R0cwAAAAAAAAC3AAAAAQAABAAAAAABAAAGAAAAAAEAAAIAAAAAAQAACgAAAAABAAAEAAAAAAEAAAAAAAAAAQAAAgAAAAABAAAKAAAAAAEAAAQAAAAAAQAAAAAAAAABAAACAAAAAAEAAAoAAAAAAQAABAAAAAABAAAAAAAAAAEAAAIAAAAAAQAACgAAAAABAAAEAAAAAAEAAAAAAAAAAQAAAgAAAAABAAAGAAAAAAEAAAIAAAAAAQAACgAAAAABAAAEAAAAAAEAAAAAAAAAAQAAAgAAAAABAAAGAAAAAAEAAAIAAAAAAQAACgAAAAABAAAEAAAAAAEAAAAAAAAAAQAAAgAAAAABAAAGAAAAAAEAAAIAAAAAAQAABgAAAAABAAACAAAAAAEAAAoAAAAAAQAABAAAAAABAAAAAAAAAAEAAAIAAAAAAQAACgAAAAABAAAEAAAAAAEAAAAAAAAAAQAAAgAAAAABAAAEAAAAAAEAAAoAAAAAAQAABAAAAAABAAAAAAAAAAEAAAIAAAAAAQAABAAAAAABAAAGAAAAAAEAAAIAAAAAAQAACgAAAAABAAAEAAAAAAEAAAAAAAAAAQAAAgAAAAABAAAKAAAAAAEAAAQAAAAAAQAAAAAAAAABAAACAAAAAAEAAAoAAAAAAQAABAAAAAABAAAAAAAAAAEAAAIAAAAAAQAABgAAAAABAAACAAAAAAEAAAoAAAAAAQAABAAAAAABAAAAAAAAAAEAAAIAAAAAAQAABAAAAAABAAAKAAAAAAEAAAQAAAAAAQAAAAAAAAABAAACAAAAAAEAAAoAAAAAAQAABAAAAAABAAAAAAAAAAEAAAIAAAAAAQAACgAAAAABAAAEAAAAAAEAAAAAAAAAAQAAAgAAAAABAAAGAAAAAAEAAAIAAAAAAQAACAAAAAACAAACAAAAAAEAAAYAAAAAAQAAAgAAAAABAAAGAAAAAAEAAAIAAAAAAQAABgAAAAABAAACAAAAAAEAAAYAAAAAAQAAAgAAAAABAAAKAAAAAAEAAAQAAAAAAQAAAAAAAAABAAACAAAAAAEAAAYAAAAAAQAAAgAAAAABAAAGAAAAAAEAAAIAAAAAAQAACgAAAAABAAAEAAAAAAEAAAAAAAAAAQAAAgAAAAABAAAKAAAAAAEAAAQAAAAAAQAAAAAAAAABAAACAAAAAAQAAAQAAAAAAQAABgAAAAABAAACAAAAAAEAAAYAAAAAAQAAAgAAAAABAAAKAAAAAAEAAAQAAAAAAQAAAAAAAAABAAACAAAAAAEAAAYAAAAAAQAAAgAAAAABAAAEAAAAAAEAAAYAAAAAAQAAAgAAAAABAAAEAAAAAAEAAAYAAAAAAQAAAgAAAAABAAAKAAAAAAEAAAQAAAAAAQAAAAAAAAABAAACAAAAAAEAAAgAAAAAAgAAAgAAAAABAAAIAAAAAAIAAAIAAAAABwAABAAAAAABAAAKAAAAAAEAAAQAAAAAAQAAAAAAAAABAAACAAAAAAEAAAQAAAAAAQAACAAAAAACAAACAAAAAAEAAAoAAAAAAQAABAAAAAABAAAAAAAAAAEAAAIAAAAAAQAABAAAAAABAAAKAAAAAAEAAAQAAAAAAQAAAAAAAAABAAACAAAAAAEAAAoAAAAAAQAABAAAAAABAAAAAAAAAAEAAAIAAAAAAQAABgAAAAABAAACAAAAAAEAAAYAAAAAAQAAAgAAAAABAAAKAAAAAAEAAAQAAAAAAQAAAAAAAAABAAACAAAAAAEAAAYAAAAAAQAAAgAAAAABAAAGAAAAAAEAAAIAAAAABAAABAAAAAABAAAGAAAAAAEAAAIAAAAAAQAABgAAAAABAAACAAAAAAEAAAgAAAAAAgAAAgAAAAABAAAGAAAAAAEAAAIAAAAAAgAABAAAAAABAAAKAAAAAAEAAAQAAAAAAQAAAAAAAAABAAACAAAAAAEAAAQAAAAAHHN0c2MAAAAAAAAAAQAAAAEAAADJAAAAAQAAAzhzdHN6AAAAAAAAAAAAAADJAAATnwAAAlsAAABwAAABNgAAALMAAABjAAAAkAAAAPoAAAC2AAAAmAAAAJ4AAAEpAAAAxAAAAKMAAACHAAABAwAAAK4AAACiAAAAngAAAToAAACuAAABGgAAAMEAAACfAAAAmAAAASYAAACoAAABKgAAALsAAACKAAAArgAAAM4AAACXAAAA+AAAAHoAAADMAAAAhQAAAHIAAABXAAAAyQAAADAAAABCAAAAfQAAAOAAAAEQAAAAuQAAAJEAAACeAAABDQAAAQMAAAB9AAAA2QAAAKYAAACKAAAAZgAAASYAAACXAAAAnQAAAI4AAAErAAAArwAAAIUAAACaAAABIQAAAKUAAAEJAAAAYwAAAI4AAAA4AAAAewAAAPkAAAApAAAAOQAAAIsAAAEiAAAAmgAAAJIAAAB1AAABDQAAAJ8AAAClAAAAigAAAPcAAACHAAAA/wAAAJ0AAAB3AAABDwAAAI4AAAEQAAAAqwAAARwAAAC/AAABJgAAAJIAAAFkAAAAuQAAAHgAAACXAAAA9gAAAIoAAAAtAAAAjwAAAOcAAAC/AAAAkAAAAIcAAAE3AAAAsAAAAIEAAACSAAAA6QAAAQMAAAEDAAAAuAAAAS8AAACEAAABDAAAAI8AAAFjAAAAvQAAAJQAAACNAAABKAAAALgAAADcAAABJQAAALAAAAD6AAAA4wAAAJ0AAAETAAAAiwAAAIAAAABvAAAAZwAAAKgAAABsAAAA2wAAAJsAAACAAAAA0AAAAOUAAADgAAAA6wAAAPQAAAEDAAABDQAAAVQAAADYAAAArgAAAKgAAADjAAABGwAAAJYAAACEAAABgAAAAMgAAACNAAAAtQAAASQAAAFmAAAAwgAAAKAAAACfAAABEQAAAKoAAACJAAAAgQAAAGoAAAByAAAAiAAAAH8AAAEIAAAAwgAAAJYAAACiAAABCAAAAJAAAAD9AAAAogAAAOYAAADYAAAAwgAAAM8AAAEPAAAAmwAAARMAAACbAAABSQAAAMcAAACoAAABNQAAAJwAAAENAAAA/gAAAPEAAAC3AAAAdAAAAJQAAAB6AAAAFHN0Y28AAAAAAAAAAQAAADAAAABidWR0YQAAAFptZXRhAAAAAAAAACFoZGxyAAAAAAAAAABtZGlyYXBwbAAAAAAAAAAAAAAAAC1pbHN0AAAAJal0b28AAAAdZGF0YQAAAAEAAAAATGF2ZjU3LjgzLjEwMA==\" type=\"video/mp4\" />\n",
              "             </video>"
            ],
            "text/plain": [
              "<IPython.core.display.HTML object>"
            ]
          },
          "metadata": {
            "tags": []
          }
        }
      ]
    },
    {
      "cell_type": "markdown",
      "metadata": {
        "id": "6mqhGSe3EEHl"
      },
      "source": [
        "###Random Action MC Episode Run (Output Episode Log)"
      ]
    },
    {
      "cell_type": "code",
      "metadata": {
        "id": "FswdWPw3V_Qm"
      },
      "source": [
        "# This code block will run an episode just like the previous block, although\r\n",
        "# instead of the episode replay being in the form of the video, we will have\r\n",
        "# a text output of the states visited, actions taken, and rewards earned by the\r\n",
        "# MC until termination\r\n",
        "env = gym.make('MountainCar-v0')\r\n",
        "\r\n",
        "env.reset()\r\n",
        "\r\n",
        "for i in range(50000):\r\n",
        "  action = env.action_space.sample()\r\n",
        "  print(\"step i\",i,\"action=\",action)\r\n",
        "  obs, reward, done, info = env.step(action)\r\n",
        "  print(\"obs=\",obs,\"reward=\",reward,\"done=\",done,\"info=\",info)\r\n",
        "  \r\n",
        "  if done:\r\n",
        "    break\r\n",
        "    \r\n",
        "env.close()\r\n",
        "print(\"Iterations that were run:\", i)\r\n",
        "print(\"step i\",i,\"action=\",action)\r\n",
        "print(\"obs=\",obs,\"reward=\",reward,\"done=\",done,\"info=\",info)"
      ],
      "execution_count": null,
      "outputs": []
    },
    {
      "cell_type": "markdown",
      "metadata": {
        "id": "5GgdflnoGf5s"
      },
      "source": [
        "#**Helper Functions**"
      ]
    },
    {
      "cell_type": "markdown",
      "metadata": {
        "id": "BVIWA9TLorIa"
      },
      "source": [
        "##**State Space Discretization**"
      ]
    },
    {
      "cell_type": "markdown",
      "metadata": {
        "id": "Sya83ijSoxB4"
      },
      "source": [
        "States in the cartpole environment are defined by the pole's position, linear velocity, angle from the vertical, and angular velocity. These are continuous quantities, which are currently not compatible with our development for policy, action value, and so on. Therefore, we require to discretize the state space. The helper functions below help achieve this aim."
      ]
    },
    {
      "cell_type": "markdown",
      "metadata": {
        "id": "ApHvs2ILrTav"
      },
      "source": [
        "###Position Quantization"
      ]
    },
    {
      "cell_type": "code",
      "metadata": {
        "id": "woMDDicddxSL"
      },
      "source": [
        "# Position quantization helper function\r\n",
        "# 11 buckets were constructed for the quantization of \r\n",
        "# position in this implementation\r\n",
        "def position_quantization(input_position):\r\n",
        "\r\n",
        "  if input_position == -1.2:\r\n",
        "    position = 0\r\n",
        "    \r\n",
        "  elif input_position > -1.2 and input_position < -1:\r\n",
        "    position = 1\r\n",
        "\r\n",
        "  elif input_position >= -1 and input_position < -0.8:\r\n",
        "    position = 2\r\n",
        "\r\n",
        "  elif input_position >= -0.8 and input_position < -0.6:\r\n",
        "    position = 3\r\n",
        "\r\n",
        "  elif input_position >= -0.6 and input_position < -0.4:\r\n",
        "    position = 4\r\n",
        "\r\n",
        "  elif input_position >= -0.4 and input_position < -0.2:\r\n",
        "    position = 5\r\n",
        "\r\n",
        "  elif input_position >= -0.2 and input_position < 0:\r\n",
        "    position = 6\r\n",
        "\r\n",
        "  elif input_position >= 0 and input_position < 0.2:\r\n",
        "    position = 7\r\n",
        "\r\n",
        "  elif input_position >= 0.2 and input_position < 0.4:\r\n",
        "    position = 8\r\n",
        "\r\n",
        "  elif input_position >= 0.4 and input_position < 0.5:\r\n",
        "    position = 9\r\n",
        "\r\n",
        "  else:\r\n",
        "    position = 10\r\n",
        "\r\n",
        "  # Return the resulting position index\r\n",
        "  return position"
      ],
      "execution_count": 8,
      "outputs": []
    },
    {
      "cell_type": "markdown",
      "metadata": {
        "id": "XGoDjno2rYEt"
      },
      "source": [
        "###Velocity Quantization"
      ]
    },
    {
      "cell_type": "code",
      "metadata": {
        "id": "6nNUe3dDeHlT"
      },
      "source": [
        "# The logic described for the 'position_quantization' helper function\r\n",
        "# applies similarly here\r\n",
        "# 11 buckets were constructed for the quantization of \r\n",
        "# velocity in this implementation\r\n",
        "def velocity_quantization(input_vel):\r\n",
        "\r\n",
        "  if input_vel == -0.7:\r\n",
        "    velocity = 0\r\n",
        "\r\n",
        "  elif input_vel > -0.7 and input_vel < -0.5:\r\n",
        "    velocity = 1\r\n",
        "\r\n",
        "  elif input_vel >= -0.5 and input_vel < -0.3:\r\n",
        "    velocity = 2\r\n",
        "\r\n",
        "  elif input_vel >= -0.3 and input_vel < -0.1:\r\n",
        "    velocity = 3\r\n",
        "\r\n",
        "  elif input_vel >= -0.1 and input_vel < 0:\r\n",
        "    velocity = 4\r\n",
        "\r\n",
        "  elif input_vel == 0:\r\n",
        "    velocity = 5\r\n",
        "\r\n",
        "  elif input_vel > 0 and input_vel < 0.1:\r\n",
        "    velocity = 6\r\n",
        "\r\n",
        "  elif input_vel >= 0.1 and input_vel < 0.3:\r\n",
        "    velocity = 7\r\n",
        "\r\n",
        "  elif input_vel >= 0.3 and input_vel < 0.5:\r\n",
        "    velocity = 8\r\n",
        "\r\n",
        "  elif input_vel >= 0.5 and input_vel < 0.7:\r\n",
        "    velocity = 9\r\n",
        "\r\n",
        "  else:\r\n",
        "    velocity = 10\r\n",
        "\r\n",
        "  return velocity"
      ],
      "execution_count": 9,
      "outputs": []
    },
    {
      "cell_type": "markdown",
      "metadata": {
        "id": "LpXjlyp0rqK0"
      },
      "source": [
        "###State Discretization"
      ]
    },
    {
      "cell_type": "code",
      "metadata": {
        "id": "1b1_QM7cXzs2"
      },
      "source": [
        "# This function makes use of the previous helper functions in order to take\r\n",
        "# the state of the agent, represented \r\n",
        "# as a tuple (position, velocity), and output its\r\n",
        "# discretized counterpart, based on the buckets developed previously\r\n",
        "def state_discretization(input_state):\r\n",
        "\r\n",
        "  # Unpack input state into its two components\r\n",
        "  position, velocity = input_state\r\n",
        "\r\n",
        "  # Discretize each of the two variables representing the CartPole's state\r\n",
        "  position_discrete = position_quantization(position)\r\n",
        "  velocity_discrete = velocity_quantization(velocity)   \r\n",
        "\r\n",
        "  # Store the discretized version of the CartPole's state into a tuple\r\n",
        "  state_discrete = (position_discrete, velocity_discrete)\r\n",
        "\r\n",
        "  # Output the discretized state tuple\r\n",
        "  return state_discrete"
      ],
      "execution_count": 10,
      "outputs": []
    },
    {
      "cell_type": "markdown",
      "metadata": {
        "id": "ZodBkswWtYX-"
      },
      "source": [
        "##**Policy Helper Functions**"
      ]
    },
    {
      "cell_type": "markdown",
      "metadata": {
        "id": "WdaoEuegtrcl"
      },
      "source": [
        "###Action Selection"
      ]
    },
    {
      "cell_type": "code",
      "metadata": {
        "id": "py640gagh8cL"
      },
      "source": [
        "# Action selection for the agent - based on the probability weights for each\r\n",
        "# action in a given state\r\n",
        "def action_selection(policy_input, state_input):\r\n",
        "\r\n",
        "  # From the current state, extract the possible actions and their corresponding\r\n",
        "  # weights\r\n",
        "  action_set = list(policy_input[state_input].keys())\r\n",
        "  action_weights = list(policy_input[state_input].values())\r\n",
        "\r\n",
        "  # Probabilistically an action based on each action's weight\r\n",
        "  selected_action = random.choices(action_set, action_weights, k= 1)[0]\r\n",
        "\r\n",
        "  # Return the selected action \r\n",
        "  return selected_action"
      ],
      "execution_count": 11,
      "outputs": []
    },
    {
      "cell_type": "markdown",
      "metadata": {
        "id": "8FE2zcWouykh"
      },
      "source": [
        "###ε-Greedy Policy Generation"
      ]
    },
    {
      "cell_type": "code",
      "metadata": {
        "id": "PMjgD3D_if__"
      },
      "source": [
        "# Generate a behaviour policy (ε-greedy) given a target policy\r\n",
        "# INPUTS: target policy, and epsilon (expects epsilon > 0)\r\n",
        "def eps_greedy_policy_generator(input_policy, eps = 0.1):\r\n",
        "\r\n",
        "  # Initialize soft_policy dictionary\r\n",
        "  soft_policy = {}\r\n",
        "\r\n",
        "  # Loop through each state\r\n",
        "  for state in input_policy:\r\n",
        "\r\n",
        "      # Determine the amount of actions that can be taken to go from current\r\n",
        "      # state to another state (|𝒜(s)|)\r\n",
        "      act_set_size = len(input_policy[state])\r\n",
        "\r\n",
        "      # Determine the maximum probability of taking an action for a given state\r\n",
        "      optimal_value = max(input_policy[state].values())\r\n",
        "\r\n",
        "      # Determine which actions out of the state's action set |𝒜(s)|\r\n",
        "      # are optimal, based on the calculated optimal value\r\n",
        "      optimal_actions = [action for action in input_policy[state] if input_policy[state][action] == optimal_value]     \r\n",
        "\r\n",
        "      # Initialize sub dictionary of the action set for the soft policy\r\n",
        "      soft_policy_action_set = {}\r\n",
        "       \r\n",
        "      # Loop through each action possible in the current state\r\n",
        "      for action in input_policy[state]:\r\n",
        "        \r\n",
        "        # The following if statements intend to assign probabilities of taking\r\n",
        "        # actions in given states in accordance with the ε-soft requirements\r\n",
        "        if action in optimal_actions:\r\n",
        "\r\n",
        "          if len(optimal_actions) != act_set_size:\r\n",
        "            # When the optimal value in an action set is > 0\r\n",
        "            # When all actions for a given state are not equiprobable,\r\n",
        "            # Set the probability of taking the optimal action to be = (1/|𝒜'(s)|)(1 - ε) + ε/|𝒜(s)|\r\n",
        "            # Where |𝒜'(s)| represents the number of optimal actions within |𝒜(s)| (i.e. ties)\r\n",
        "            soft_policy_action_set[action] = (1/len(optimal_actions))*(1 - eps) + eps/act_set_size\r\n",
        "\r\n",
        "          else:\r\n",
        "            # Otherwise, if all actions in |𝒜(s)| are equiprobable,\r\n",
        "            # and not equal to 0, they shall remain equiprobable\r\n",
        "            soft_policy_action_set[action] = (1/len(optimal_actions))\r\n",
        "\r\n",
        "        else:\r\n",
        "          # For non optimal actions, set the probability of taking\r\n",
        "          # these actions = ε/|𝒜(s)|\r\n",
        "          soft_policy_action_set[action] = eps/act_set_size\r\n",
        "\r\n",
        "      # Set the newly 𝒜(s) to the current s  \r\n",
        "      soft_policy[state] = soft_policy_action_set\r\n",
        "  \r\n",
        "  # Return the ε-greedy policy\r\n",
        "  return soft_policy"
      ],
      "execution_count": 12,
      "outputs": []
    },
    {
      "cell_type": "markdown",
      "metadata": {
        "id": "OucynkHxH9Yc"
      },
      "source": [
        "###ε-Greedy Policy State Update"
      ]
    },
    {
      "cell_type": "code",
      "metadata": {
        "id": "1EN-lbi1H7n5"
      },
      "source": [
        "# Updates ε-greedy policy for a specified state (i.e. calculate π(s))\r\n",
        "def eps_greedy_policy_update(input_policy_state, eps = 0.1):\r\n",
        "\r\n",
        "  # Determine the amount of actions that can be taken to go from current\r\n",
        "  # state to another state (|𝒜(s)|)\r\n",
        "  act_set_size = len(input_policy_state)\r\n",
        "\r\n",
        "  # Determine the maximum probability of taking an action for a given state\r\n",
        "  optimal_value = max(input_policy_state.values())\r\n",
        "\r\n",
        "  # Determine which actions out of the state's action set |𝒜(s)|\r\n",
        "  # are optimal, based on the calculated optimal value\r\n",
        "  optimal_actions = [action for action in input_policy_state if input_policy_state[action] == optimal_value]     \r\n",
        "\r\n",
        "  # Initialize sub dictionary of the action set for the soft policy\r\n",
        "  soft_policy_action_set = {}\r\n",
        "    \r\n",
        "  # Loop through each action possible in the current state\r\n",
        "  for action in input_policy_state:\r\n",
        "    \r\n",
        "    # The following if statements intend to assign probabilities of taking\r\n",
        "    # actions in given states in accordance with the ε-soft requirements\r\n",
        "    if action in optimal_actions:\r\n",
        "\r\n",
        "      if len(optimal_actions) != act_set_size:\r\n",
        "        # When the optimal value in an action set is > 0\r\n",
        "        # When all actions for a given state are not equiprobable,\r\n",
        "        # Set the probability of taking the optimal action to be = (1/|𝒜'(s)|)(1 - ε) + ε/|𝒜(s)|\r\n",
        "        # Where |𝒜'(s)| represents the number of optimal actions within |𝒜(s)| (i.e. ties)\r\n",
        "        soft_policy_action_set[action] = (1/len(optimal_actions))*(1 - eps) + eps/act_set_size\r\n",
        "\r\n",
        "      else:\r\n",
        "        # Otherwise, if all actions in |𝒜(s)| are equiprobable,\r\n",
        "        # and not equal to 0, they shall remain equiprobable\r\n",
        "        soft_policy_action_set[action] = (1/len(optimal_actions))\r\n",
        "\r\n",
        "    else:\r\n",
        "      # For non optimal actions, set the probability of taking\r\n",
        "      # these actions = ε/|𝒜(s)|\r\n",
        "      soft_policy_action_set[action] = eps/act_set_size\r\n",
        "\r\n",
        "  # Return the ε policy for a given state\r\n",
        "  return soft_policy_action_set"
      ],
      "execution_count": 13,
      "outputs": []
    },
    {
      "cell_type": "markdown",
      "metadata": {
        "id": "0V-RSEEpv-Md"
      },
      "source": [
        "###Argmax at Given State"
      ]
    },
    {
      "cell_type": "code",
      "metadata": {
        "id": "iYeL6vSKvkfw"
      },
      "source": [
        " # Determine the argmax of the action value function at a given state\r\n",
        " # For use in determining the agent's optimal policy\r\n",
        " def argmax_action_value(action_value_function, policy, state):\r\n",
        "\r\n",
        "  # For the given state determine the highest value which can be achieved\r\n",
        "  # by taking an action\r\n",
        "  optimal_value = max(action_value_function[state].values())\r\n",
        "\r\n",
        "  # Store the list of actions which satisfy this optimal value requirement\r\n",
        "  # in the 'optimal_actions' list\r\n",
        "  optimal_actions = [action for action in action_value_function[state] if action_value_function[state][action] == optimal_value]\r\n",
        "\r\n",
        "  # Determine the actions which generate the most optimal policy here\r\n",
        "  for action in action_value_function[state]:\r\n",
        "    \r\n",
        "    if action not in optimal_actions:\r\n",
        "      policy[state][action] = 0    \r\n",
        "    else:\r\n",
        "\r\n",
        "      if optimal_value != 0:\r\n",
        "        policy[state][action] = (1/len(optimal_actions))\r\n",
        "\r\n",
        "      else:\r\n",
        "        policy[state][action] = 0  \r\n",
        "\r\n",
        "  # Return the set of revised policy for a given state based on the action value\r\n",
        "  # argmax for a given state\r\n",
        "  return policy[state]"
      ],
      "execution_count": 14,
      "outputs": []
    },
    {
      "cell_type": "markdown",
      "metadata": {
        "id": "4dfHgwVqfwpy"
      },
      "source": [
        "###Argmax Policy Generator (Entire State Space)\r\n",
        "\r\n"
      ]
    },
    {
      "cell_type": "code",
      "metadata": {
        "id": "ILPsczvY2Ytm"
      },
      "source": [
        " # Determine the argmax of the action value function at a given state\r\n",
        " # For use in determining the agent's greedy policy\r\n",
        " def argmax_policy(action_value_function):\r\n",
        "  \r\n",
        "  # Dictionary to store initial policy\r\n",
        "  policy = {}\r\n",
        "\r\n",
        "  # Store list of possible states in a variable - use the keys of the input\r\n",
        "  # action value function\r\n",
        "  state_list = list(action_value_function.keys())\r\n",
        "\r\n",
        "  # For each state  \r\n",
        "  for state in state_list:\r\n",
        "\r\n",
        "    action_list = list(action_value_function[state].keys())\r\n",
        "    action_set = {}\r\n",
        "    for action in action_list:\r\n",
        "      action_set[action] = 0\r\n",
        "    policy[state] = action_set\r\n",
        "\r\n",
        "    # For the given state determine the highest value which can be achieved\r\n",
        "    # by taking an action\r\n",
        "    optimal_value = max(action_value_function[state].values())\r\n",
        "\r\n",
        "    # Store the list of actions which satisfy this optimal value requirement\r\n",
        "    # in the 'optimal_actions' list\r\n",
        "    optimal_actions = [action for action in action_value_function[state] if action_value_function[state][action] == optimal_value]\r\n",
        "\r\n",
        "    # Determine the actions which generate the most optimal policy here\r\n",
        "    for action in action_value_function[state]:\r\n",
        "      if action not in optimal_actions:\r\n",
        "        policy[state][action] = 0    \r\n",
        "      else:\r\n",
        "        if optimal_value != 0:\r\n",
        "          policy[state][action] = (1/len(optimal_actions))\r\n",
        "        else:\r\n",
        "          policy[state][action] = 0  \r\n",
        "\r\n",
        "  # Return the set of revised policy for a given state based on the action value\r\n",
        "  # argmax for a given state\r\n",
        "  return policy"
      ],
      "execution_count": 15,
      "outputs": []
    },
    {
      "cell_type": "markdown",
      "metadata": {
        "id": "fxpfF98F-6oB"
      },
      "source": [
        "###Arbitrary Action Selection Policy"
      ]
    },
    {
      "cell_type": "code",
      "metadata": {
        "id": "NFyrIG_r-6Ut"
      },
      "source": [
        "# The following function will generate a policy for which all weights for each\r\n",
        "# action that can be taken within a state are equal\r\n",
        "def arbitrary_action_selection_policy(state_list, terminal_state_list, action_count):\r\n",
        "\r\n",
        "  # Initialize empty dictionary into which the arbitrary action seleciton\r\n",
        "  # policy will be stored\r\n",
        "  arbitrary_policy = {}\r\n",
        "\r\n",
        "  # Set action weights for each state in the environment which the agent can \r\n",
        "  # occupy\r\n",
        "  for state in state_list:\r\n",
        "\r\n",
        "    if state not in terminal_state_list:\r\n",
        "      action_set = {}\r\n",
        "\r\n",
        "      for action in range(0, action_count):\r\n",
        "\r\n",
        "        # Set equal weight for each action that can be taken within an \r\n",
        "        # occupiable state\r\n",
        "        action_set[action] = 1/action_count\r\n",
        "    \r\n",
        "      # Assign action weights to a state\r\n",
        "      arbitrary_policy[state] = action_set\r\n",
        "\r\n",
        "  # Return the resulting arbitrary policy\r\n",
        "  return arbitrary_policy"
      ],
      "execution_count": 16,
      "outputs": []
    },
    {
      "cell_type": "markdown",
      "metadata": {
        "id": "-dnSPSnrfmap"
      },
      "source": [
        "##**Initialization Functions**"
      ]
    },
    {
      "cell_type": "markdown",
      "metadata": {
        "id": "6Zfdo8AggEkE"
      },
      "source": [
        "###State List Generator"
      ]
    },
    {
      "cell_type": "code",
      "metadata": {
        "id": "COsOdkHk2rNx"
      },
      "source": [
        "# Possible states\r\n",
        "# position: 0-10, 11\r\n",
        "# velocity: 0-10, 11\r\n",
        "\r\n",
        "# From the above discretization, we can see that there are 11*11 = 121 states\r\n",
        "\r\n",
        "# This function will be used to generate a list of all possible discretized \r\n",
        "# states our agent can occupy\r\n",
        "def state_generator(position_count, velocity_count, terminal = False):\r\n",
        "\r\n",
        "  # Initialize an empty list of states\r\n",
        "  state_list = []\r\n",
        "\r\n",
        "  # Build a state tuple for every possible discretized state\r\n",
        "  for position in range(0, position_count):\r\n",
        "    for velocity in range(0, velocity_count):\r\n",
        "\r\n",
        "      # If we are looking for the list of non-terminal and terminal states\r\n",
        "      # then we will enter this section of the if statement\r\n",
        "      if terminal == False:\r\n",
        "        # Store each combination of 'position' and  'velocity'\r\n",
        "        # values into a tuple\r\n",
        "        state_tuple = (position, velocity)\r\n",
        "\r\n",
        "        # Append this created tuple to a list which will contain all possible\r\n",
        "        # discretized states\r\n",
        "        state_list.append(state_tuple)\r\n",
        "\r\n",
        "      # If we are only considered with finding terminal states we will enter\r\n",
        "      # this if statement\r\n",
        "      else:\r\n",
        "\r\n",
        "        # if position >= 0.5 and velocity is positive (i.e. discrete state\r\n",
        "        # anywhere from 2 to 4, this is considered a terminal state)\r\n",
        "        if position == 10 and velocity >= 5:\r\n",
        "\r\n",
        "          state_tuple = (position, velocity) \r\n",
        "          state_list.append(state_tuple)\r\n",
        "  \r\n",
        "  # Return our created list of possible states\r\n",
        "  return state_list"
      ],
      "execution_count": 17,
      "outputs": []
    },
    {
      "cell_type": "markdown",
      "metadata": {
        "id": "nzK04xO4vJaC"
      },
      "source": [
        "###Action State Mapping Generator"
      ]
    },
    {
      "cell_type": "code",
      "metadata": {
        "id": "aMSPozSAi237"
      },
      "source": [
        "# Initialize a dictionary featuring all state and action pairs, where each\r\n",
        "# initialized value is set 0\r\n",
        "def action_state_initializer(state_list, action_list):\r\n",
        "\r\n",
        "  # Initialize value function as an empty dictionary\r\n",
        "  mapping = {}\r\n",
        "\r\n",
        "  # For each state, assign a value of 0\r\n",
        "  for state in state_list:\r\n",
        "    action_dict = {}\r\n",
        "\r\n",
        "    for action in action_list:\r\n",
        "      \r\n",
        "      action_dict[action] = 0\r\n",
        "    mapping[state] = action_dict\r\n",
        "\r\n",
        "  # Return the created dictionary\r\n",
        "  return mapping"
      ],
      "execution_count": 18,
      "outputs": []
    },
    {
      "cell_type": "markdown",
      "metadata": {
        "id": "U8Oyol7pfcoE"
      },
      "source": [
        "###Arbitrary Action Value Generator"
      ]
    },
    {
      "cell_type": "code",
      "metadata": {
        "id": "bYk7Ivgg1u0N"
      },
      "source": [
        "# This function will generate an arbitrary action value function for each state\r\n",
        "# action pair, such that values range from 0 (inclusive) to 1 (exclusive)\r\n",
        "def arbitrary_action_value(state_list, action_list, terminal_states_list):\r\n",
        "  \r\n",
        "  # Initialize dictionary into which arbitrary action value function will be \r\n",
        "  # stored\r\n",
        "  action_value = {}\r\n",
        "\r\n",
        "  # For each state and action pairing, initialize with a random q(s,a)\r\n",
        "  for state in state_list:\r\n",
        "    action_set = {}\r\n",
        "    \r\n",
        "    for action in action_list:\r\n",
        "      \r\n",
        "      if state not in terminal_states_list:\r\n",
        "        action_set[action] = np.random.uniform(0,1)\r\n",
        "\r\n",
        "      else:\r\n",
        "        action_set[action] = 0\r\n",
        "        \r\n",
        "    action_value[state] = action_set\r\n",
        "\r\n",
        "  # Return the resulting action value\r\n",
        "  return action_value"
      ],
      "execution_count": 19,
      "outputs": []
    },
    {
      "cell_type": "markdown",
      "metadata": {
        "id": "kC2pTBx1I95z"
      },
      "source": [
        "##**TD Control Helper Functions**"
      ]
    },
    {
      "cell_type": "markdown",
      "metadata": {
        "id": "dHjFH9i1JBKr"
      },
      "source": [
        "###Reward Adjustment Function"
      ]
    },
    {
      "cell_type": "markdown",
      "metadata": {
        "id": "DHxKbiSKHGxJ"
      },
      "source": [
        "Note that for this implementation, a custom reward structure was employed to improve training progress of the MC. This reward structure encouraged the MC to scale the hill atop which sits the flag by making use of the potential-kinetic energy conversion in descending the leftmost hill from near its top."
      ]
    },
    {
      "cell_type": "code",
      "metadata": {
        "id": "lleEzlEUI9PG"
      },
      "source": [
        "def reward_calculation(environment, reward):\r\n",
        "\r\n",
        "  # Reward increment to be applied when the agent's state meets certain criteria\r\n",
        "  reward_increment = 7\r\n",
        "\r\n",
        "  # In the case where the agent is scaling the rightmost hill (and hasn't yet \r\n",
        "  # reached the goal), such that its x position is >= -0.2 (please see \r\n",
        "  # 'position_quantization' helper function to see that such a range corresponds \r\n",
        "  # to a position bin number >= 6), return the below reward, \r\n",
        "  # in place of the default reward\r\n",
        "  if state_discretization((environment.env.state))[0] >= 6 and  state_discretization((environment.env.state))[0] < 10 and state_discretization((environment.env.state))[1] > 5: \r\n",
        "    reward_mod = reward + reward_increment - 4\r\n",
        "\r\n",
        "  # In the case where the agent is scaling the leftmost hill such that its x\r\n",
        "  # position is <= - 1, apply a more generous reward than the previous, as \r\n",
        "  # ultimately occupying states with this criteria are what will encourage \r\n",
        "  # swift movement towards the goal of reaching the goal on the other side \r\n",
        "  # (drastic potential - kinetic energy conversion)\r\n",
        "  elif state_discretization((environment.env.state))[0] <= 2 and state_discretization((environment.env.state))[1] < 5:  \r\n",
        "    reward_mod = reward + reward_increment \r\n",
        "\r\n",
        "  # If the goal is reached, provide the following reward - higher than the\r\n",
        "  # others as ultimately, this is where we want our agent to end up\r\n",
        "  elif state_discretization((environment.env.state))[0] == 10 and state_discretization((environment.env.state))[1] >= 5: \r\n",
        "    reward_mod = reward + reward_increment * 2\r\n",
        "\r\n",
        "  # In all other cases, supply the agent with the default reward\r\n",
        "  else:\r\n",
        "    reward_mod = reward\r\n",
        "\r\n",
        "  # Return the modified reward\r\n",
        "  return reward_mod"
      ],
      "execution_count": 101,
      "outputs": []
    },
    {
      "cell_type": "markdown",
      "metadata": {
        "id": "zHyXVahXJS2L"
      },
      "source": [
        "###TD(0) SARSA Control"
      ]
    },
    {
      "cell_type": "code",
      "metadata": {
        "id": "lKo53oLNJF27"
      },
      "source": [
        "def TD0_SARSA(environment, policy, action_value_function, alpha = 0.2, eps = 0.2, gamma = 1):\r\n",
        "\r\n",
        "  # Initialize a reward list which will store rewards attained in an episode\r\n",
        "  reward_list = []\r\n",
        "\r\n",
        "  # Ensure the environment is reset before processing an episode\r\n",
        "  environment.reset()\r\n",
        "\r\n",
        "\r\n",
        "  # Discretize the initial state such that we can look up the set of actions \r\n",
        "  # possible for the given state and choose the best one\r\n",
        "  initial_state = state_discretization(environment.env.state)\r\n",
        "\r\n",
        "  # Choose the first action given the current state\r\n",
        "  initial_action = action_selection(policy, initial_state)\r\n",
        "\r\n",
        "  # The variable done represents the conclusion of an episode - set it to false\r\n",
        "  # to enter the below loop\r\n",
        "  done = False\r\n",
        "\r\n",
        "  # While loop where action value and policy will be updated\r\n",
        "  while done == False:\r\n",
        "\r\n",
        "    # Perform a time step within the environment and unpack the variables \r\n",
        "    # associated with that time step...\r\n",
        "    # obs = next state\r\n",
        "    # reward = reward attained in state transition\r\n",
        "    # done = False if episode is not conclude, True otherwise\r\n",
        "    # info = an unused variable which must be extracted for unpacking to be \r\n",
        "    # successful  \r\n",
        "    obs, reward, done, info = environment.step(initial_action)\r\n",
        "\r\n",
        "    # Calculate reward, modified depending on the state to which the mountain \r\n",
        "    # car has transitioned - inspect the 'reward_calculation' function for greater\r\n",
        "    # detail\r\n",
        "    reward = reward_calculation(environment, reward)\r\n",
        "    \r\n",
        "    # Append to reward list used to summarize results of training when \r\n",
        "    # implementing TD control\r\n",
        "    reward_list.append(reward)\r\n",
        "\r\n",
        "    # Discretize the new state\r\n",
        "    new_state = state_discretization(environment.env.state)\r\n",
        "\r\n",
        "    # Select a 'new_action' for 'new_state' based on the policy\r\n",
        "    new_action = action_selection(policy, new_state)\r\n",
        "\r\n",
        "    # Update the action value function at the original state and action pair\r\n",
        "    # based on the next state and action\r\n",
        "    action_value_function[initial_state][initial_action] += alpha * (reward + gamma * action_value_function[new_state][new_action] - action_value_function[initial_state][initial_action])\r\n",
        "\r\n",
        "    # Update policy based on action_value_function update at 'initial_state'\r\n",
        "    policy[initial_state] = eps_greedy_policy_update(argmax_action_value(action_value_function, policy, initial_state), eps)\r\n",
        "\r\n",
        "    # Set the resulting state and actions to the new state and actions after\r\n",
        "    # moving in accordance with the policy\r\n",
        "    initial_state, initial_action = new_state, new_action\r\n",
        "\r\n",
        "    # If agent is transitioning to the terminal state, the episode has ended\r\n",
        "    if done:\r\n",
        "      break\r\n",
        "\r\n",
        "  # Extract position and velocity from the terminal state\r\n",
        "  position = environment.env.state[0]\r\n",
        "  velocity = environment.env.state[1]\r\n",
        "\r\n",
        "  # If the terminal state meets the requirements for a successful episode, set\r\n",
        "  # 'episode_result' to 1; otherwise, set it to 0\r\n",
        "  if position >= 0.5 and velocity >= 0:\r\n",
        "    episode_result = 1\r\n",
        "\r\n",
        "  else:\r\n",
        "    episode_result = 0\r\n",
        "\r\n",
        "  # Return the final action value function and policy, along with statistics\r\n",
        "  # on episode result and reward attained\r\n",
        "  return policy, action_value_function, reward_list, episode_result"
      ],
      "execution_count": 23,
      "outputs": []
    },
    {
      "cell_type": "markdown",
      "metadata": {
        "id": "75VvRlzvJe4S"
      },
      "source": [
        "###TD(0) Expected SARSA Control"
      ]
    },
    {
      "cell_type": "code",
      "metadata": {
        "id": "h8b-o0M6JeZ8"
      },
      "source": [
        "def TD0_EXP_SARSA_ON_POLICY(environment, policy, action_value_function, alpha = 0.1, eps = 0.2, gamma = 0.95, episode_count = 10000):\r\n",
        "\r\n",
        "  # Initialize a reward list which will store rewards attained in an episode\r\n",
        "  reward_list = []\r\n",
        "\r\n",
        "  # Ensure the environment is reset before processing an episode\r\n",
        "  environment.reset()\r\n",
        "\r\n",
        "  # Discretize the initial state such that we can look up the set of actions \r\n",
        "  # possible for the given state and choose the best one\r\n",
        "  initial_state = state_discretization(environment.env.state)\r\n",
        "\r\n",
        "  # The variable done represents the conclusion of an episode - set it to false\r\n",
        "  # to enter the below loop\r\n",
        "  done = False\r\n",
        "\r\n",
        "  # While loop where action value and policy will be updated\r\n",
        "  while done == False:\r\n",
        "\r\n",
        "    action = action_selection(policy, initial_state)\r\n",
        "\r\n",
        "    # Perform a time step within the environment and unpack the variables \r\n",
        "    # associated with that time step...\r\n",
        "    # obs = next state\r\n",
        "    # reward = reward attained in state transition\r\n",
        "    # done = False if episode is not conclude, True otherwise\r\n",
        "    # info = an unused variable which must be extracted for unpacking to be \r\n",
        "    # successful  \r\n",
        "    obs, reward, done, info = environment.step(action)\r\n",
        "\r\n",
        "    # Calculate reward, modified depending on the state to which the mountain \r\n",
        "    # car has transitioned - inspect the 'reward_calculation' function for greater\r\n",
        "    # detail\r\n",
        "    reward = reward_calculation(environment, reward)\r\n",
        "\r\n",
        "    # Append to reward list used to summarize results of training when \r\n",
        "    # implementing TD control\r\n",
        "    reward_list.append(reward)\r\n",
        "\r\n",
        "    # Discretize the new state\r\n",
        "    new_state = state_discretization(environment.env.state)\r\n",
        "\r\n",
        "    # Update the action value function at the original state and action pair\r\n",
        "    # based on the next state and action\r\n",
        "    q_exp = 0 \r\n",
        "    \r\n",
        "    for a in range(len(action_value_function[new_state])):\r\n",
        "      q_exp += policy[new_state][a] * action_value_function[new_state][a] \r\n",
        "\r\n",
        "    action_value_function[initial_state][action] += alpha * (reward + gamma * q_exp - action_value_function[initial_state][action])\r\n",
        "    \r\n",
        "    # Update policy based on action_value_function update at 'initial_state'\r\n",
        "\r\n",
        "    policy[initial_state] = eps_greedy_policy_update(argmax_action_value(action_value_function, policy, initial_state), eps)\r\n",
        "\r\n",
        "    # Set the resulting state and actions to the new state and actions after\r\n",
        "    # moving in accordance with the policy\r\n",
        "    initial_state = new_state\r\n",
        "\r\n",
        "    # If agent is transitioning to the terminal state, the episode has ended\r\n",
        "    if done:\r\n",
        "      break\r\n",
        "\r\n",
        "  # Extract position and velocity from the terminal state\r\n",
        "  position = environment.env.state[0]\r\n",
        "  velocity = environment.env.state[1]\r\n",
        "\r\n",
        "  # If the terminal state meets the requirements for a successful episode, set\r\n",
        "  # 'episode_result' to 1; otherwise, set it to 0\r\n",
        "  if position >= 0.5 and velocity >= 0:\r\n",
        "    episode_result = 1\r\n",
        "\r\n",
        "  else:\r\n",
        "    episode_result = 0\r\n",
        "\r\n",
        "  # Return the final action value function and policy, along with statistics\r\n",
        "  # on episode result and reward attained\r\n",
        "  return policy, action_value_function, reward_list, episode_result"
      ],
      "execution_count": 25,
      "outputs": []
    },
    {
      "cell_type": "markdown",
      "metadata": {
        "id": "CiCtNdYHJVYR"
      },
      "source": [
        "###TD(0) Expected SARSA (Off-Policy)"
      ]
    },
    {
      "cell_type": "code",
      "metadata": {
        "id": "VWeijLrJJcyd"
      },
      "source": [
        "def TD0_EXP_SARSA_OFF_POLICY(environment, policy, action_value_function, alpha = 0.4, eps = 0.2, gamma = 0.95, episode_count = 10000):\r\n",
        "\r\n",
        "  # Initialize a reward list which will store rewards attained in an episode\r\n",
        "  reward_list = []\r\n",
        "\r\n",
        "  # Ensure the environment is reset before processing an episode\r\n",
        "  environment.reset()\r\n",
        "\r\n",
        "  # Discretize the initial state such that we can look up the set of actions \r\n",
        "  # possible for the given state and choose the best one\r\n",
        "  initial_state = state_discretization(environment.env.state)\r\n",
        "\r\n",
        "  # The variable done represents the conclusion of an episode - set it to false\r\n",
        "  # to enter the below loop\r\n",
        "  done = False\r\n",
        "\r\n",
        "  # While loop where action value and policy will be updated\r\n",
        "  while done == False:\r\n",
        "\r\n",
        "    action = action_selection(policy, initial_state)\r\n",
        "\r\n",
        "    # Perform a time step within the environment and unpack the variables \r\n",
        "    # associated with that time step...\r\n",
        "    # obs = next state\r\n",
        "    # reward = reward attained in state transition\r\n",
        "    # done = False if episode is not conclude, True otherwise\r\n",
        "    # info = an unused variable which must be extracted for unpacking to be \r\n",
        "    # successful  \r\n",
        "    obs, reward, done, info = environment.step(action)\r\n",
        "\r\n",
        "    # Calculate reward, modified depending on the state to which the mountain \r\n",
        "    # car has transitioned - inspect the 'reward_calculation' function for greater\r\n",
        "    # detail\r\n",
        "    reward = reward_calculation(environment, reward)\r\n",
        "\r\n",
        "    # Append to reward list used to summarize results of training when \r\n",
        "    # implementing TD control\r\n",
        "    reward_list.append(reward)\r\n",
        "\r\n",
        "    # Discretize the new state\r\n",
        "    new_state = state_discretization(environment.env.state)\r\n",
        "\r\n",
        "    # Update the action value function at the original state and action pair\r\n",
        "    # based on the next state and action\r\n",
        "    action_value_function[initial_state][action] += alpha * (reward + gamma * max(action_value_function[new_state].values()) - action_value_function[initial_state][action])\r\n",
        "\r\n",
        "    # Update policy based on action_value_function update at 'initial_state'\r\n",
        "\r\n",
        "    policy[initial_state] = eps_greedy_policy_update(argmax_action_value(action_value_function, policy, initial_state), eps)\r\n",
        "\r\n",
        "    # Set the resulting state and actions to the new state and actions after\r\n",
        "    # moving in accordance with the policy\r\n",
        "    initial_state = new_state\r\n",
        "\r\n",
        "    # If agent is transitioning to the terminal state, the episode has ended\r\n",
        "    if done:\r\n",
        "      break\r\n",
        "\r\n",
        "  policy = argmax_policy(policy)\r\n",
        "\r\n",
        "  # Extract position and velocity from the terminal state\r\n",
        "  position = environment.env.state[0]\r\n",
        "  velocity = environment.env.state[1]\r\n",
        "\r\n",
        "  # If the terminal state meets the requirements for a successful episode, set\r\n",
        "  # 'episode_result' to 1; otherwise, set it to 0\r\n",
        "  if position >= 0.5 and velocity >= 0:\r\n",
        "    episode_result = 1\r\n",
        "\r\n",
        "  else:\r\n",
        "    episode_result = 0\r\n",
        "\r\n",
        "  # Return the final action value function and policy, along with statistics\r\n",
        "  # on episode result and reward attained\r\n",
        "  return policy, action_value_function, reward_list, episode_result"
      ],
      "execution_count": 166,
      "outputs": []
    },
    {
      "cell_type": "markdown",
      "metadata": {
        "id": "ZGrurLd0QaAG"
      },
      "source": [
        "###n-Step SARSA"
      ]
    },
    {
      "cell_type": "code",
      "metadata": {
        "id": "WY3LjsDSN9Wz"
      },
      "source": [
        "def N_STEP_SARSA(environment, policy, action_value_function, n = 0,  alpha = 0.1, eps = 0.2, gamma = 0.95, episode_count = 5000):\r\n",
        "\r\n",
        "  # Initialize a reward list which will store rewards attained in an episode\r\n",
        "  reward_list = []\r\n",
        "  state_action_reward_list = []\r\n",
        "\r\n",
        "  # Ensure the environment is reset before processing an episode\r\n",
        "  environment.reset()\r\n",
        "\r\n",
        "  # generate initial state and action\r\n",
        "  state = state_discretization(environment.env.state)\r\n",
        "  action = action_selection(policy, state)\r\n",
        "\r\n",
        "  state_action_reward_list = []\r\n",
        "  t = 0\r\n",
        "  T = 10e10\r\n",
        "\r\n",
        "  while True:\r\n",
        "\r\n",
        "    # If current timestep is not the terminal step, enter the if \r\n",
        "    # statement to take the next action\r\n",
        "    if t < T:\r\n",
        "      \r\n",
        "      # Extract variables associated with taking an action\r\n",
        "      obs, reward, done, info = environment.step(action)\r\n",
        "\r\n",
        "      # Calculate reward, modified depending on the state to which the mountain \r\n",
        "      # car has transitioned - inspect the 'reward_calculation' function for greater\r\n",
        "      # detail\r\n",
        "      reward = reward_calculation(environment, reward)\r\n",
        "\r\n",
        "      # Store initial state action and reward\r\n",
        "      state_action_reward_list.append((state, action, reward))\r\n",
        "\r\n",
        "      # Append to reward list used to summarize results of training when \r\n",
        "      # implementing TD control\r\n",
        "      reward_list.append(reward)\r\n",
        "\r\n",
        "      # Update 'state' variable to the state arrived at after taking \r\n",
        "      # 'action'\r\n",
        "      state = state_discretization(environment.env.state)\r\n",
        "\r\n",
        "      # If the next state is terminal, update 'T', which represents the \r\n",
        "      # terminal timestep\r\n",
        "      if done:\r\n",
        "        T = t + 1\r\n",
        "      \r\n",
        "      else:\r\n",
        "        # Select and store next action, as long as this action is not \r\n",
        "        # taken at T (no actions are taken at T)\r\n",
        "        action = action_selection(policy, state)\r\n",
        "\r\n",
        "    # tau is intended to represents timesteps for which action value \r\n",
        "    # updates can be made; when the quantity tau is positive (starting at tau = 0),\r\n",
        "    # the return at timestep tau can be estimated using the n steps taken\r\n",
        "    # by the agent in the environment\r\n",
        "    tau = t - n + 1\r\n",
        "\r\n",
        "    # Enter the loop only when τ (tau) is >= 0 (i.e. when enough \r\n",
        "    # states have been visited to estimate n-step returns)\r\n",
        "    if tau >= 0:\r\n",
        "\r\n",
        "\r\n",
        "      # Initialize the return variable to 0 prior to its calculation\r\n",
        "      G = 0\r\n",
        "\r\n",
        "      # For the return calculation, we need to check that the current \r\n",
        "      # timestep τ + n (number of steps after τ) is equal to or less than \r\n",
        "      # T - cannot calculate returns beyond T\r\n",
        "      end_step = min(tau + n, T)\r\n",
        "\r\n",
        "      # Calculate first component of estimate for return using n \r\n",
        "      # rewards achieved beyond τ\r\n",
        "      for i in range(tau, end_step):\r\n",
        "\r\n",
        "        # Reward achieved when transitioning from state i - 1 to i\r\n",
        "        reward_i = state_action_reward_list[i][2]\r\n",
        "\r\n",
        "        # Update returns computation with these n rewards and γ (gamma)\r\n",
        "        G += (gamma**(i - tau)) * reward_i\r\n",
        "\r\n",
        "      # If the timestep τ + n is not the terminal timestep T, enter\r\n",
        "      # the if statement and update the return to estimate for the \r\n",
        "      # remaining terms of the return calculation\r\n",
        "      if tau + n < T:\r\n",
        "\r\n",
        "        # Extract the state and action stored at timestep τ + n\r\n",
        "        state_tau_n, action_tau_n = state, action\r\n",
        "\r\n",
        "        # Complete our estimate of the return using our estimated\r\n",
        "        # action value function value at the state and action for \r\n",
        "        # timestep τ + n\r\n",
        "        G += (gamma**n) * action_value_function[state_tau_n][action_tau_n]\r\n",
        "\r\n",
        "      # Extract the state and action stored at timestep τ\r\n",
        "      state_tau, action_tau, _ = state_action_reward_list[tau]\r\n",
        "\r\n",
        "      # Store into a variable the current value of the action value\r\n",
        "      # function at the state and action associated with timestep τ\r\n",
        "      q_tau = action_value_function[state_tau][action_tau]\r\n",
        "\r\n",
        "      # Update the action value function for the state and action \r\n",
        "      # associated with timestep τ with our newly calculated \r\n",
        "      # return estimate at timestep τ\r\n",
        "      action_value_function[state_tau][action_tau] = q_tau + alpha * (G - q_tau)\r\n",
        "\r\n",
        "      # Update policy based on action_value_function update at 'initial_state'\r\n",
        "      policy[state_tau] = eps_greedy_policy_update(argmax_action_value(action_value_function, policy, state_tau), eps)\r\n",
        "\r\n",
        "    # If the timestep τ is the step just before reaching\r\n",
        "    # the terminal state, exit the algorithm\r\n",
        "\r\n",
        "    if tau == T - 1:\r\n",
        "\r\n",
        "      break\r\n",
        "\r\n",
        "    # Increment timestep variable t\r\n",
        "    t += 1\r\n",
        "\r\n",
        "\r\n",
        "  # Extract position and velocity from the terminal state\r\n",
        "  position = environment.env.state[0]\r\n",
        "  velocity = environment.env.state[1]\r\n",
        "\r\n",
        "  # If the terminal state meets the requirements for a successful episode, set\r\n",
        "  # 'episode_result' to 1; otherwise, set it to 0\r\n",
        "  if position >= 0.5 and velocity >= 0:\r\n",
        "    episode_result = 1\r\n",
        "\r\n",
        "  else:\r\n",
        "    episode_result = 0\r\n",
        "\r\n",
        "  # Return 𝜋 and q, after updating action value with the algorithm for\r\n",
        "  # a single episode\r\n",
        "  return policy, action_value_function, reward_list, episode_result"
      ],
      "execution_count": 21,
      "outputs": []
    },
    {
      "cell_type": "markdown",
      "metadata": {
        "id": "1rbNaYetKAbT"
      },
      "source": [
        "###Tree Backup Control"
      ]
    },
    {
      "cell_type": "code",
      "metadata": {
        "id": "Al0O3exC9q0A"
      },
      "source": [
        "def TREE_BACKUP(environment, policy, behaviour_policy, action_value_function, n = 0,  alpha = 0.1, eps = 0.2, gamma = 0.95, episode_count = 5000):\r\n",
        "\r\n",
        "  # Initialize a reward list which will store rewards attained in an episode\r\n",
        "  reward_list = []\r\n",
        "  state_action_reward_list = []\r\n",
        "\r\n",
        "  # Ensure the environment is reset before processing an episode\r\n",
        "  # Reset the environment to start an episodic trial\r\n",
        "  environment.reset()\r\n",
        "\r\n",
        "  # generate initial state and action\r\n",
        "  state = state_discretization(environment.env.state)\r\n",
        "  action = action_selection(behaviour_policy, state)\r\n",
        "\r\n",
        "  # Initialize a list which will store tuples of (state, action, reward)\r\n",
        "  # Note in this implementation that reward at timestep t + 1 will be in \r\n",
        "  # the same tuple as the state and action for timestep t.\r\n",
        "  state_action_reward_list = []\r\n",
        "  t = 0\r\n",
        "  T = 10e10\r\n",
        "\r\n",
        "  # Let this loop run until the break condition at the end\r\n",
        "  while True:\r\n",
        "\r\n",
        "    # If current timestep is not the terminal step, enter the if \r\n",
        "    # statement to take the next action\r\n",
        "    if t < T:\r\n",
        "      \r\n",
        "      # Extract variables associated with taking an action\r\n",
        "      obs, reward, done, info = environment.step(action)\r\n",
        "\r\n",
        "      # Calculate reward, modified depending on the state to which the mountain \r\n",
        "      # car has transitioned - inspect the 'reward_calculation' function for greater\r\n",
        "      # detail\r\n",
        "      reward = reward_calculation(environment, reward)\r\n",
        "\r\n",
        "      # Store initial state action and reward\r\n",
        "      state_action_reward_list.append((state, action, reward))\r\n",
        "\r\n",
        "      # Append to reward list used to summarize results of training when \r\n",
        "      # implementing TD control\r\n",
        "      reward_list.append(reward)\r\n",
        "\r\n",
        "      # Update 'state' variable to the state arrived at after taking \r\n",
        "      # 'action'\r\n",
        "      state = state_discretization(environment.env.state)\r\n",
        "\r\n",
        "      # If the next state is terminal, update 'T', which represents the \r\n",
        "      # terminal timestep\r\n",
        "      if done:\r\n",
        "        T = t + 1\r\n",
        "      \r\n",
        "      else:\r\n",
        "        # Select and store next action, as long as this action is not \r\n",
        "        # taken at T (no actions are taken at T)\r\n",
        "        action = action_selection(behaviour_policy, state)\r\n",
        "\r\n",
        "    # tau is intended to represents timesteps for which action value \r\n",
        "    # updates can be made; when the quantity tau is positive (starting at tau = 0),\r\n",
        "    # the return at timestep tau can be estimated using the n steps taken\r\n",
        "    # by the agent in the environment\r\n",
        "    tau = t - n + 1\r\n",
        "\r\n",
        "    # Enter the loop only when τ (tau) is >= 0 (i.e. when enough \r\n",
        "    # states have been visited to estimate n-step returns)\r\n",
        "    if tau >= 0:\r\n",
        "      \r\n",
        "      # If terminal state has been reached\r\n",
        "      if t + 1 >= T:\r\n",
        "        G = reward\r\n",
        "\r\n",
        "      # Otherwise, return is calculated in the following manner:\r\n",
        "      else:\r\n",
        "        q_exp = 0 \r\n",
        "      \r\n",
        "        for a in range(len(action_value_function[state])):\r\n",
        "          q_exp += policy[state][a] * action_value_function[state][a]\r\n",
        "\r\n",
        "        G = reward + gamma * q_exp\r\n",
        "\r\n",
        "      # For the return calculation, we need to check that the current \r\n",
        "      # timestep τ + n (number of steps after τ) is equal to or less than \r\n",
        "      # T - cannot calculate returns beyond T\r\n",
        "\r\n",
        "\r\n",
        "      # Calculate first component of estimate for return using n \r\n",
        "      # rewards achieved beyond τ\r\n",
        "      for k in range(min(t, T -1), tau + 1, -1):\r\n",
        "\r\n",
        "        # Extract state, action and reward associated with timestep k\r\n",
        "        state_k = state_action_reward_list[k][0]\r\n",
        "        action_k = state_action_reward_list[k][1]\r\n",
        "\r\n",
        "        # reward at timestep k is stored with state and action of timestep\r\n",
        "        # k - 1, hence the difference in first index\r\n",
        "        reward_k = state_action_reward_list[k - 1][2]\r\n",
        "\r\n",
        "        q_exp_k = 0 \r\n",
        "        \r\n",
        "        # Calculate expected value of the action value for all actions except\r\n",
        "        # the action taken at step k\r\n",
        "        for a in range(len(action_value_function[state])):\r\n",
        "          if a != action_k:\r\n",
        "            q_exp_k += policy[state_k][a] * action_value_function[state_k][a]\r\n",
        "        \r\n",
        "        # Update returns computation using the tree backup algorithm\r\n",
        "        G = reward_k + gamma * q_exp_k + gamma * policy[state_k][action_k] * G\r\n",
        "\r\n",
        "      # Extract the state and action stored at timestep τ\r\n",
        "      state_tau, action_tau, _ = state_action_reward_list[tau]\r\n",
        "\r\n",
        "      # Store into a variable the current value of the action value\r\n",
        "      # function at the state and action associated with timestep τ\r\n",
        "      q_tau = action_value_function[state_tau][action_tau]\r\n",
        "\r\n",
        "      # Update the action value function for the state and action \r\n",
        "      # associated with timestep τ with our newly calculated \r\n",
        "      # return estimate at timestep τ\r\n",
        "      action_value_function[state_tau][action_tau] = q_tau + alpha * (G - q_tau)\r\n",
        "\r\n",
        "      # Update the policy in accordance with the updated action value function\r\n",
        "      policy[state_tau] = argmax_action_value(action_value_function, policy, state_tau)\r\n",
        "\r\n",
        "    # If the timestep τ is the step just before reaching\r\n",
        "    # the terminal state, exit the n-step SARSA algorithm\r\n",
        "    if tau == T - 1:\r\n",
        "\r\n",
        "      break\r\n",
        "\r\n",
        "    # Increment timestep variable t\r\n",
        "    t += 1\r\n",
        "\r\n",
        "\r\n",
        "  # Extract position and velocity from the terminal state\r\n",
        "  position = environment.env.state[0]\r\n",
        "  velocity = environment.env.state[1]\r\n",
        "\r\n",
        "  # If the terminal state meets the requirements for a successful episode, set\r\n",
        "  # 'episode_result' to 1; otherwise, set it to 0\r\n",
        "  if position >= 0.5 and velocity >= 0:\r\n",
        "    episode_result = 1\r\n",
        "\r\n",
        "  else:\r\n",
        "    episode_result = 0\r\n",
        "\r\n",
        "  # Return 𝜋 and q, after updating action value with the algorithm for\r\n",
        "  # a single episode\r\n",
        "  return policy, action_value_function, reward_list, episode_result"
      ],
      "execution_count": 22,
      "outputs": []
    },
    {
      "cell_type": "markdown",
      "metadata": {
        "id": "ljoCEI6wURHb"
      },
      "source": [
        "###TD Control Function"
      ]
    },
    {
      "cell_type": "markdown",
      "metadata": {
        "id": "1zMRxG-8KwFt"
      },
      "source": [
        "This function is built out of convenience. Different TD Control methods can be selected through this function by specifying different inputs for its 'method' parameter."
      ]
    },
    {
      "cell_type": "code",
      "metadata": {
        "id": "WJDzoxzHX_tM"
      },
      "source": [
        "# Function which will print an error message in the case an incorrect 'method'\r\n",
        "# input is provided to the 'TD_Control' function below\r\n",
        "def method_input_error():\r\n",
        "  print('Invalid input - please choose from:')\r\n",
        "  print(' If n = 0:')\r\n",
        "  print('  - \\'SARSA\\'')\r\n",
        "  print('  - \\'EXP_SARSA_OFF_POLICY\\'')\r\n",
        "  print('  - \\'EXP_SARSA_ON_POLICY\\'')    \r\n",
        "  print(' \\nIf n > 0:')\r\n",
        "  print('  - \\'SARSA\\'')\r\n",
        "  print('  - \\'TREE_BACKUP\\'')"
      ],
      "execution_count": 26,
      "outputs": []
    },
    {
      "cell_type": "code",
      "metadata": {
        "id": "9-idZlcORC-1"
      },
      "source": [
        "# Cumulative TD Control function for which any of the methods programmed above\r\n",
        "# can be selected\r\n",
        "def TD_CONTROL(environment, initial_policy, initial_action_value_function, method = 'EXP_SARSA', n = 0,  alpha = 0.1, eps = 0.2, gamma = 0.95, episode_count = 5000):\r\n",
        "\r\n",
        "  # Parameter representing the maximum number of episodes possible in an episode\r\n",
        "  # DO NOT CHANGE\r\n",
        "  max_episode_steps = 200\r\n",
        "\r\n",
        "  # Set a batch size for which updates on training will be reported through a \r\n",
        "  # print statement\r\n",
        "  batch_size = 1000\r\n",
        "\r\n",
        "  # Initialize lists that will be used to provide statistics on the training\r\n",
        "  # of the model\r\n",
        "  total_reward = []\r\n",
        "  total_episode_length = []\r\n",
        "  total_episode_result = []\r\n",
        "\r\n",
        "  # Create a deep copy of the greedy policy provided as a parameter to this \r\n",
        "  # function. \r\n",
        "  input_policy = copy.deepcopy(initial_policy)\r\n",
        "\r\n",
        "  # Here, an ε-greedy policy will be constructed out of the greedy policy\r\n",
        "  policy = eps_greedy_policy_generator(input_policy, eps = eps)\r\n",
        "\r\n",
        "  # Create a deep copy of the input q\r\n",
        "  action_value_function = copy.deepcopy(initial_action_value_function)\r\n",
        "\r\n",
        "  # Loop the selected method for each episode\r\n",
        "  for episode in range(0, episode_count):\r\n",
        "\r\n",
        "    # n specifies the number of steps in an episode used to compute rewards\r\n",
        "    # n = 0 methods (SARSA, Off-Policy Expected SARSA, and On-Policy Expected\r\n",
        "    # SARSA are included here)\r\n",
        "    if n == 0:\r\n",
        "      \r\n",
        "      if method == 'SARSA':\r\n",
        "        policy, action_value_function, reward_list, episode_result = TD0_SARSA(environment, policy, action_value_function, alpha = alpha, eps = eps, gamma = gamma)\r\n",
        "\r\n",
        "      elif method == 'EXP_SARSA_OFF_POLICY':\r\n",
        "        policy, action_value_function, reward_list, episode_result = TD0_EXP_SARSA_OFF_POLICY(environment, policy, action_value_function, alpha = alpha, eps = eps, gamma = gamma)\r\n",
        "\r\n",
        "      elif method == 'EXP_SARSA_ON_POLICY':\r\n",
        "        policy, action_value_function, reward_list, episode_result = TD0_EXP_SARSA_ON_POLICY(environment, policy, action_value_function, alpha = alpha, eps = eps, gamma = gamma)\r\n",
        "     \r\n",
        "      # For all other inputs to the 'method' parameter, an error message \r\n",
        "      # requesting a correct input will be displayed\r\n",
        "      else:\r\n",
        "        method_input_error()\r\n",
        "        break\r\n",
        "\r\n",
        "    # The methods for which n > 0 include n-SARSA, and Tree Backup\r\n",
        "    elif n > 0:\r\n",
        "\r\n",
        "      if method == 'SARSA':\r\n",
        "        policy, action_value_function, reward_list, episode_result = N_STEP_SARSA(environment, policy, action_value_function, n = n,  alpha = alpha, eps = eps, gamma = gamma)\r\n",
        "\r\n",
        "      elif method == 'TREE_BACKUP':\r\n",
        "        policy, action_value_function, reward_list, episode_result = TREE_BACKUP(environment, input_policy, policy, action_value_function, n = n,  alpha = alpha, eps = eps, gamma = gamma)\r\n",
        "\r\n",
        "      # For all other inputs to the 'method' parameter, an error message \r\n",
        "      # requesting a correct input will be displayed\r\n",
        "      else:\r\n",
        "        method_input_error()\r\n",
        "        break\r\n",
        "\r\n",
        "    # If n is negative, the following message will be displayed\r\n",
        "    else:\r\n",
        "      print('Invalid input for \\'n\\'')\r\n",
        "\r\n",
        "    # For each episode, sum up the rewards, retrieve the number of episode steps,\r\n",
        "    # and retrieve the episode outcome (success or failure); store these into \r\n",
        "    # lists which will be used to summarize overall training statistics\r\n",
        "    total_reward.append(sum(reward_list))\r\n",
        "    total_episode_length.append(len(reward_list))\r\n",
        "    total_episode_result.append(episode_result)\r\n",
        "\r\n",
        "    # Report training statistics only when a batch is completed\r\n",
        "    if (episode + 1) % batch_size == 0:\r\n",
        "\r\n",
        "      # Print number of episodes completed and the \r\n",
        "      print(episode + 1, ' episodes completed... out of ', episode_count, '*' * 40)\r\n",
        "\r\n",
        "      # Calculate the average reward attained in episodes from the first episode\r\n",
        "      # to the current episode\r\n",
        "      total_avg_reward = sum(total_reward)/len(total_reward)\r\n",
        "\r\n",
        "      # Calculate the average episode length from the first episode\r\n",
        "      # to the current episode\r\n",
        "      total_avg_episode_length = sum(total_episode_length)/len(total_episode_length)\r\n",
        "\r\n",
        "      # Calculate the number of successful episodes from the first episode to\r\n",
        "      # the current episode\r\n",
        "      episode_result_cumulative = sum(total_episode_result)\r\n",
        "\r\n",
        "      # Calculate the three statistics determined above except this time only \r\n",
        "      # compute them for the episodes within the batch just completed\r\n",
        "      batch_avg_reward = sum(total_reward[(episode + 1 - batch_size):(episode + 1)])/batch_size\r\n",
        "      batch_avg_episode_length = sum(total_episode_length[(episode + 1 - batch_size):(episode + 1)])/batch_size\r\n",
        "      episode_result_batch = sum(total_episode_result[(episode + 1 - batch_size):(episode + 1)])\r\n",
        "\r\n",
        "      # Display the results of the statistics calculated above - first the \r\n",
        "      # cumulative statistics, then the results for the batch\r\n",
        "      print(' Cumulative Statistics:')\r\n",
        "\r\n",
        "      # Total average reward attained\r\n",
        "      print('   Cumulative Average Reward = ', total_avg_reward)\r\n",
        "\r\n",
        "      # Average episode length along with its fractional length (out of max\r\n",
        "      # possible episode length)\r\n",
        "      print('   Cumulative Average Episode Length = ', total_avg_episode_length, '/', max_episode_steps, ' (', total_avg_episode_length/max_episode_steps, ')')     \r\n",
        "      \r\n",
        "      # Number of successful episodes (out of all episodes)\r\n",
        "      print('   Cumulative Successful Episode Count = ', episode_result_cumulative, '/', len(total_episode_result), ' (',  episode_result_cumulative/len(total_episode_result), ')')     \r\n",
        "\r\n",
        "      # Similar description of statistics, but this time just pertaining to the\r\n",
        "      # batch\r\n",
        "      print('\\n Batch Statistics (episodes ', (episode + 1) - batch_size + 1, ' to ', episode + 1, '):')\r\n",
        "      print('   Batch Average Reward = ', batch_avg_reward)\r\n",
        "      print('   Batch Average Episode Length = ', batch_avg_episode_length, '/', max_episode_steps, ' (', batch_avg_episode_length/max_episode_steps, ')')           \r\n",
        "      print('   Batch Successful Episode Count = ', episode_result_batch, '/', batch_size, ' (', episode_result_batch/batch_size, ')\\n') \r\n",
        "\r\n",
        "    # If all episodes in the episode_count have been run, training is complete\r\n",
        "    # and method, selected parameters, and final results will be displayed\r\n",
        "    if episode + 1 == episode_count:\r\n",
        "\r\n",
        "      print('-' * 81)\r\n",
        "      print('𝐓𝐑𝐀𝐈𝐍𝐈𝐍𝐆 𝐂𝐎𝐌𝐏𝐋𝐄𝐓𝐄')\r\n",
        "      \r\n",
        "      # Determine how to display chosen TD control method based on user \r\n",
        "      # inputs to the relevant parameters ('n' and 'method') \r\n",
        "      if n == 0:\r\n",
        "        selected_method = method\r\n",
        "      else:  \r\n",
        "        if method == 'SARSA':\r\n",
        "          selected_method = 'n-SARSA (n = ' + str(n) + ')'\r\n",
        "        else:\r\n",
        "          selected_method = 'TREE_BACKUP'\r\n",
        "\r\n",
        "      # Print the selected method\r\n",
        "      print('ᴛᴅ-ᴄᴏɴᴛʀᴏʟ ᴍᴇᴛʜᴏᴅ:')\r\n",
        "      print(' ', selected_method)\r\n",
        "\r\n",
        "      # Print the training hyperparameters used\r\n",
        "      print('\\nᴘᴀʀᴀᴍᴇᴛᴇʀꜱ:')\r\n",
        "      print(' Step-size (𝜶) = ', alpha) \r\n",
        "      print(' Discount Factor (𝜸) = ', gamma)\r\n",
        "      print(' 𝜀-greedy constant (𝜺) = ', eps)\r\n",
        "      \r\n",
        "      # Print cumulative statistics after all episodes have run\r\n",
        "      print('\\nꜱᴜᴍᴍᴀʀʏ ꜱᴛᴀᴛɪꜱᴛɪᴄꜱ:')\r\n",
        "      \r\n",
        "      # Create a list with the episode lengths for the successful episodes only\r\n",
        "      successful_episodes = [total_episode_length[x] for x in range(0, len(total_episode_length)) if total_episode_result[x] == 1]\r\n",
        "      \r\n",
        "      # Calculate the average of episode length for successful episodes only\r\n",
        "      avg_successful_episode_length = sum(successful_episodes)/len(successful_episodes) if len(successful_episodes) !=0 else 0\r\n",
        "      \r\n",
        "      # Display average episode length including failed episodes\r\n",
        "      print(' Cumulative Average Episode Length = ', total_avg_episode_length, '/', max_episode_steps, ' (', total_avg_episode_length/max_episode_steps, ')')\r\n",
        "      \r\n",
        "      # Display average episode length excluding failed episodes\r\n",
        "      print(' Cumulative Average Successful Episode Length: ', avg_successful_episode_length, '/', max_episode_steps, ' (', avg_successful_episode_length/max_episode_steps, ')')\r\n",
        "      \r\n",
        "      # Display the count of successful episodes \r\n",
        "      print(' Cumulative Successful Episode Count = ', episode_result_cumulative, '/', len(total_episode_result), ' (',  episode_result_cumulative/len(total_episode_result), ')')     \r\n",
        "\r\n",
        "  # Return the final policy and action value function after all episodes in the\r\n",
        "  # episode count have run\r\n",
        "  return policy, action_value_function"
      ],
      "execution_count": 27,
      "outputs": []
    },
    {
      "cell_type": "markdown",
      "metadata": {
        "id": "z4ZGdW_YUj_m"
      },
      "source": [
        "##**Performance Assessment**"
      ]
    },
    {
      "cell_type": "markdown",
      "metadata": {
        "id": "15kjdHiK7WiW"
      },
      "source": [
        "###Performance Assessment Function for MC"
      ]
    },
    {
      "cell_type": "code",
      "metadata": {
        "id": "NkGzHU6VUwro"
      },
      "source": [
        "# Function to demonstrate performance of agent\r\n",
        "def MountainCar_TEST(trial_count, episode_count, policy_input, display_trial_readout = True, display_episode_readout = True):\r\n",
        "\r\n",
        "  # QUICK DEFINITION: trial - a group of episodes\r\n",
        "  # 'episode_count': this parameter represents how many episodes are in each \r\n",
        "  # trial\r\n",
        "\r\n",
        "  # Episodes can only last 200 timesteps - do not change this variable\r\n",
        "  max_episode_length = 200\r\n",
        "\r\n",
        "  # Length of timesteps for each trial (trial is a set of episodes)\r\n",
        "  trial_step_count = episode_count * max_episode_length\r\n",
        "\r\n",
        "  # Generate the MC environment\r\n",
        "  env = gym.make(\"MountainCar-v0\")\r\n",
        "\r\n",
        "  # Initialize lists which will store \r\n",
        "  successful_episode_average_list = []\r\n",
        "  successful_episode_count_list = []\r\n",
        "\r\n",
        "  # Loop for each trial\r\n",
        "  for trial in range(0, trial_count):\r\n",
        "    \r\n",
        "    # For each trial initialize a list into which the length of episodes will \r\n",
        "    # be stored\r\n",
        "    episode_steps = []\r\n",
        " \r\n",
        "    # Initialize a list which will indicate whether or not episodes have \r\n",
        "    # succeeded or failed\r\n",
        "    successful_episode_bool = []\r\n",
        "\r\n",
        "    # Loop for each episode within the trial\r\n",
        "    for episode in range(0, episode_count):\r\n",
        "      \r\n",
        "      # Reset the environment before processing an episode \r\n",
        "      env.reset()\r\n",
        "      for i in range(50000):\r\n",
        "\r\n",
        "        # Choose an action and move forward to the next time step\r\n",
        "        action = action_selection(policy_input, state_discretization(env.env.state))\r\n",
        "        obs, reward, done, info = env.step(action)\r\n",
        "\r\n",
        "        # If termination is reached, end the episode\r\n",
        "        if done:\r\n",
        "          break\r\n",
        "\r\n",
        "      # Retrieve the position and velocity when an episode has concluded\r\n",
        "      # These measures will be used to determine if the episode was a \r\n",
        "      # successful one or not\r\n",
        "      position = env.env.state[0]\r\n",
        "      velocity = env.env.state[1]\r\n",
        "\r\n",
        "      # A successful episode is one where the flag is reached (i.e. a position \r\n",
        "      # >= 0.5, and velocity >= 0...\r\n",
        "      if position >= 0.5 and velocity >=0:\r\n",
        "        successful_episode_bool.append(1)\r\n",
        "\r\n",
        "      else:\r\n",
        "        successful_episode_bool.append(0)\r\n",
        "\r\n",
        "      # Append the number of episode steps completed in an episode\r\n",
        "      episode_steps.append(i + 1)\r\n",
        "\r\n",
        "    # Create a list containing only the step counts for episodes that were \r\n",
        "    # successful \r\n",
        "    successful_episode_steps = [steps for success, steps in zip(successful_episode_bool, episode_steps) if success == 1]\r\n",
        "\r\n",
        "    # Determine the average step count of successful episodes\r\n",
        "    successful_episode_average = (sum(successful_episode_steps)/len(successful_episode_steps)) if len(successful_episode_steps) !=0 else 0\r\n",
        "    \r\n",
        "    # Determine the amount of successful episodes\r\n",
        "    successful_episode_count = len(successful_episode_steps)\r\n",
        "\r\n",
        "    # Append the above calculation to a list that will store these measures\r\n",
        "    # in order to average them over all trials\r\n",
        "    successful_episode_average_list.append(successful_episode_average)\r\n",
        "    successful_episode_count_list.append(successful_episode_count)\r\n",
        "\r\n",
        "    # Here we will display the output of our calculations - output can be \r\n",
        "    # seen on an trial-by-trial basis - or, more granularly, an episode-by-\r\n",
        "    # -episode basis. These can also both be turned off with the 'display_' + x\r\n",
        "    # + '_readout' parameters to this function - when they are turned off only\r\n",
        "    # the final cumulative statistics will be seen \r\n",
        "    if display_trial_readout == True or display_episode_readout == True:\r\n",
        "      print('*****Trial ', trial + 1, ' (',episode_count, 'Episodes) *****************')\r\n",
        "\r\n",
        "    if display_episode_readout == True: \r\n",
        "\r\n",
        "        \r\n",
        "      for episode in range(0, episode_count):\r\n",
        "\r\n",
        "        # Print whether episode has failed or succeeded\r\n",
        "        print('\\n Episode ', episode + 1, ':')\r\n",
        "\r\n",
        "        if successful_episode_bool[episode] == 0:\r\n",
        "          print('  FAILED EPISODE...')\r\n",
        "\r\n",
        "        else:\r\n",
        "          print('  SUCCESSFUL EPISODE...')\r\n",
        "\r\n",
        "        # Print the length of the episode\r\n",
        "        print('    Episode Length = ', episode_steps[episode], '/', max_episode_length)\r\n",
        "        print('    Fractional Length = ', episode_steps[episode]/max_episode_length)\r\n",
        "\r\n",
        "    if display_trial_readout == True:\r\n",
        "      # For each trial, display the number of successful episodes and \r\n",
        "      # average successful episode length; they are also displayed in fraction-\r\n",
        "      # al form with the print statements below\r\n",
        "      print('Successful Episodes = ', sum(successful_episode_bool), '/', episode_count)\r\n",
        "      print('Fraction of Successful Episodes = ', sum(successful_episode_bool)/episode_count)\r\n",
        "      print('Average Successful Episode Length = ', successful_episode_average, '/', max_episode_length)\r\n",
        "      print('Fraction Successful Episode Length = ', successful_episode_average/max_episode_length, '\\n')\r\n",
        "\r\n",
        "  # Cumulative results from the trials are calculated here\r\n",
        "  total_successful_episode_count = sum(successful_episode_count_list)\r\n",
        "  total_successful_episode_average = sum(successful_episode_average_list)/len(successful_episode_average_list) if len(successful_episode_average_list) !=0 else 0\r\n",
        "\r\n",
        "  # Display cumulative statistics from the trial runs\r\n",
        "  print('CUMULATIVE RESULTS:')\r\n",
        "  print('Total Number of Successful Episodes = ', total_successful_episode_count, '/', (episode_count * trial_count))\r\n",
        "  print('Fraction of Successful Episodes = ', total_successful_episode_count/(episode_count * trial_count))\r\n",
        "  print('Average of Average Successful Episode Steps per Trial = ', total_successful_episode_average, '/', max_episode_length)\r\n",
        "  print('Average of Average Successful Episode Steps per Trial (Fractional) = ', total_successful_episode_average/max_episode_length)"
      ],
      "execution_count": 28,
      "outputs": []
    },
    {
      "cell_type": "markdown",
      "metadata": {
        "id": "SKGmAfZfzB9e"
      },
      "source": [
        "#**Task 1: TD(0)**"
      ]
    },
    {
      "cell_type": "markdown",
      "metadata": {
        "id": "gfTnIU1p770Z"
      },
      "source": [
        "Develop a TD(0) controller using:\r\n",
        "\r\n",
        "- on-policy SARSA\r\n",
        "- on-policy expected SARSA\r\n",
        "- off-policy expected SARSA with a greedy control policy.\r\n",
        "<br>\r\n",
        "\r\n",
        "Compare the performance of your controllers.\r\n",
        "\r\n",
        "This will be graded."
      ]
    },
    {
      "cell_type": "markdown",
      "metadata": {
        "id": "-KoDpcFZLlGp"
      },
      "source": [
        "##**Initialized Inputs**"
      ]
    },
    {
      "cell_type": "markdown",
      "metadata": {
        "id": "miGCYexBLo5J"
      },
      "source": [
        "###Generate Discrete State Lists"
      ]
    },
    {
      "cell_type": "code",
      "metadata": {
        "id": "G9QEYLDqI1GF"
      },
      "source": [
        "# State list\r\n",
        "state_list = state_generator(11, 11)"
      ],
      "execution_count": 29,
      "outputs": []
    },
    {
      "cell_type": "code",
      "metadata": {
        "id": "dIMCxZ-3Lc5l"
      },
      "source": [
        "# Terminal state list\r\n",
        "terminal_state_list = state_generator(11, 11, terminal = True)"
      ],
      "execution_count": 30,
      "outputs": []
    },
    {
      "cell_type": "markdown",
      "metadata": {
        "id": "78T7QrVmLx5y"
      },
      "source": [
        "###Arbitrary Initial Action Value ($q_i$) Generation"
      ]
    },
    {
      "cell_type": "code",
      "metadata": {
        "colab": {
          "base_uri": "https://localhost:8080/",
          "height": 0
        },
        "id": "4wzi8xRuL38z",
        "outputId": "4ba57e36-9156-45a0-d381-8cf520e18df8"
      },
      "source": [
        "# Generate arbitrary action value function\r\n",
        "q_i = arbitrary_action_value(state_list,[0,1,2], terminal_state_list)\r\n",
        "\r\n",
        "# Display action value function\r\n",
        "q_i"
      ],
      "execution_count": 31,
      "outputs": [
        {
          "output_type": "execute_result",
          "data": {
            "text/plain": [
              "{(0, 0): {0: 0.18612527509967036,\n",
              "  1: 0.9551259472879744,\n",
              "  2: 0.8590289367558246},\n",
              " (0, 1): {0: 0.22152217299892984,\n",
              "  1: 0.1406886623430168,\n",
              "  2: 0.38405619599826357},\n",
              " (0, 2): {0: 0.7148828032686908,\n",
              "  1: 0.9066078667902302,\n",
              "  2: 0.14307067377029603},\n",
              " (0, 3): {0: 0.8876088003306211, 1: 0.8733232555776005, 2: 0.4802353169499928},\n",
              " (0, 4): {0: 0.5278718388836074,\n",
              "  1: 0.016107002170776763,\n",
              "  2: 0.07123127849120492},\n",
              " (0, 5): {0: 0.0011626494086393047,\n",
              "  1: 0.884918327748355,\n",
              "  2: 0.5841875994327754},\n",
              " (0, 6): {0: 0.6417679756488028, 1: 0.680463235404213, 2: 0.06307564535663124},\n",
              " (0, 7): {0: 0.2568464983153592, 1: 0.8771719021314304, 2: 0.8755035160457153},\n",
              " (0, 8): {0: 0.1735013435465339,\n",
              "  1: 0.46633667684122415,\n",
              "  2: 0.37327227123540174},\n",
              " (0, 9): {0: 0.07535018608623278,\n",
              "  1: 0.6441092595464167,\n",
              "  2: 0.3892411661578087},\n",
              " (0, 10): {0: 0.5230459726632052,\n",
              "  1: 0.8790226796154295,\n",
              "  2: 0.9383633500343999},\n",
              " (1, 0): {0: 0.1178357847593623,\n",
              "  1: 0.9743103232306763,\n",
              "  2: 0.35837386625898915},\n",
              " (1, 1): {0: 0.4420944641085268, 1: 0.7812577743517624, 2: 0.5623488180396932},\n",
              " (1, 2): {0: 0.4315113615064621,\n",
              "  1: 0.12107476261387229,\n",
              "  2: 0.2100024372271565},\n",
              " (1, 3): {0: 0.8467201645513109,\n",
              "  1: 0.19640687590168204,\n",
              "  2: 0.4867882394344424},\n",
              " (1, 4): {0: 0.38030783357082776,\n",
              "  1: 0.3687336678498545,\n",
              "  2: 0.5444327369086629},\n",
              " (1, 5): {0: 0.21655068761401663,\n",
              "  1: 0.6979811496710809,\n",
              "  2: 0.8463480401614922},\n",
              " (1, 6): {0: 0.5165778709090993,\n",
              "  1: 0.48898394799168243,\n",
              "  2: 0.7615538396675492},\n",
              " (1, 7): {0: 0.6026141397998408,\n",
              "  1: 0.7751061402523121,\n",
              "  2: 0.04469520833155005},\n",
              " (1, 8): {0: 0.36441965114713604,\n",
              "  1: 0.8522756137070983,\n",
              "  2: 0.5930192419387094},\n",
              " (1, 9): {0: 0.5331057516668576, 1: 0.5459759491102439, 2: 0.771480595005792},\n",
              " (1, 10): {0: 0.5037656021669511,\n",
              "  1: 0.35034671969937103,\n",
              "  2: 0.5237296587766899},\n",
              " (2, 0): {0: 0.5510780946222771, 1: 0.4343462393332568, 2: 0.2599744838466945},\n",
              " (2, 1): {0: 0.4135059017595605, 1: 0.6462721535878169, 2: 0.1393527109504178},\n",
              " (2, 2): {0: 0.022759462142950215,\n",
              "  1: 0.6736569681910013,\n",
              "  2: 0.252746473511403},\n",
              " (2, 3): {0: 0.08585541830486132,\n",
              "  1: 0.16269002936267296,\n",
              "  2: 0.016613536671802098},\n",
              " (2, 4): {0: 0.8466906489805733, 1: 0.4640817251249285, 2: 0.3326218199238926},\n",
              " (2, 5): {0: 0.4681435926590588,\n",
              "  1: 0.16041784380076207,\n",
              "  2: 0.14166570069675588},\n",
              " (2, 6): {0: 0.9402201665193963, 1: 0.1270082111514762, 2: 0.7012513053623531},\n",
              " (2, 7): {0: 0.66987437261755, 1: 0.13990612193091223, 2: 0.1777324445034304},\n",
              " (2, 8): {0: 0.08549698955792295,\n",
              "  1: 0.9060884294271287,\n",
              "  2: 0.6618542821309161},\n",
              " (2, 9): {0: 0.20794959749886277,\n",
              "  1: 0.7862439133318557,\n",
              "  2: 0.22782278286063162},\n",
              " (2, 10): {0: 0.3087639471382442,\n",
              "  1: 0.6091151091128215,\n",
              "  2: 0.14924558467205407},\n",
              " (3, 0): {0: 0.868330394263045, 1: 0.3563190986289747, 2: 0.5314436735570497},\n",
              " (3, 1): {0: 0.3075565269823046,\n",
              "  1: 0.11922322032432675,\n",
              "  2: 0.7160379348292222},\n",
              " (3, 2): {0: 0.4075952976782605, 1: 0.5444484119839258, 2: 0.8164624235542669},\n",
              " (3, 3): {0: 0.4199611851952155,\n",
              "  1: 0.09666052037581963,\n",
              "  2: 0.3476865101898273},\n",
              " (3, 4): {0: 0.6755351731070819, 1: 0.940191407494084, 2: 0.4348953824995824},\n",
              " (3, 5): {0: 0.0989716700530544,\n",
              "  1: 0.1784870978888683,\n",
              "  2: 0.11352090628321132},\n",
              " (3, 6): {0: 0.09194325399793246,\n",
              "  1: 0.060141593789999837,\n",
              "  2: 0.5327527362310488},\n",
              " (3, 7): {0: 0.19573512302268092,\n",
              "  1: 0.14160409234522797,\n",
              "  2: 0.9977632261842933},\n",
              " (3, 8): {0: 0.3910930116202114,\n",
              "  1: 0.6546289316707458,\n",
              "  2: 0.08584031729748642},\n",
              " (3, 9): {0: 0.37664451646137764, 1: 0.6443315997342239, 2: 0.832879471946768},\n",
              " (3, 10): {0: 0.37662430622145926,\n",
              "  1: 0.39130558411533345,\n",
              "  2: 0.6773689610173921},\n",
              " (4, 0): {0: 0.5459555862523296, 1: 0.6065919142345809, 2: 0.633379506603575},\n",
              " (4, 1): {0: 0.9494156418999382,\n",
              "  1: 0.08349538263182643,\n",
              "  2: 0.01075622017454081},\n",
              " (4, 2): {0: 0.6013324530781018,\n",
              "  1: 0.5581055999256643,\n",
              "  2: 0.16322081939652044},\n",
              " (4, 3): {0: 0.23329613318979214,\n",
              "  1: 0.3464309192421454,\n",
              "  2: 0.8107993349407245},\n",
              " (4, 4): {0: 0.28949067210267065,\n",
              "  1: 0.8108613260023586,\n",
              "  2: 0.7162933747481827},\n",
              " (4, 5): {0: 0.7938199714472368, 1: 0.6168709523042931, 2: 0.965052030976108},\n",
              " (4, 6): {0: 0.5205855959977973,\n",
              "  1: 0.04984195903839328,\n",
              "  2: 0.7681849395448442},\n",
              " (4, 7): {0: 0.4371909250439544, 1: 0.447166221390777, 2: 0.09840096614223848},\n",
              " (4, 8): {0: 0.20504897858438742,\n",
              "  1: 0.32261077317858866,\n",
              "  2: 0.43871399197549676},\n",
              " (4, 9): {0: 0.3585118709542082,\n",
              "  1: 0.07960175294189209,\n",
              "  2: 0.9595658555463351},\n",
              " (4, 10): {0: 0.617194915744939, 1: 0.9016390083769997, 2: 0.5493771599045767},\n",
              " (5, 0): {0: 0.5682053461524371, 1: 0.8623177355629125, 2: 0.5708649525941959},\n",
              " (5, 1): {0: 0.05806892100740102,\n",
              "  1: 0.6723047291504763,\n",
              "  2: 0.4070441988085486},\n",
              " (5, 2): {0: 0.1875348825696309, 1: 0.9514664175578991, 2: 0.2245111706296734},\n",
              " (5, 3): {0: 0.6856967771654998, 1: 0.7247680640598126, 2: 0.5741066259139994},\n",
              " (5, 4): {0: 0.030378757818834035,\n",
              "  1: 0.04212243273431837,\n",
              "  2: 0.11447805146056766},\n",
              " (5, 5): {0: 0.5355929701248949,\n",
              "  1: 0.31097849427607305,\n",
              "  2: 0.37298839526547056},\n",
              " (5, 6): {0: 0.42981810144707144, 1: 0.528699917753605, 2: 0.8995480290593229},\n",
              " (5, 7): {0: 0.7842762705008567, 1: 0.5982238309600497, 2: 0.8642046061848825},\n",
              " (5, 8): {0: 0.6275346228722468, 1: 0.9207650167101115, 2: 0.6920780716532434},\n",
              " (5, 9): {0: 0.6151037368224209,\n",
              "  1: 0.02045112260910875,\n",
              "  2: 0.8737454919190336},\n",
              " (5, 10): {0: 0.5045013170186032,\n",
              "  1: 0.8103689439879981,\n",
              "  2: 0.5875112585453302},\n",
              " (6, 0): {0: 0.9782502922757886,\n",
              "  1: 0.7656989018272519,\n",
              "  2: 0.47569085374399467},\n",
              " (6, 1): {0: 0.15743415743486178,\n",
              "  1: 0.5692491346448152,\n",
              "  2: 0.0710852435036412},\n",
              " (6, 2): {0: 0.07086016258788308,\n",
              "  1: 0.9483788163365064,\n",
              "  2: 0.6567608995646631},\n",
              " (6, 3): {0: 0.9923058003076487, 1: 0.1672462872089533, 2: 0.986176550159684},\n",
              " (6, 4): {0: 0.1734731823330029,\n",
              "  1: 0.5076661760652753,\n",
              "  2: 0.01249208991308104},\n",
              " (6, 5): {0: 0.33508712401674234,\n",
              "  1: 0.774764245623859,\n",
              "  2: 0.14952824026983214},\n",
              " (6, 6): {0: 0.29576301290199003,\n",
              "  1: 0.8596413794625535,\n",
              "  2: 0.3960932179138027},\n",
              " (6, 7): {0: 0.5422075139972251,\n",
              "  1: 0.24892933168333953,\n",
              "  2: 0.6305083972789439},\n",
              " (6, 8): {0: 0.1349493064315389,\n",
              "  1: 0.12146870509291952,\n",
              "  2: 0.9170595579200502},\n",
              " (6, 9): {0: 0.2645544402878951,\n",
              "  1: 0.28783144769694335,\n",
              "  2: 0.6220395092802536},\n",
              " (6, 10): {0: 0.1798303316374804,\n",
              "  1: 0.9142878026939473,\n",
              "  2: 0.2200993942493984},\n",
              " (7, 0): {0: 0.8286575371227902, 1: 0.5385997248283843, 2: 0.7580828192075275},\n",
              " (7, 1): {0: 0.057175395460292155,\n",
              "  1: 0.1758283775103644,\n",
              "  2: 0.30259599560711115},\n",
              " (7, 2): {0: 0.9556944879040127,\n",
              "  1: 0.09066464486678172,\n",
              "  2: 0.47151058034724025},\n",
              " (7, 3): {0: 0.7363893639119593, 1: 0.9701933579704131, 2: 0.4542132612679183},\n",
              " (7, 4): {0: 0.9510669253183939,\n",
              "  1: 0.1776527998577162,\n",
              "  2: 0.010218178465323025},\n",
              " (7, 5): {0: 0.91769348782402, 1: 0.5501995223264227, 2: 0.58992125414563},\n",
              " (7, 6): {0: 0.11826806047465943,\n",
              "  1: 0.15435783604091036,\n",
              "  2: 0.08278340435639453},\n",
              " (7, 7): {0: 0.2647233252943513, 1: 0.6662838816577765, 2: 0.9622116575054599},\n",
              " (7, 8): {0: 0.5546440339101029, 1: 0.6963471099130897, 2: 0.7908851577873597},\n",
              " (7, 9): {0: 0.13310872677836783,\n",
              "  1: 0.5012459241149172,\n",
              "  2: 0.23135840713582845},\n",
              " (7, 10): {0: 0.24079217474475, 1: 0.15294560061397833, 2: 0.220865269012273},\n",
              " (8, 0): {0: 0.8319788913873177, 1: 0.6680762341364237, 2: 0.9280964594333768},\n",
              " (8, 1): {0: 0.9104865731488282,\n",
              "  1: 0.3597265332694807,\n",
              "  2: 0.19847776231870884},\n",
              " (8, 2): {0: 0.32081098956629117,\n",
              "  1: 0.8851095202948774,\n",
              "  2: 0.19015488524856272},\n",
              " (8, 3): {0: 0.4154239802140036, 1: 0.8714391418301267, 2: 0.4906469010780129},\n",
              " (8, 4): {0: 0.8789624237328607, 1: 0.7127214606047474, 2: 0.643304568246983},\n",
              " (8, 5): {0: 0.20768891271110523, 1: 0.6677788957530137, 2: 0.0728643298828},\n",
              " (8, 6): {0: 0.23791568691079312,\n",
              "  1: 0.47903271637484257,\n",
              "  2: 0.9127801376683878},\n",
              " (8, 7): {0: 0.7659314559812771, 1: 0.7044634701436271, 2: 0.982698367967752},\n",
              " (8, 8): {0: 0.15461392722416556,\n",
              "  1: 0.14970564516132523,\n",
              "  2: 0.13822156045082779},\n",
              " (8, 9): {0: 0.9110950852242067,\n",
              "  1: 0.49524444425083103,\n",
              "  2: 0.2851488741729843},\n",
              " (8, 10): {0: 0.41416051603687565,\n",
              "  1: 0.6323215055815644,\n",
              "  2: 0.4611660674329461},\n",
              " (9, 0): {0: 0.9793911501689295, 1: 0.5251173402297166, 2: 0.6563516500642295},\n",
              " (9, 1): {0: 0.8076855371746944, 1: 0.777688323471832, 2: 0.5636711180731867},\n",
              " (9, 2): {0: 0.8419686179887982,\n",
              "  1: 0.8278155763625903,\n",
              "  2: 0.19330646757784975},\n",
              " (9, 3): {0: 0.44090711042594777,\n",
              "  1: 0.4681494829113657,\n",
              "  2: 0.10180796871676911},\n",
              " (9, 4): {0: 0.6289591707426473,\n",
              "  1: 0.30132038351654933,\n",
              "  2: 0.5629623716180759},\n",
              " (9, 5): {0: 0.9393992828578326, 1: 0.8334530742748079, 2: 0.5658473980713443},\n",
              " (9, 6): {0: 0.744531902920259,\n",
              "  1: 0.055558431107309736,\n",
              "  2: 0.33919703864871975},\n",
              " (9, 7): {0: 0.7972856914575791, 1: 0.6261384563360576, 2: 0.8710871685433569},\n",
              " (9, 8): {0: 0.01990790360423844,\n",
              "  1: 0.6571494417334866,\n",
              "  2: 0.12695344422537003},\n",
              " (9, 9): {0: 0.19109250384575527,\n",
              "  1: 0.6916257163149612,\n",
              "  2: 0.5890580858455955},\n",
              " (9, 10): {0: 0.41881876948940056,\n",
              "  1: 0.6944013168238292,\n",
              "  2: 0.47791929730105775},\n",
              " (10, 0): {0: 0.954656567690735, 1: 0.5730444074403181, 2: 0.8514737292387016},\n",
              " (10, 1): {0: 0.25241984708443477,\n",
              "  1: 0.20037898280670507,\n",
              "  2: 0.7216149267695144},\n",
              " (10, 2): {0: 0.5829833933454142,\n",
              "  1: 0.13945491125812126,\n",
              "  2: 0.7225532809224158},\n",
              " (10, 3): {0: 0.6428233586734912,\n",
              "  1: 0.23441601355784059,\n",
              "  2: 0.24468462085399956},\n",
              " (10, 4): {0: 0.9651484413041561,\n",
              "  1: 0.39212764136960765,\n",
              "  2: 0.9574606755149122},\n",
              " (10, 5): {0: 0, 1: 0, 2: 0},\n",
              " (10, 6): {0: 0, 1: 0, 2: 0},\n",
              " (10, 7): {0: 0, 1: 0, 2: 0},\n",
              " (10, 8): {0: 0, 1: 0, 2: 0},\n",
              " (10, 9): {0: 0, 1: 0, 2: 0},\n",
              " (10, 10): {0: 0, 1: 0, 2: 0}}"
            ]
          },
          "metadata": {
            "tags": []
          },
          "execution_count": 31
        }
      ]
    },
    {
      "cell_type": "markdown",
      "metadata": {
        "id": "kkXZIxggMC-1"
      },
      "source": [
        "###Generating Initial Greedy Policy ($\\pi_{greedy_{i}}$) Derived from Initial Action Value"
      ]
    },
    {
      "cell_type": "code",
      "metadata": {
        "id": "LvUAr9gwMB61"
      },
      "source": [
        "# Generate a policy based on argmax of initial action value q_i\r\n",
        "# Note that this policy will be converted to an epsilon greedy policy for use\r\n",
        "# in the implementation of TD control to this problem.\r\n",
        "pi_greedy_i = argmax_policy(q_i)"
      ],
      "execution_count": 32,
      "outputs": []
    },
    {
      "cell_type": "markdown",
      "metadata": {
        "id": "alyaskOCeozI"
      },
      "source": [
        "##**Controller Development**#"
      ]
    },
    {
      "cell_type": "markdown",
      "metadata": {
        "id": "FQwOYBaHOG08"
      },
      "source": [
        "###Develop a TD(0) controller using on-policy SARSA"
      ]
    },
    {
      "cell_type": "markdown",
      "metadata": {
        "id": "thzsfl4qVeTk"
      },
      "source": [
        "Please see specification of some parameters in the function argument below."
      ]
    },
    {
      "cell_type": "markdown",
      "metadata": {
        "id": "EZORMuQGVj3K"
      },
      "source": [
        "**Quick Definition of Parameters:**\r\n",
        "<br>\r\n",
        "`n`: Number of steps which will be used in our TD algorithms for estimating the return received by the agent\r\n",
        "<br>\r\n",
        "`alpha` ($\\alpha$): \"Learning rate\" for TD Control algorithm \r\n",
        "<br>\r\n",
        "`eps` ($ε$): Constant used to determine ε-greedy version of a greedy policy\r\n",
        "<br>\r\n",
        "`gamma` ($\\gamma$): Discounting factor used when computing returns as utilized in our estimation of the action value function for the agent in this environment\r\n",
        "<br>\r\n",
        "\r\n",
        "\r\n",
        "Please be aware that these definitions will hold for the remainder of the TD-Control methods implemented."
      ]
    },
    {
      "cell_type": "code",
      "metadata": {
        "colab": {
          "base_uri": "https://localhost:8080/",
          "height": 0
        },
        "id": "JyNdmMcDdQjh",
        "outputId": "a8593fbb-cf0d-4048-af6f-c3d805417f3b"
      },
      "source": [
        "pi_f_SARSA, q_f_SARSA = TD_CONTROL(env, pi_greedy_i, q_i, method = 'SARSA', n = 0,  alpha = 0.1, eps = 0.1, gamma = 0.95, episode_count = 5000)"
      ],
      "execution_count": 162,
      "outputs": [
        {
          "output_type": "stream",
          "text": [
            "1000  episodes completed... out of  5000 ****************************************\n",
            " Cumulative Statistics:\n",
            "   Cumulative Average Reward =  -4.327\n",
            "   Cumulative Average Episode Length =  185.062 / 200  ( 0.9253100000000001 )\n",
            "   Cumulative Successful Episode Count =  388 / 1000  ( 0.388 )\n",
            "\n",
            " Batch Statistics (episodes  1  to  1000 ):\n",
            "   Batch Average Reward =  -4.327\n",
            "   Batch Average Episode Length =  185.062 / 200  ( 0.9253100000000001 )\n",
            "   Batch Successful Episode Count =  388 / 1000  ( 0.388 )\n",
            "\n",
            "2000  episodes completed... out of  5000 ****************************************\n",
            " Cumulative Statistics:\n",
            "   Cumulative Average Reward =  -0.346\n",
            "   Cumulative Average Episode Length =  184.488 / 200  ( 0.92244 )\n",
            "   Cumulative Successful Episode Count =  841 / 2000  ( 0.4205 )\n",
            "\n",
            " Batch Statistics (episodes  1001  to  2000 ):\n",
            "   Batch Average Reward =  3.635\n",
            "   Batch Average Episode Length =  183.914 / 200  ( 0.9195699999999999 )\n",
            "   Batch Successful Episode Count =  453 / 1000  ( 0.453 )\n",
            "\n",
            "3000  episodes completed... out of  5000 ****************************************\n",
            " Cumulative Statistics:\n",
            "   Cumulative Average Reward =  -2.244666666666667\n",
            "   Cumulative Average Episode Length =  184.64433333333332 / 200  ( 0.9232216666666666 )\n",
            "   Cumulative Successful Episode Count =  1241 / 3000  ( 0.4136666666666667 )\n",
            "\n",
            " Batch Statistics (episodes  2001  to  3000 ):\n",
            "   Batch Average Reward =  -6.042\n",
            "   Batch Average Episode Length =  184.957 / 200  ( 0.924785 )\n",
            "   Batch Successful Episode Count =  400 / 1000  ( 0.4 )\n",
            "\n",
            "4000  episodes completed... out of  5000 ****************************************\n",
            " Cumulative Statistics:\n",
            "   Cumulative Average Reward =  -2.391\n",
            "   Cumulative Average Episode Length =  185.466 / 200  ( 0.92733 )\n",
            "   Cumulative Successful Episode Count =  1638 / 4000  ( 0.4095 )\n",
            "\n",
            " Batch Statistics (episodes  3001  to  4000 ):\n",
            "   Batch Average Reward =  -2.83\n",
            "   Batch Average Episode Length =  187.931 / 200  ( 0.939655 )\n",
            "   Batch Successful Episode Count =  397 / 1000  ( 0.397 )\n",
            "\n",
            "5000  episodes completed... out of  5000 ****************************************\n",
            " Cumulative Statistics:\n",
            "   Cumulative Average Reward =  -3.8272\n",
            "   Cumulative Average Episode Length =  186.003 / 200  ( 0.9300149999999999 )\n",
            "   Cumulative Successful Episode Count =  1958 / 5000  ( 0.3916 )\n",
            "\n",
            " Batch Statistics (episodes  4001  to  5000 ):\n",
            "   Batch Average Reward =  -9.572\n",
            "   Batch Average Episode Length =  188.151 / 200  ( 0.940755 )\n",
            "   Batch Successful Episode Count =  320 / 1000  ( 0.32 )\n",
            "\n",
            "---------------------------------------------------------------------------------\n",
            "𝐓𝐑𝐀𝐈𝐍𝐈𝐍𝐆 𝐂𝐎𝐌𝐏𝐋𝐄𝐓𝐄\n",
            "ᴛᴅ-ᴄᴏɴᴛʀᴏʟ ᴍᴇᴛʜᴏᴅ:\n",
            "  SARSA\n",
            "\n",
            "ᴘᴀʀᴀᴍᴇᴛᴇʀꜱ:\n",
            " Step-size (𝜶) =  0.1\n",
            " Discount Factor (𝜸) =  0.95\n",
            " 𝜀-greedy constant (𝜺) =  0.1\n",
            "\n",
            "ꜱᴜᴍᴍᴀʀʏ ꜱᴛᴀᴛɪꜱᴛɪᴄꜱ:\n",
            " Cumulative Average Episode Length =  186.003 / 200  ( 0.9300149999999999 )\n",
            " Cumulative Average Successful Episode Length:  164.25689479060264 / 200  ( 0.8212844739530132 )\n",
            " Cumulative Successful Episode Count =  1958 / 5000  ( 0.3916 )\n"
          ],
          "name": "stdout"
        }
      ]
    },
    {
      "cell_type": "markdown",
      "metadata": {
        "id": "Z_MiX96XVJcX"
      },
      "source": [
        "####Performance Result"
      ]
    },
    {
      "cell_type": "markdown",
      "metadata": {
        "id": "3brUQtQkVOyk"
      },
      "source": [
        "As we see, over 1000 test episodes, our derived final policy results in an agent which will successfully reach the flag in 993 of those 1000 episodes! "
      ]
    },
    {
      "cell_type": "code",
      "metadata": {
        "colab": {
          "base_uri": "https://localhost:8080/",
          "height": 0
        },
        "id": "Y5m1IFkwhT1P",
        "outputId": "b54adfb5-9a59-495e-b0c5-cd48363f6e17"
      },
      "source": [
        "MountainCar_TEST(trial_count = 20, episode_count = 50, policy_input = pi_f_SARSA, display_trial_readout = False, display_episode_readout = False)"
      ],
      "execution_count": 69,
      "outputs": [
        {
          "output_type": "stream",
          "text": [
            "CUMULATIVE RESULTS:\n",
            "Total Number of Successful Episodes =  993 / 1000\n",
            "Fraction of Successful Episodes =  0.993\n",
            "Average of Average Successful Episode Steps per Trial =  163.78109013605444 / 200\n",
            "Average of Average Successful Episode Steps per Trial (Fractional) =  0.8189054506802722\n"
          ],
          "name": "stdout"
        }
      ]
    },
    {
      "cell_type": "markdown",
      "metadata": {
        "id": "-3Pq5wBPd7_w"
      },
      "source": [
        "###Develop a TD(0) controller using on-policy expected SARSA"
      ]
    },
    {
      "cell_type": "code",
      "metadata": {
        "colab": {
          "base_uri": "https://localhost:8080/",
          "height": 0
        },
        "id": "DAswAPVE-RMo",
        "outputId": "f9e59c84-8209-4a75-bb1f-8cd3df9171cf"
      },
      "source": [
        "pi_f_EXP_SARSA_ON, q_f_EXP_SARSA_ON = TD_CONTROL(env, pi_greedy_i, q_i, method = 'EXP_SARSA_ON_POLICY', n = 0,  alpha = 0.1, eps = 0.1, gamma = 0.95, episode_count = 5000)"
      ],
      "execution_count": 72,
      "outputs": [
        {
          "output_type": "stream",
          "text": [
            "1000  episodes completed... out of  5000 ****************************************\n",
            " Cumulative Statistics:\n",
            "   Cumulative Average Reward =  -9.855\n",
            "   Cumulative Average Episode Length =  188.377 / 200  ( 0.9418850000000001 )\n",
            "   Cumulative Successful Episode Count =  326 / 1000  ( 0.326 )\n",
            "\n",
            " Batch Statistics (episodes  1  to  1000 ):\n",
            "   Batch Average Reward =  -9.855\n",
            "   Batch Average Episode Length =  188.377 / 200  ( 0.9418850000000001 )\n",
            "   Batch Successful Episode Count =  326 / 1000  ( 0.326 )\n",
            "\n",
            "2000  episodes completed... out of  5000 ****************************************\n",
            " Cumulative Statistics:\n",
            "   Cumulative Average Reward =  -14.403\n",
            "   Cumulative Average Episode Length =  187.003 / 200  ( 0.9350149999999999 )\n",
            "   Cumulative Successful Episode Count =  704 / 2000  ( 0.352 )\n",
            "\n",
            " Batch Statistics (episodes  1001  to  2000 ):\n",
            "   Batch Average Reward =  -18.951\n",
            "   Batch Average Episode Length =  185.629 / 200  ( 0.928145 )\n",
            "   Batch Successful Episode Count =  378 / 1000  ( 0.378 )\n",
            "\n",
            "3000  episodes completed... out of  5000 ****************************************\n",
            " Cumulative Statistics:\n",
            "   Cumulative Average Reward =  -12.638\n",
            "   Cumulative Average Episode Length =  187.06966666666668 / 200  ( 0.9353483333333333 )\n",
            "   Cumulative Successful Episode Count =  1063 / 3000  ( 0.35433333333333333 )\n",
            "\n",
            " Batch Statistics (episodes  2001  to  3000 ):\n",
            "   Batch Average Reward =  -9.108\n",
            "   Batch Average Episode Length =  187.203 / 200  ( 0.936015 )\n",
            "   Batch Successful Episode Count =  359 / 1000  ( 0.359 )\n",
            "\n",
            "4000  episodes completed... out of  5000 ****************************************\n",
            " Cumulative Statistics:\n",
            "   Cumulative Average Reward =  -11.91275\n",
            "   Cumulative Average Episode Length =  187.46325 / 200  ( 0.93731625 )\n",
            "   Cumulative Successful Episode Count =  1384 / 4000  ( 0.346 )\n",
            "\n",
            " Batch Statistics (episodes  3001  to  4000 ):\n",
            "   Batch Average Reward =  -9.737\n",
            "   Batch Average Episode Length =  188.644 / 200  ( 0.9432200000000001 )\n",
            "   Batch Successful Episode Count =  321 / 1000  ( 0.321 )\n",
            "\n",
            "5000  episodes completed... out of  5000 ****************************************\n",
            " Cumulative Statistics:\n",
            "   Cumulative Average Reward =  -10.762\n",
            "   Cumulative Average Episode Length =  186.9628 / 200  ( 0.9348139999999999 )\n",
            "   Cumulative Successful Episode Count =  1808 / 5000  ( 0.3616 )\n",
            "\n",
            " Batch Statistics (episodes  4001  to  5000 ):\n",
            "   Batch Average Reward =  -6.159\n",
            "   Batch Average Episode Length =  184.961 / 200  ( 0.9248050000000001 )\n",
            "   Batch Successful Episode Count =  424 / 1000  ( 0.424 )\n",
            "\n",
            "---------------------------------------------------------------------------------\n",
            "𝐓𝐑𝐀𝐈𝐍𝐈𝐍𝐆 𝐂𝐎𝐌𝐏𝐋𝐄𝐓𝐄\n",
            "ᴛᴅ-ᴄᴏɴᴛʀᴏʟ ᴍᴇᴛʜᴏᴅ:\n",
            "  EXP_SARSA_ON_POLICY\n",
            "\n",
            "ᴘᴀʀᴀᴍᴇᴛᴇʀꜱ:\n",
            " Step-size (𝜶) =  0.1\n",
            " Discount Factor (𝜸) =  0.95\n",
            " 𝜀-greedy constant (𝜺) =  0.1\n",
            "\n",
            "ꜱᴜᴍᴍᴀʀʏ ꜱᴛᴀᴛɪꜱᴛɪᴄꜱ:\n",
            " Cumulative Average Episode Length =  186.9628 / 200  ( 0.9348139999999999 )\n",
            " Cumulative Average Successful Episode Length:  163.94579646017698 / 200  ( 0.8197289823008849 )\n",
            " Cumulative Successful Episode Count =  1808 / 5000  ( 0.3616 )\n"
          ],
          "name": "stdout"
        }
      ]
    },
    {
      "cell_type": "markdown",
      "metadata": {
        "id": "juUMZcC6a-qI"
      },
      "source": [
        "####Performance Result"
      ]
    },
    {
      "cell_type": "markdown",
      "metadata": {
        "id": "KdczDAs4a0t9"
      },
      "source": [
        "As we see, over 1000 test episodes, our derived final policy results in an agent which will successfully reach the flag in 996 of those 1000 episodes! "
      ]
    },
    {
      "cell_type": "code",
      "metadata": {
        "colab": {
          "base_uri": "https://localhost:8080/",
          "height": 0
        },
        "id": "37c1mcDulnDQ",
        "outputId": "baf6d6e0-e4dc-4d5e-ee52-d13e6f6ca614"
      },
      "source": [
        "MountainCar_TEST(trial_count = 20, episode_count = 50, policy_input = pi_f_EXP_SARSA_ON, display_trial_readout = False, display_episode_readout = False)"
      ],
      "execution_count": 73,
      "outputs": [
        {
          "output_type": "stream",
          "text": [
            "CUMULATIVE RESULTS:\n",
            "Total Number of Successful Episodes =  996 / 1000\n",
            "Fraction of Successful Episodes =  0.996\n",
            "Average of Average Successful Episode Steps per Trial =  166.13438775510207 / 200\n",
            "Average of Average Successful Episode Steps per Trial (Fractional) =  0.8306719387755104\n"
          ],
          "name": "stdout"
        }
      ]
    },
    {
      "cell_type": "markdown",
      "metadata": {
        "id": "BNy-m144dyxZ"
      },
      "source": [
        "###Develop a TD(0) controller using off-policy expected SARSA with a greedy control policy"
      ]
    },
    {
      "cell_type": "code",
      "metadata": {
        "colab": {
          "base_uri": "https://localhost:8080/",
          "height": 0
        },
        "id": "YD-sBz7TdTEQ",
        "outputId": "7bc194bc-1c5c-4946-bfe8-bce7a3ad1e35"
      },
      "source": [
        "pi_f_EXP_SARSA_OFF, q_f_EXP_SARSA_OFF = TD_CONTROL(env, pi_greedy_i, q_i, method = 'EXP_SARSA_OFF_POLICY', n = 0,  alpha = 0.07, eps = 0.1, gamma = 0.95, episode_count = 5000)"
      ],
      "execution_count": 169,
      "outputs": [
        {
          "output_type": "stream",
          "text": [
            "1000  episodes completed... out of  5000 ****************************************\n",
            " Cumulative Statistics:\n",
            "   Cumulative Average Reward =  16.649\n",
            "   Cumulative Average Episode Length =  183.445 / 200  ( 0.917225 )\n",
            "   Cumulative Successful Episode Count =  444 / 1000  ( 0.444 )\n",
            "\n",
            " Batch Statistics (episodes  1  to  1000 ):\n",
            "   Batch Average Reward =  16.649\n",
            "   Batch Average Episode Length =  183.445 / 200  ( 0.917225 )\n",
            "   Batch Successful Episode Count =  444 / 1000  ( 0.444 )\n",
            "\n",
            "2000  episodes completed... out of  5000 ****************************************\n",
            " Cumulative Statistics:\n",
            "   Cumulative Average Reward =  6.3045\n",
            "   Cumulative Average Episode Length =  184.831 / 200  ( 0.924155 )\n",
            "   Cumulative Successful Episode Count =  842 / 2000  ( 0.421 )\n",
            "\n",
            " Batch Statistics (episodes  1001  to  2000 ):\n",
            "   Batch Average Reward =  -4.04\n",
            "   Batch Average Episode Length =  186.217 / 200  ( 0.931085 )\n",
            "   Batch Successful Episode Count =  398 / 1000  ( 0.398 )\n",
            "\n",
            "3000  episodes completed... out of  5000 ****************************************\n",
            " Cumulative Statistics:\n",
            "   Cumulative Average Reward =  8.003666666666666\n",
            "   Cumulative Average Episode Length =  184.08866666666665 / 200  ( 0.9204433333333333 )\n",
            "   Cumulative Successful Episode Count =  1324 / 3000  ( 0.44133333333333336 )\n",
            "\n",
            " Batch Statistics (episodes  2001  to  3000 ):\n",
            "   Batch Average Reward =  11.402\n",
            "   Batch Average Episode Length =  182.604 / 200  ( 0.91302 )\n",
            "   Batch Successful Episode Count =  482 / 1000  ( 0.482 )\n",
            "\n",
            "4000  episodes completed... out of  5000 ****************************************\n",
            " Cumulative Statistics:\n",
            "   Cumulative Average Reward =  9.84525\n",
            "   Cumulative Average Episode Length =  183.001 / 200  ( 0.9150050000000001 )\n",
            "   Cumulative Successful Episode Count =  1875 / 4000  ( 0.46875 )\n",
            "\n",
            " Batch Statistics (episodes  3001  to  4000 ):\n",
            "   Batch Average Reward =  15.37\n",
            "   Batch Average Episode Length =  179.738 / 200  ( 0.89869 )\n",
            "   Batch Successful Episode Count =  551 / 1000  ( 0.551 )\n",
            "\n",
            "5000  episodes completed... out of  5000 ****************************************\n",
            " Cumulative Statistics:\n",
            "   Cumulative Average Reward =  10.0106\n",
            "   Cumulative Average Episode Length =  183.4196 / 200  ( 0.917098 )\n",
            "   Cumulative Successful Episode Count =  2311 / 5000  ( 0.4622 )\n",
            "\n",
            " Batch Statistics (episodes  4001  to  5000 ):\n",
            "   Batch Average Reward =  10.672\n",
            "   Batch Average Episode Length =  185.094 / 200  ( 0.92547 )\n",
            "   Batch Successful Episode Count =  436 / 1000  ( 0.436 )\n",
            "\n",
            "---------------------------------------------------------------------------------\n",
            "𝐓𝐑𝐀𝐈𝐍𝐈𝐍𝐆 𝐂𝐎𝐌𝐏𝐋𝐄𝐓𝐄\n",
            "ᴛᴅ-ᴄᴏɴᴛʀᴏʟ ᴍᴇᴛʜᴏᴅ:\n",
            "  EXP_SARSA_OFF_POLICY\n",
            "\n",
            "ᴘᴀʀᴀᴍᴇᴛᴇʀꜱ:\n",
            " Step-size (𝜶) =  0.07\n",
            " Discount Factor (𝜸) =  0.95\n",
            " 𝜀-greedy constant (𝜺) =  0.1\n",
            "\n",
            "ꜱᴜᴍᴍᴀʀʏ ꜱᴛᴀᴛɪꜱᴛɪᴄꜱ:\n",
            " Cumulative Average Episode Length =  183.4196 / 200  ( 0.917098 )\n",
            " Cumulative Average Successful Episode Length:  164.12721765469493 / 200  ( 0.8206360882734747 )\n",
            " Cumulative Successful Episode Count =  2311 / 5000  ( 0.4622 )\n"
          ],
          "name": "stdout"
        }
      ]
    },
    {
      "cell_type": "markdown",
      "metadata": {
        "id": "PNQaeqoQXhmw"
      },
      "source": [
        "####Performance Result"
      ]
    },
    {
      "cell_type": "markdown",
      "metadata": {
        "id": "wQnmCzmlaiDi"
      },
      "source": [
        "As we see, over 1000 test episodes, our derived final policy results in an agent which will successfully reach the flag in 1000 of those 1000 episodes! "
      ]
    },
    {
      "cell_type": "code",
      "metadata": {
        "colab": {
          "base_uri": "https://localhost:8080/",
          "height": 0
        },
        "id": "M9LCccRFkWRR",
        "outputId": "b21942e0-ad4f-44b1-b017-ccb7023c45a7"
      },
      "source": [
        "MountainCar_TEST(trial_count = 20, episode_count = 50, policy_input = pi_f_EXP_SARSA_OFF, display_trial_readout = False, display_episode_readout = False)"
      ],
      "execution_count": 170,
      "outputs": [
        {
          "output_type": "stream",
          "text": [
            "CUMULATIVE RESULTS:\n",
            "Total Number of Successful Episodes =  1000 / 1000\n",
            "Fraction of Successful Episodes =  1.0\n",
            "Average of Average Successful Episode Steps per Trial =  159.98700000000002 / 200\n",
            "Average of Average Successful Episode Steps per Trial (Fractional) =  0.7999350000000001\n"
          ],
          "name": "stdout"
        }
      ]
    },
    {
      "cell_type": "markdown",
      "metadata": {
        "id": "CZxxwV0YbIlQ"
      },
      "source": [
        "##**Summary Table**"
      ]
    },
    {
      "cell_type": "markdown",
      "metadata": {
        "id": "A18XrjJAnZg0"
      },
      "source": [
        "The table below summarizes the results above. This table format will be used to summarize the following task results as well.\r\n",
        "<br>\r\n",
        "The columns 'n' through to '𝜸' have already been described. 'Average Successful Episode Length' represents the average number of steps which the MC will take to reach the flag in an episode. This is an average over all the successful episodes within the 1000 that the MC is tested on, once each algorithm runs. 'Number of Successful Episodes' represents how many of the episodes, out of the 1000 the MC was tested on for each algorithm, were successful."
      ]
    },
    {
      "cell_type": "markdown",
      "metadata": {
        "id": "u2NNBtLD3uiN"
      },
      "source": [
        "![TD0 CONTROL PICTURE.png](data:image/png;base64,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)"
      ]
    },
    {
      "cell_type": "markdown",
      "metadata": {
        "id": "eHB81nCNiOyD"
      },
      "source": [
        "##**Discussion**"
      ]
    },
    {
      "cell_type": "markdown",
      "metadata": {
        "id": "0KN6F0qYiRHQ"
      },
      "source": [
        "From the table, we see that TD(0) Off-Policy Expected SARSA performed the best, as all its 1000 test episodes were successful, and the length of successful episodes was shorter than that resulting from the other two methods. However, we can't rule out the possibility that with further tuning of parameters, the ranking of methods could be different. Nevertheless, since the results are so close here, it seems all methods are equally viable options."
      ]
    },
    {
      "cell_type": "markdown",
      "metadata": {
        "id": "k2wbiBxceGTG"
      },
      "source": [
        "#**Exercise 2: TD(n)**"
      ]
    },
    {
      "cell_type": "markdown",
      "metadata": {
        "id": "VLAec2JcfF4-"
      },
      "source": [
        "A useful ungraded exercise. Develop code for TD(n) predication, n-step SARSA (on-policy) control and off-policy Tree Backup control.\r\n",
        "\r\n",
        "Test it out."
      ]
    },
    {
      "cell_type": "markdown",
      "metadata": {
        "id": "66cffOQ8csEN"
      },
      "source": [
        "**Text Response:** n-SARSA on policy and off-policy Tree Backup control were implemented. Please observe results below... The algorithms themselves can be found in the 'Helper Functions' section, under the 'TD Control Helper Functions' subsection."
      ]
    },
    {
      "cell_type": "markdown",
      "metadata": {
        "id": "dEjJoeJQfK4K"
      },
      "source": [
        "##**n-step SARSA Testing**\r\n"
      ]
    },
    {
      "cell_type": "code",
      "metadata": {
        "colab": {
          "base_uri": "https://localhost:8080/",
          "height": 0
        },
        "id": "4fjH68_SeIs9",
        "outputId": "afd5ad44-4fd4-4426-9083-f84130b815b4"
      },
      "source": [
        "pi_f_N_SARSA_2, q_f_N_SARSA_2 = TD_CONTROL(env, pi_greedy_i, q_i, method = 'SARSA', n = 2,  alpha = 0.1, eps = 0.1, gamma = 0.95, episode_count = 5000)"
      ],
      "execution_count": 91,
      "outputs": [
        {
          "output_type": "stream",
          "text": [
            "1000  episodes completed... out of  5000 ****************************************\n",
            " Cumulative Statistics:\n",
            "   Cumulative Average Reward =  -2.873\n",
            "   Cumulative Average Episode Length =  188.573 / 200  ( 0.9428650000000001 )\n",
            "   Cumulative Successful Episode Count =  332 / 1000  ( 0.332 )\n",
            "\n",
            " Batch Statistics (episodes  1  to  1000 ):\n",
            "   Batch Average Reward =  -2.873\n",
            "   Batch Average Episode Length =  188.573 / 200  ( 0.9428650000000001 )\n",
            "   Batch Successful Episode Count =  332 / 1000  ( 0.332 )\n",
            "\n",
            "2000  episodes completed... out of  5000 ****************************************\n",
            " Cumulative Statistics:\n",
            "   Cumulative Average Reward =  -4.6975\n",
            "   Cumulative Average Episode Length =  189.511 / 200  ( 0.9475549999999999 )\n",
            "   Cumulative Successful Episode Count =  628 / 2000  ( 0.314 )\n",
            "\n",
            " Batch Statistics (episodes  1001  to  2000 ):\n",
            "   Batch Average Reward =  -6.522\n",
            "   Batch Average Episode Length =  190.449 / 200  ( 0.952245 )\n",
            "   Batch Successful Episode Count =  296 / 1000  ( 0.296 )\n",
            "\n",
            "3000  episodes completed... out of  5000 ****************************************\n",
            " Cumulative Statistics:\n",
            "   Cumulative Average Reward =  -5.299\n",
            "   Cumulative Average Episode Length =  190.57833333333335 / 200  ( 0.9528916666666667 )\n",
            "   Cumulative Successful Episode Count =  864 / 3000  ( 0.288 )\n",
            "\n",
            " Batch Statistics (episodes  2001  to  3000 ):\n",
            "   Batch Average Reward =  -6.502\n",
            "   Batch Average Episode Length =  192.713 / 200  ( 0.963565 )\n",
            "   Batch Successful Episode Count =  236 / 1000  ( 0.236 )\n",
            "\n",
            "4000  episodes completed... out of  5000 ****************************************\n",
            " Cumulative Statistics:\n",
            "   Cumulative Average Reward =  -4.776\n",
            "   Cumulative Average Episode Length =  189.7645 / 200  ( 0.9488225 )\n",
            "   Cumulative Successful Episode Count =  1209 / 4000  ( 0.30225 )\n",
            "\n",
            " Batch Statistics (episodes  3001  to  4000 ):\n",
            "   Batch Average Reward =  -3.207\n",
            "   Batch Average Episode Length =  187.323 / 200  ( 0.9366150000000001 )\n",
            "   Batch Successful Episode Count =  345 / 1000  ( 0.345 )\n",
            "\n",
            "5000  episodes completed... out of  5000 ****************************************\n",
            " Cumulative Statistics:\n",
            "   Cumulative Average Reward =  -2.2156\n",
            "   Cumulative Average Episode Length =  189.2388 / 200  ( 0.946194 )\n",
            "   Cumulative Successful Episode Count =  1578 / 5000  ( 0.3156 )\n",
            "\n",
            " Batch Statistics (episodes  4001  to  5000 ):\n",
            "   Batch Average Reward =  8.026\n",
            "   Batch Average Episode Length =  187.136 / 200  ( 0.93568 )\n",
            "   Batch Successful Episode Count =  369 / 1000  ( 0.369 )\n",
            "\n",
            "---------------------------------------------------------------------------------\n",
            "𝐓𝐑𝐀𝐈𝐍𝐈𝐍𝐆 𝐂𝐎𝐌𝐏𝐋𝐄𝐓𝐄\n",
            "ᴛᴅ-ᴄᴏɴᴛʀᴏʟ ᴍᴇᴛʜᴏᴅ:\n",
            "  n-SARSA (n = 2)\n",
            "\n",
            "ᴘᴀʀᴀᴍᴇᴛᴇʀꜱ:\n",
            " Step-size (𝜶) =  0.1\n",
            " Discount Factor (𝜸) =  0.95\n",
            " 𝜀-greedy constant (𝜺) =  0.1\n",
            "\n",
            "ꜱᴜᴍᴍᴀʀʏ ꜱᴛᴀᴛɪꜱᴛɪᴄꜱ:\n",
            " Cumulative Average Episode Length =  189.2388 / 200  ( 0.946194 )\n",
            " Cumulative Average Successful Episode Length:  165.9024081115336 / 200  ( 0.8295120405576679 )\n",
            " Cumulative Successful Episode Count =  1578 / 5000  ( 0.3156 )\n"
          ],
          "name": "stdout"
        }
      ]
    },
    {
      "cell_type": "markdown",
      "metadata": {
        "id": "fmN-Xu7ZdGEZ"
      },
      "source": [
        "###Performance Result"
      ]
    },
    {
      "cell_type": "code",
      "metadata": {
        "colab": {
          "base_uri": "https://localhost:8080/",
          "height": 0
        },
        "id": "pvbjY3YFxCSr",
        "outputId": "e341fefb-2782-485c-fef4-b6129d8ef2c7"
      },
      "source": [
        "MountainCar_TEST(trial_count = 20, episode_count = 50, policy_input = pi_f_N_SARSA_2, display_trial_readout = False, display_episode_readout = False)"
      ],
      "execution_count": 92,
      "outputs": [
        {
          "output_type": "stream",
          "text": [
            "CUMULATIVE RESULTS:\n",
            "Total Number of Successful Episodes =  964 / 1000\n",
            "Fraction of Successful Episodes =  0.964\n",
            "Average of Average Successful Episode Steps per Trial =  152.09392190715323 / 200\n",
            "Average of Average Successful Episode Steps per Trial (Fractional) =  0.7604696095357661\n"
          ],
          "name": "stdout"
        }
      ]
    },
    {
      "cell_type": "markdown",
      "metadata": {
        "id": "iVgOmB90fXaK"
      },
      "source": [
        "##**Off Policy Tree Backup Testing**"
      ]
    },
    {
      "cell_type": "code",
      "metadata": {
        "colab": {
          "base_uri": "https://localhost:8080/",
          "height": 0
        },
        "id": "W2fzA1ElebCC",
        "outputId": "3cf8aada-43fc-4461-c1a4-a832c2f69a92"
      },
      "source": [
        "pi_f_TREE_BACKUP_2, q_f_TREE_BACKUP_2 = TD_CONTROL(env, pi_greedy_i, q_i, method = 'TREE_BACKUP', n = 2,  alpha = 0.03, eps = 0.1, gamma = 0.95, episode_count = 5000)"
      ],
      "execution_count": 105,
      "outputs": [
        {
          "output_type": "stream",
          "text": [
            "1000  episodes completed... out of  5000 ****************************************\n",
            " Cumulative Statistics:\n",
            "   Cumulative Average Reward =  81.996\n",
            "   Cumulative Average Episode Length =  158.457 / 200  ( 0.792285 )\n",
            "   Cumulative Successful Episode Count =  956 / 1000  ( 0.956 )\n",
            "\n",
            " Batch Statistics (episodes  1  to  1000 ):\n",
            "   Batch Average Reward =  81.996\n",
            "   Batch Average Episode Length =  158.457 / 200  ( 0.792285 )\n",
            "   Batch Successful Episode Count =  956 / 1000  ( 0.956 )\n",
            "\n",
            "2000  episodes completed... out of  5000 ****************************************\n",
            " Cumulative Statistics:\n",
            "   Cumulative Average Reward =  85.221\n",
            "   Cumulative Average Episode Length =  157.4315 / 200  ( 0.7871575 )\n",
            "   Cumulative Successful Episode Count =  1956 / 2000  ( 0.978 )\n",
            "\n",
            " Batch Statistics (episodes  1001  to  2000 ):\n",
            "   Batch Average Reward =  88.446\n",
            "   Batch Average Episode Length =  156.406 / 200  ( 0.78203 )\n",
            "   Batch Successful Episode Count =  1000 / 1000  ( 1.0 )\n",
            "\n",
            "3000  episodes completed... out of  5000 ****************************************\n",
            " Cumulative Statistics:\n",
            "   Cumulative Average Reward =  85.59633333333333\n",
            "   Cumulative Average Episode Length =  156.93933333333334 / 200  ( 0.7846966666666667 )\n",
            "   Cumulative Successful Episode Count =  2956 / 3000  ( 0.9853333333333333 )\n",
            "\n",
            " Batch Statistics (episodes  2001  to  3000 ):\n",
            "   Batch Average Reward =  86.347\n",
            "   Batch Average Episode Length =  155.955 / 200  ( 0.7797750000000001 )\n",
            "   Batch Successful Episode Count =  1000 / 1000  ( 1.0 )\n",
            "\n",
            "4000  episodes completed... out of  5000 ****************************************\n",
            " Cumulative Statistics:\n",
            "   Cumulative Average Reward =  85.6335\n",
            "   Cumulative Average Episode Length =  156.661 / 200  ( 0.783305 )\n",
            "   Cumulative Successful Episode Count =  3956 / 4000  ( 0.989 )\n",
            "\n",
            " Batch Statistics (episodes  3001  to  4000 ):\n",
            "   Batch Average Reward =  85.745\n",
            "   Batch Average Episode Length =  155.826 / 200  ( 0.77913 )\n",
            "   Batch Successful Episode Count =  1000 / 1000  ( 1.0 )\n",
            "\n",
            "5000  episodes completed... out of  5000 ****************************************\n",
            " Cumulative Statistics:\n",
            "   Cumulative Average Reward =  86.0916\n",
            "   Cumulative Average Episode Length =  156.47 / 200  ( 0.78235 )\n",
            "   Cumulative Successful Episode Count =  4956 / 5000  ( 0.9912 )\n",
            "\n",
            " Batch Statistics (episodes  4001  to  5000 ):\n",
            "   Batch Average Reward =  87.924\n",
            "   Batch Average Episode Length =  155.706 / 200  ( 0.7785299999999999 )\n",
            "   Batch Successful Episode Count =  1000 / 1000  ( 1.0 )\n",
            "\n",
            "---------------------------------------------------------------------------------\n",
            "𝐓𝐑𝐀𝐈𝐍𝐈𝐍𝐆 𝐂𝐎𝐌𝐏𝐋𝐄𝐓𝐄\n",
            "ᴛᴅ-ᴄᴏɴᴛʀᴏʟ ᴍᴇᴛʜᴏᴅ:\n",
            "  TREE_BACKUP\n",
            "\n",
            "ᴘᴀʀᴀᴍᴇᴛᴇʀꜱ:\n",
            " Step-size (𝜶) =  0.03\n",
            " Discount Factor (𝜸) =  0.95\n",
            " 𝜀-greedy constant (𝜺) =  0.1\n",
            "\n",
            "ꜱᴜᴍᴍᴀʀʏ ꜱᴛᴀᴛɪꜱᴛɪᴄꜱ:\n",
            " Cumulative Average Episode Length =  156.47 / 200  ( 0.78235 )\n",
            " Cumulative Average Successful Episode Length:  156.08353510895884 / 200  ( 0.7804176755447942 )\n",
            " Cumulative Successful Episode Count =  4956 / 5000  ( 0.9912 )\n"
          ],
          "name": "stdout"
        }
      ]
    },
    {
      "cell_type": "markdown",
      "metadata": {
        "id": "Wc2iXfUKdVLq"
      },
      "source": [
        "###Performance Result"
      ]
    },
    {
      "cell_type": "code",
      "metadata": {
        "colab": {
          "base_uri": "https://localhost:8080/",
          "height": 0
        },
        "id": "mMzPRWYl9UAi",
        "outputId": "39b877fd-c96c-4e17-9e0d-c214ba65fa20"
      },
      "source": [
        "MountainCar_TEST(trial_count = 20, episode_count = 50, policy_input = pi_f_TREE_BACKUP_2, display_trial_readout = False, display_episode_readout = False)"
      ],
      "execution_count": 106,
      "outputs": [
        {
          "output_type": "stream",
          "text": [
            "CUMULATIVE RESULTS:\n",
            "Total Number of Successful Episodes =  1000 / 1000\n",
            "Fraction of Successful Episodes =  1.0\n",
            "Average of Average Successful Episode Steps per Trial =  155.765 / 200\n",
            "Average of Average Successful Episode Steps per Trial (Fractional) =  0.7788249999999999\n"
          ],
          "name": "stdout"
        }
      ]
    },
    {
      "cell_type": "markdown",
      "metadata": {
        "id": "pv5AXUPle22N"
      },
      "source": [
        "#**Task 2: TD(2), TD(3), TD(4)**"
      ]
    },
    {
      "cell_type": "markdown",
      "metadata": {
        "id": "doWAwfV7fDA2"
      },
      "source": [
        "Code controllers for TD(2), TD(3), and TD(4) using n-SARSA. Assess performance and compare against TD(0) and each other.\r\n",
        "\r\n",
        "You may choose to use your work from Ex 2 for this (if you did Ex 2); otherwise you can code specific solvers for TD(2/3/4)."
      ]
    },
    {
      "cell_type": "markdown",
      "metadata": {
        "id": "jfdcdKmDff0A"
      },
      "source": [
        "##**TD(2) n-SARSA**"
      ]
    },
    {
      "cell_type": "code",
      "metadata": {
        "id": "3ykrgAUle_vM",
        "colab": {
          "base_uri": "https://localhost:8080/",
          "height": 0
        },
        "outputId": "061aed8c-63f2-4be9-8ad8-e084aa42c1a1"
      },
      "source": [
        "pi_f_N_SARSA_2, q_f_N_SARSA_2 = TD_CONTROL(env, pi_greedy_i, q_i, method = 'SARSA', n = 2,  alpha = 0.1, eps = 0.1, gamma = 0.95, episode_count = 5000)"
      ],
      "execution_count": 108,
      "outputs": [
        {
          "output_type": "stream",
          "text": [
            "1000  episodes completed... out of  5000 ****************************************\n",
            " Cumulative Statistics:\n",
            "   Cumulative Average Reward =  -1.801\n",
            "   Cumulative Average Episode Length =  188.825 / 200  ( 0.944125 )\n",
            "   Cumulative Successful Episode Count =  295 / 1000  ( 0.295 )\n",
            "\n",
            " Batch Statistics (episodes  1  to  1000 ):\n",
            "   Batch Average Reward =  -1.801\n",
            "   Batch Average Episode Length =  188.825 / 200  ( 0.944125 )\n",
            "   Batch Successful Episode Count =  295 / 1000  ( 0.295 )\n",
            "\n",
            "2000  episodes completed... out of  5000 ****************************************\n",
            " Cumulative Statistics:\n",
            "   Cumulative Average Reward =  -0.165\n",
            "   Cumulative Average Episode Length =  186.368 / 200  ( 0.93184 )\n",
            "   Cumulative Successful Episode Count =  718 / 2000  ( 0.359 )\n",
            "\n",
            " Batch Statistics (episodes  1001  to  2000 ):\n",
            "   Batch Average Reward =  1.471\n",
            "   Batch Average Episode Length =  183.911 / 200  ( 0.919555 )\n",
            "   Batch Successful Episode Count =  423 / 1000  ( 0.423 )\n",
            "\n",
            "3000  episodes completed... out of  5000 ****************************************\n",
            " Cumulative Statistics:\n",
            "   Cumulative Average Reward =  -1.412\n",
            "   Cumulative Average Episode Length =  187.81833333333333 / 200  ( 0.9390916666666667 )\n",
            "   Cumulative Successful Episode Count =  1001 / 3000  ( 0.33366666666666667 )\n",
            "\n",
            " Batch Statistics (episodes  2001  to  3000 ):\n",
            "   Batch Average Reward =  -3.906\n",
            "   Batch Average Episode Length =  190.719 / 200  ( 0.953595 )\n",
            "   Batch Successful Episode Count =  283 / 1000  ( 0.283 )\n",
            "\n",
            "4000  episodes completed... out of  5000 ****************************************\n",
            " Cumulative Statistics:\n",
            "   Cumulative Average Reward =  0.0765\n",
            "   Cumulative Average Episode Length =  187.88675 / 200  ( 0.9394337500000001 )\n",
            "   Cumulative Successful Episode Count =  1367 / 4000  ( 0.34175 )\n",
            "\n",
            " Batch Statistics (episodes  3001  to  4000 ):\n",
            "   Batch Average Reward =  4.542\n",
            "   Batch Average Episode Length =  188.092 / 200  ( 0.9404600000000001 )\n",
            "   Batch Successful Episode Count =  366 / 1000  ( 0.366 )\n",
            "\n",
            "5000  episodes completed... out of  5000 ****************************************\n",
            " Cumulative Statistics:\n",
            "   Cumulative Average Reward =  -3.173\n",
            "   Cumulative Average Episode Length =  188.6974 / 200  ( 0.943487 )\n",
            "   Cumulative Successful Episode Count =  1635 / 5000  ( 0.327 )\n",
            "\n",
            " Batch Statistics (episodes  4001  to  5000 ):\n",
            "   Batch Average Reward =  -16.171\n",
            "   Batch Average Episode Length =  191.94 / 200  ( 0.9597 )\n",
            "   Batch Successful Episode Count =  268 / 1000  ( 0.268 )\n",
            "\n",
            "---------------------------------------------------------------------------------\n",
            "𝐓𝐑𝐀𝐈𝐍𝐈𝐍𝐆 𝐂𝐎𝐌𝐏𝐋𝐄𝐓𝐄\n",
            "ᴛᴅ-ᴄᴏɴᴛʀᴏʟ ᴍᴇᴛʜᴏᴅ:\n",
            "  n-SARSA (n = 2)\n",
            "\n",
            "ᴘᴀʀᴀᴍᴇᴛᴇʀꜱ:\n",
            " Step-size (𝜶) =  0.1\n",
            " Discount Factor (𝜸) =  0.95\n",
            " 𝜀-greedy constant (𝜺) =  0.1\n",
            "\n",
            "ꜱᴜᴍᴍᴀʀʏ ꜱᴛᴀᴛɪꜱᴛɪᴄꜱ:\n",
            " Cumulative Average Episode Length =  188.6974 / 200  ( 0.943487 )\n",
            " Cumulative Average Successful Episode Length:  165.4354740061162 / 200  ( 0.827177370030581 )\n",
            " Cumulative Successful Episode Count =  1635 / 5000  ( 0.327 )\n"
          ],
          "name": "stdout"
        }
      ]
    },
    {
      "cell_type": "markdown",
      "metadata": {
        "id": "hMzB76LBdgud"
      },
      "source": [
        "###Performance Result"
      ]
    },
    {
      "cell_type": "markdown",
      "metadata": {
        "id": "SwC9g6VJdiqh"
      },
      "source": [
        "965 successful test episodes out of 1000."
      ]
    },
    {
      "cell_type": "code",
      "metadata": {
        "colab": {
          "base_uri": "https://localhost:8080/",
          "height": 0
        },
        "id": "q3MGkBT_9kD2",
        "outputId": "c22a04f6-a2e1-474a-dc9e-2eca6f9ed846"
      },
      "source": [
        "MountainCar_TEST(trial_count = 20, episode_count = 50, policy_input = pi_f_N_SARSA_2, display_trial_readout = False, display_episode_readout = False)"
      ],
      "execution_count": 109,
      "outputs": [
        {
          "output_type": "stream",
          "text": [
            "CUMULATIVE RESULTS:\n",
            "Total Number of Successful Episodes =  965 / 1000\n",
            "Fraction of Successful Episodes =  0.965\n",
            "Average of Average Successful Episode Steps per Trial =  184.5825874607475 / 200\n",
            "Average of Average Successful Episode Steps per Trial (Fractional) =  0.9229129373037375\n"
          ],
          "name": "stdout"
        }
      ]
    },
    {
      "cell_type": "markdown",
      "metadata": {
        "id": "SjaBzZjrfnYF"
      },
      "source": [
        "##**TD(3) n-SARSA**"
      ]
    },
    {
      "cell_type": "code",
      "metadata": {
        "id": "7_rhVKnDfdCe",
        "colab": {
          "base_uri": "https://localhost:8080/",
          "height": 0
        },
        "outputId": "6aa30ef9-3eda-4c74-a1c1-b8111f8555e6"
      },
      "source": [
        "pi_f_N_SARSA_3, q_f_N_SARSA_3 = TD_CONTROL(env, pi_greedy_i, q_i, method = 'SARSA', n = 3,  alpha = 0.1, eps = 0.1, gamma = 0.95, episode_count = 5000)"
      ],
      "execution_count": 116,
      "outputs": [
        {
          "output_type": "stream",
          "text": [
            "1000  episodes completed... out of  5000 ****************************************\n",
            " Cumulative Statistics:\n",
            "   Cumulative Average Reward =  -2.79\n",
            "   Cumulative Average Episode Length =  189.837 / 200  ( 0.949185 )\n",
            "   Cumulative Successful Episode Count =  338 / 1000  ( 0.338 )\n",
            "\n",
            " Batch Statistics (episodes  1  to  1000 ):\n",
            "   Batch Average Reward =  -2.79\n",
            "   Batch Average Episode Length =  189.837 / 200  ( 0.949185 )\n",
            "   Batch Successful Episode Count =  338 / 1000  ( 0.338 )\n",
            "\n",
            "2000  episodes completed... out of  5000 ****************************************\n",
            " Cumulative Statistics:\n",
            "   Cumulative Average Reward =  -6.0455\n",
            "   Cumulative Average Episode Length =  188.546 / 200  ( 0.94273 )\n",
            "   Cumulative Successful Episode Count =  684 / 2000  ( 0.342 )\n",
            "\n",
            " Batch Statistics (episodes  1001  to  2000 ):\n",
            "   Batch Average Reward =  -9.301\n",
            "   Batch Average Episode Length =  187.255 / 200  ( 0.936275 )\n",
            "   Batch Successful Episode Count =  346 / 1000  ( 0.346 )\n",
            "\n",
            "3000  episodes completed... out of  5000 ****************************************\n",
            " Cumulative Statistics:\n",
            "   Cumulative Average Reward =  -4.509333333333333\n",
            "   Cumulative Average Episode Length =  188.549 / 200  ( 0.942745 )\n",
            "   Cumulative Successful Episode Count =  1013 / 3000  ( 0.33766666666666667 )\n",
            "\n",
            " Batch Statistics (episodes  2001  to  3000 ):\n",
            "   Batch Average Reward =  -1.437\n",
            "   Batch Average Episode Length =  188.555 / 200  ( 0.942775 )\n",
            "   Batch Successful Episode Count =  329 / 1000  ( 0.329 )\n",
            "\n",
            "4000  episodes completed... out of  5000 ****************************************\n",
            " Cumulative Statistics:\n",
            "   Cumulative Average Reward =  -4.74125\n",
            "   Cumulative Average Episode Length =  188.686 / 200  ( 0.94343 )\n",
            "   Cumulative Successful Episode Count =  1332 / 4000  ( 0.333 )\n",
            "\n",
            " Batch Statistics (episodes  3001  to  4000 ):\n",
            "   Batch Average Reward =  -5.437\n",
            "   Batch Average Episode Length =  189.097 / 200  ( 0.945485 )\n",
            "   Batch Successful Episode Count =  319 / 1000  ( 0.319 )\n",
            "\n",
            "5000  episodes completed... out of  5000 ****************************************\n",
            " Cumulative Statistics:\n",
            "   Cumulative Average Reward =  -6.3894\n",
            "   Cumulative Average Episode Length =  189.027 / 200  ( 0.945135 )\n",
            "   Cumulative Successful Episode Count =  1613 / 5000  ( 0.3226 )\n",
            "\n",
            " Batch Statistics (episodes  4001  to  5000 ):\n",
            "   Batch Average Reward =  -12.982\n",
            "   Batch Average Episode Length =  190.391 / 200  ( 0.951955 )\n",
            "   Batch Successful Episode Count =  281 / 1000  ( 0.281 )\n",
            "\n",
            "---------------------------------------------------------------------------------\n",
            "𝐓𝐑𝐀𝐈𝐍𝐈𝐍𝐆 𝐂𝐎𝐌𝐏𝐋𝐄𝐓𝐄\n",
            "ᴛᴅ-ᴄᴏɴᴛʀᴏʟ ᴍᴇᴛʜᴏᴅ:\n",
            "  n-SARSA (n = 3)\n",
            "\n",
            "ᴘᴀʀᴀᴍᴇᴛᴇʀꜱ:\n",
            " Step-size (𝜶) =  0.1\n",
            " Discount Factor (𝜸) =  0.95\n",
            " 𝜀-greedy constant (𝜺) =  0.1\n",
            "\n",
            "ꜱᴜᴍᴍᴀʀʏ ꜱᴛᴀᴛɪꜱᴛɪᴄꜱ:\n",
            " Cumulative Average Episode Length =  189.027 / 200  ( 0.945135 )\n",
            " Cumulative Average Successful Episode Length:  165.98574085554867 / 200  ( 0.8299287042777433 )\n",
            " Cumulative Successful Episode Count =  1613 / 5000  ( 0.3226 )\n"
          ],
          "name": "stdout"
        }
      ]
    },
    {
      "cell_type": "markdown",
      "metadata": {
        "id": "V59f2OWAdpXh"
      },
      "source": [
        "###Performance Result"
      ]
    },
    {
      "cell_type": "markdown",
      "metadata": {
        "id": "fvHPgxJHdo1X"
      },
      "source": [
        "979 successful test episodes out of 1000."
      ]
    },
    {
      "cell_type": "code",
      "metadata": {
        "colab": {
          "base_uri": "https://localhost:8080/",
          "height": 0
        },
        "id": "daewmYLt9pff",
        "outputId": "6d94ae9d-b8b1-49df-e64f-d685ad364f6e"
      },
      "source": [
        "MountainCar_TEST(trial_count = 20, episode_count = 50, policy_input = pi_f_N_SARSA_3, display_trial_readout = False, display_episode_readout = False)"
      ],
      "execution_count": 117,
      "outputs": [
        {
          "output_type": "stream",
          "text": [
            "CUMULATIVE RESULTS:\n",
            "Total Number of Successful Episodes =  979 / 1000\n",
            "Fraction of Successful Episodes =  0.979\n",
            "Average of Average Successful Episode Steps per Trial =  150.4693976335215 / 200\n",
            "Average of Average Successful Episode Steps per Trial (Fractional) =  0.7523469881676076\n"
          ],
          "name": "stdout"
        }
      ]
    },
    {
      "cell_type": "markdown",
      "metadata": {
        "id": "RGVKeHzlfpSQ"
      },
      "source": [
        "##**TD(4) n-SARSA**"
      ]
    },
    {
      "cell_type": "code",
      "metadata": {
        "id": "s-T_msscfeaJ",
        "colab": {
          "base_uri": "https://localhost:8080/",
          "height": 0
        },
        "outputId": "9ec4b744-97c6-4444-989b-a952f0108671"
      },
      "source": [
        "pi_f_N_SARSA_4, q_f_N_SARSA_4 = TD_CONTROL(env, pi_greedy_i, q_i, method = 'SARSA', n = 4,  alpha = 0.06, eps = 0.08, gamma = 0.95, episode_count = 5000)"
      ],
      "execution_count": 136,
      "outputs": [
        {
          "output_type": "stream",
          "text": [
            "1000  episodes completed... out of  5000 ****************************************\n",
            " Cumulative Statistics:\n",
            "   Cumulative Average Reward =  31.944\n",
            "   Cumulative Average Episode Length =  179.875 / 200  ( 0.899375 )\n",
            "   Cumulative Successful Episode Count =  506 / 1000  ( 0.506 )\n",
            "\n",
            " Batch Statistics (episodes  1  to  1000 ):\n",
            "   Batch Average Reward =  31.944\n",
            "   Batch Average Episode Length =  179.875 / 200  ( 0.899375 )\n",
            "   Batch Successful Episode Count =  506 / 1000  ( 0.506 )\n",
            "\n",
            "2000  episodes completed... out of  5000 ****************************************\n",
            " Cumulative Statistics:\n",
            "   Cumulative Average Reward =  33.415\n",
            "   Cumulative Average Episode Length =  180.2825 / 200  ( 0.9014125 )\n",
            "   Cumulative Successful Episode Count =  1027 / 2000  ( 0.5135 )\n",
            "\n",
            " Batch Statistics (episodes  1001  to  2000 ):\n",
            "   Batch Average Reward =  34.886\n",
            "   Batch Average Episode Length =  180.69 / 200  ( 0.90345 )\n",
            "   Batch Successful Episode Count =  521 / 1000  ( 0.521 )\n",
            "\n",
            "3000  episodes completed... out of  5000 ****************************************\n",
            " Cumulative Statistics:\n",
            "   Cumulative Average Reward =  36.76433333333333\n",
            "   Cumulative Average Episode Length =  178.17266666666666 / 200  ( 0.8908633333333333 )\n",
            "   Cumulative Successful Episode Count =  1644 / 3000  ( 0.548 )\n",
            "\n",
            " Batch Statistics (episodes  2001  to  3000 ):\n",
            "   Batch Average Reward =  43.463\n",
            "   Batch Average Episode Length =  173.953 / 200  ( 0.869765 )\n",
            "   Batch Successful Episode Count =  617 / 1000  ( 0.617 )\n",
            "\n",
            "4000  episodes completed... out of  5000 ****************************************\n",
            " Cumulative Statistics:\n",
            "   Cumulative Average Reward =  37.74525\n",
            "   Cumulative Average Episode Length =  177.6225 / 200  ( 0.8881125 )\n",
            "   Cumulative Successful Episode Count =  2244 / 4000  ( 0.561 )\n",
            "\n",
            " Batch Statistics (episodes  3001  to  4000 ):\n",
            "   Batch Average Reward =  40.688\n",
            "   Batch Average Episode Length =  175.972 / 200  ( 0.8798600000000001 )\n",
            "   Batch Successful Episode Count =  600 / 1000  ( 0.6 )\n",
            "\n",
            "5000  episodes completed... out of  5000 ****************************************\n",
            " Cumulative Statistics:\n",
            "   Cumulative Average Reward =  37.4968\n",
            "   Cumulative Average Episode Length =  177.0346 / 200  ( 0.8851730000000001 )\n",
            "   Cumulative Successful Episode Count =  2857 / 5000  ( 0.5714 )\n",
            "\n",
            " Batch Statistics (episodes  4001  to  5000 ):\n",
            "   Batch Average Reward =  36.503\n",
            "   Batch Average Episode Length =  174.683 / 200  ( 0.8734149999999999 )\n",
            "   Batch Successful Episode Count =  613 / 1000  ( 0.613 )\n",
            "\n",
            "---------------------------------------------------------------------------------\n",
            "𝐓𝐑𝐀𝐈𝐍𝐈𝐍𝐆 𝐂𝐎𝐌𝐏𝐋𝐄𝐓𝐄\n",
            "ᴛᴅ-ᴄᴏɴᴛʀᴏʟ ᴍᴇᴛʜᴏᴅ:\n",
            "  n-SARSA (n = 4)\n",
            "\n",
            "ᴘᴀʀᴀᴍᴇᴛᴇʀꜱ:\n",
            " Step-size (𝜶) =  0.06\n",
            " Discount Factor (𝜸) =  0.95\n",
            " 𝜀-greedy constant (𝜺) =  0.08\n",
            "\n",
            "ꜱᴜᴍᴍᴀʀʏ ꜱᴛᴀᴛɪꜱᴛɪᴄꜱ:\n",
            " Cumulative Average Episode Length =  177.0346 / 200  ( 0.8851730000000001 )\n",
            " Cumulative Average Successful Episode Length:  159.80854042702134 / 200  ( 0.7990427021351068 )\n",
            " Cumulative Successful Episode Count =  2857 / 5000  ( 0.5714 )\n"
          ],
          "name": "stdout"
        }
      ]
    },
    {
      "cell_type": "markdown",
      "metadata": {
        "id": "klbSpR4LdwZW"
      },
      "source": [
        "###Performance Result"
      ]
    },
    {
      "cell_type": "markdown",
      "metadata": {
        "id": "qkuyyxoed33O"
      },
      "source": [
        "998 successful test episodes out of 1000."
      ]
    },
    {
      "cell_type": "code",
      "metadata": {
        "colab": {
          "base_uri": "https://localhost:8080/",
          "height": 0
        },
        "id": "sj9kx8ER9rKb",
        "outputId": "34c71682-2815-4db1-9872-67aea701a614"
      },
      "source": [
        "MountainCar_TEST(trial_count = 20, episode_count = 50, policy_input = pi_f_N_SARSA_4, display_trial_readout = False, display_episode_readout = False)"
      ],
      "execution_count": 137,
      "outputs": [
        {
          "output_type": "stream",
          "text": [
            "CUMULATIVE RESULTS:\n",
            "Total Number of Successful Episodes =  998 / 1000\n",
            "Fraction of Successful Episodes =  0.998\n",
            "Average of Average Successful Episode Steps per Trial =  144.13179591836735 / 200\n",
            "Average of Average Successful Episode Steps per Trial (Fractional) =  0.7206589795918368\n"
          ],
          "name": "stdout"
        }
      ]
    },
    {
      "cell_type": "markdown",
      "metadata": {
        "id": "5_fkAgswd9uy"
      },
      "source": [
        "##**Summary Table**"
      ]
    },
    {
      "cell_type": "markdown",
      "metadata": {
        "id": "WKNjnLP73-4e"
      },
      "source": [
        "![NSARSA PICTURE.png](data:image/png;base64,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)"
      ]
    },
    {
      "cell_type": "markdown",
      "metadata": {
        "id": "BzRFXNLDjyys"
      },
      "source": [
        "##**Discussion**"
      ]
    },
    {
      "cell_type": "markdown",
      "metadata": {
        "id": "AdPg9f3si_aO"
      },
      "source": [
        "From the table, we see an increase in performance as n is increased - an intuitive result. However we notice that TD(2) SARSA performed worse than TD(0) SARSA in the previous task. This may be a matter of tuning the parameters differently to generate different results. However the results in TD(4) are a great improvement, as we observe the lowest `'Average Successful Episode Length'` yet, and a vary high count of successful episodes."
      ]
    },
    {
      "cell_type": "markdown",
      "metadata": {
        "id": "g6bfbObEfrfy"
      },
      "source": [
        "#**Bonus Task 3: Tree Backup**"
      ]
    },
    {
      "cell_type": "markdown",
      "metadata": {
        "id": "zoOpw0Nnf-k6"
      },
      "source": [
        "This is optional; if you do this, your grade can exceed 100% and will offset other grades.\r\n",
        "\r\n",
        "Assess the performance of Tree Backup for TD(2), TD(3), and TD(4) versus the respective n-SARSA controller."
      ]
    },
    {
      "cell_type": "markdown",
      "metadata": {
        "id": "bPam7mSaeWVo"
      },
      "source": [
        "##**TD(2) Tree Backup**"
      ]
    },
    {
      "cell_type": "code",
      "metadata": {
        "id": "U34HJZELgD1a",
        "colab": {
          "base_uri": "https://localhost:8080/",
          "height": 0
        },
        "outputId": "c8f85ba1-c522-4864-8e50-257f81e11468"
      },
      "source": [
        "pi_f_TREE_BACKUP_2, q_f_TREE_BACKUP_2 = TD_CONTROL(env, pi_greedy_i, q_i, method = 'TREE_BACKUP', n = 2,  alpha = 0.03, eps = 0.1, gamma = 0.95, episode_count = 5000)"
      ],
      "execution_count": 147,
      "outputs": [
        {
          "output_type": "stream",
          "text": [
            "1000  episodes completed... out of  5000 ****************************************\n",
            " Cumulative Statistics:\n",
            "   Cumulative Average Reward =  81.757\n",
            "   Cumulative Average Episode Length =  160.344 / 200  ( 0.80172 )\n",
            "   Cumulative Successful Episode Count =  954 / 1000  ( 0.954 )\n",
            "\n",
            " Batch Statistics (episodes  1  to  1000 ):\n",
            "   Batch Average Reward =  81.757\n",
            "   Batch Average Episode Length =  160.344 / 200  ( 0.80172 )\n",
            "   Batch Successful Episode Count =  954 / 1000  ( 0.954 )\n",
            "\n",
            "2000  episodes completed... out of  5000 ****************************************\n",
            " Cumulative Statistics:\n",
            "   Cumulative Average Reward =  85.023\n",
            "   Cumulative Average Episode Length =  159.398 / 200  ( 0.79699 )\n",
            "   Cumulative Successful Episode Count =  1954 / 2000  ( 0.977 )\n",
            "\n",
            " Batch Statistics (episodes  1001  to  2000 ):\n",
            "   Batch Average Reward =  88.289\n",
            "   Batch Average Episode Length =  158.452 / 200  ( 0.79226 )\n",
            "   Batch Successful Episode Count =  1000 / 1000  ( 1.0 )\n",
            "\n",
            "3000  episodes completed... out of  5000 ****************************************\n",
            " Cumulative Statistics:\n",
            "   Cumulative Average Reward =  85.49466666666666\n",
            "   Cumulative Average Episode Length =  159.09866666666667 / 200  ( 0.7954933333333334 )\n",
            "   Cumulative Successful Episode Count =  2954 / 3000  ( 0.9846666666666667 )\n",
            "\n",
            " Batch Statistics (episodes  2001  to  3000 ):\n",
            "   Batch Average Reward =  86.438\n",
            "   Batch Average Episode Length =  158.5 / 200  ( 0.7925 )\n",
            "   Batch Successful Episode Count =  1000 / 1000  ( 1.0 )\n",
            "\n",
            "4000  episodes completed... out of  5000 ****************************************\n",
            " Cumulative Statistics:\n",
            "   Cumulative Average Reward =  85.558\n",
            "   Cumulative Average Episode Length =  158.80325 / 200  ( 0.79401625 )\n",
            "   Cumulative Successful Episode Count =  3954 / 4000  ( 0.9885 )\n",
            "\n",
            " Batch Statistics (episodes  3001  to  4000 ):\n",
            "   Batch Average Reward =  85.748\n",
            "   Batch Average Episode Length =  157.917 / 200  ( 0.789585 )\n",
            "   Batch Successful Episode Count =  1000 / 1000  ( 1.0 )\n",
            "\n",
            "5000  episodes completed... out of  5000 ****************************************\n",
            " Cumulative Statistics:\n",
            "   Cumulative Average Reward =  85.2166\n",
            "   Cumulative Average Episode Length =  158.6248 / 200  ( 0.7931239999999999 )\n",
            "   Cumulative Successful Episode Count =  4954 / 5000  ( 0.9908 )\n",
            "\n",
            " Batch Statistics (episodes  4001  to  5000 ):\n",
            "   Batch Average Reward =  83.851\n",
            "   Batch Average Episode Length =  157.911 / 200  ( 0.789555 )\n",
            "   Batch Successful Episode Count =  1000 / 1000  ( 1.0 )\n",
            "\n",
            "---------------------------------------------------------------------------------\n",
            "𝐓𝐑𝐀𝐈𝐍𝐈𝐍𝐆 𝐂𝐎𝐌𝐏𝐋𝐄𝐓𝐄\n",
            "ᴛᴅ-ᴄᴏɴᴛʀᴏʟ ᴍᴇᴛʜᴏᴅ:\n",
            "  TREE_BACKUP\n",
            "\n",
            "ᴘᴀʀᴀᴍᴇᴛᴇʀꜱ:\n",
            " Step-size (𝜶) =  0.03\n",
            " Discount Factor (𝜸) =  0.95\n",
            " 𝜀-greedy constant (𝜺) =  0.1\n",
            "\n",
            "ꜱᴜᴍᴍᴀʀʏ ꜱᴛᴀᴛɪꜱᴛɪᴄꜱ:\n",
            " Cumulative Average Episode Length =  158.6248 / 200  ( 0.7931239999999999 )\n",
            " Cumulative Average Successful Episode Length:  158.24061364553896 / 200  ( 0.7912030682276948 )\n",
            " Cumulative Successful Episode Count =  4954 / 5000  ( 0.9908 )\n"
          ],
          "name": "stdout"
        }
      ]
    },
    {
      "cell_type": "markdown",
      "metadata": {
        "id": "2WkaFM2qebhF"
      },
      "source": [
        "###Performance Result"
      ]
    },
    {
      "cell_type": "markdown",
      "metadata": {
        "id": "MMAUnEC6edaZ"
      },
      "source": [
        "1000 successful episodes out of 1000 test episodes."
      ]
    },
    {
      "cell_type": "code",
      "metadata": {
        "colab": {
          "base_uri": "https://localhost:8080/",
          "height": 0
        },
        "id": "yqvK7UHMFANS",
        "outputId": "e97eb9a0-f0aa-4235-e18d-1d792865f3b7"
      },
      "source": [
        "MountainCar_TEST(trial_count = 20, episode_count = 50, policy_input = pi_f_TREE_BACKUP_2, display_trial_readout = False, display_episode_readout = False)"
      ],
      "execution_count": 148,
      "outputs": [
        {
          "output_type": "stream",
          "text": [
            "CUMULATIVE RESULTS:\n",
            "Total Number of Successful Episodes =  1000 / 1000\n",
            "Fraction of Successful Episodes =  1.0\n",
            "Average of Average Successful Episode Steps per Trial =  157.89499999999998 / 200\n",
            "Average of Average Successful Episode Steps per Trial (Fractional) =  0.7894749999999999\n"
          ],
          "name": "stdout"
        }
      ]
    },
    {
      "cell_type": "markdown",
      "metadata": {
        "id": "IgQUk2GcesEd"
      },
      "source": [
        "##**TD(3) Tree Backup**"
      ]
    },
    {
      "cell_type": "code",
      "metadata": {
        "id": "SsAEmKTMgFJN",
        "colab": {
          "base_uri": "https://localhost:8080/",
          "height": 0
        },
        "outputId": "8351abf0-d5e4-4fdb-e76e-cd74f7762d25"
      },
      "source": [
        "pi_f_TREE_BACKUP_3, q_f_TREE_BACKUP_3 = TD_CONTROL(env, pi_greedy_i, q_i, method = 'TREE_BACKUP', n = 3,  alpha = 0.05, eps = 0.1, gamma = 0.95, episode_count = 5000)"
      ],
      "execution_count": 160,
      "outputs": [
        {
          "output_type": "stream",
          "text": [
            "1000  episodes completed... out of  5000 ****************************************\n",
            " Cumulative Statistics:\n",
            "   Cumulative Average Reward =  74.036\n",
            "   Cumulative Average Episode Length =  155.55 / 200  ( 0.77775 )\n",
            "   Cumulative Successful Episode Count =  990 / 1000  ( 0.99 )\n",
            "\n",
            " Batch Statistics (episodes  1  to  1000 ):\n",
            "   Batch Average Reward =  74.036\n",
            "   Batch Average Episode Length =  155.55 / 200  ( 0.77775 )\n",
            "   Batch Successful Episode Count =  990 / 1000  ( 0.99 )\n",
            "\n",
            "2000  episodes completed... out of  5000 ****************************************\n",
            " Cumulative Statistics:\n",
            "   Cumulative Average Reward =  74.166\n",
            "   Cumulative Average Episode Length =  155.2685 / 200  ( 0.7763424999999999 )\n",
            "   Cumulative Successful Episode Count =  1990 / 2000  ( 0.995 )\n",
            "\n",
            " Batch Statistics (episodes  1001  to  2000 ):\n",
            "   Batch Average Reward =  74.296\n",
            "   Batch Average Episode Length =  154.987 / 200  ( 0.7749349999999999 )\n",
            "   Batch Successful Episode Count =  1000 / 1000  ( 1.0 )\n",
            "\n",
            "3000  episodes completed... out of  5000 ****************************************\n",
            " Cumulative Statistics:\n",
            "   Cumulative Average Reward =  75.19066666666667\n",
            "   Cumulative Average Episode Length =  155.275 / 200  ( 0.776375 )\n",
            "   Cumulative Successful Episode Count =  2990 / 3000  ( 0.9966666666666667 )\n",
            "\n",
            " Batch Statistics (episodes  2001  to  3000 ):\n",
            "   Batch Average Reward =  77.24\n",
            "   Batch Average Episode Length =  155.288 / 200  ( 0.77644 )\n",
            "   Batch Successful Episode Count =  1000 / 1000  ( 1.0 )\n",
            "\n",
            "4000  episodes completed... out of  5000 ****************************************\n",
            " Cumulative Statistics:\n",
            "   Cumulative Average Reward =  74.55125\n",
            "   Cumulative Average Episode Length =  155.07 / 200  ( 0.77535 )\n",
            "   Cumulative Successful Episode Count =  3990 / 4000  ( 0.9975 )\n",
            "\n",
            " Batch Statistics (episodes  3001  to  4000 ):\n",
            "   Batch Average Reward =  72.633\n",
            "   Batch Average Episode Length =  154.455 / 200  ( 0.772275 )\n",
            "   Batch Successful Episode Count =  1000 / 1000  ( 1.0 )\n",
            "\n",
            "5000  episodes completed... out of  5000 ****************************************\n",
            " Cumulative Statistics:\n",
            "   Cumulative Average Reward =  74.2732\n",
            "   Cumulative Average Episode Length =  155.0148 / 200  ( 0.775074 )\n",
            "   Cumulative Successful Episode Count =  4990 / 5000  ( 0.998 )\n",
            "\n",
            " Batch Statistics (episodes  4001  to  5000 ):\n",
            "   Batch Average Reward =  73.161\n",
            "   Batch Average Episode Length =  154.794 / 200  ( 0.77397 )\n",
            "   Batch Successful Episode Count =  1000 / 1000  ( 1.0 )\n",
            "\n",
            "---------------------------------------------------------------------------------\n",
            "𝐓𝐑𝐀𝐈𝐍𝐈𝐍𝐆 𝐂𝐎𝐌𝐏𝐋𝐄𝐓𝐄\n",
            "ᴛᴅ-ᴄᴏɴᴛʀᴏʟ ᴍᴇᴛʜᴏᴅ:\n",
            "  TREE_BACKUP\n",
            "\n",
            "ᴘᴀʀᴀᴍᴇᴛᴇʀꜱ:\n",
            " Step-size (𝜶) =  0.05\n",
            " Discount Factor (𝜸) =  0.95\n",
            " 𝜀-greedy constant (𝜺) =  0.1\n",
            "\n",
            "ꜱᴜᴍᴍᴀʀʏ ꜱᴛᴀᴛɪꜱᴛɪᴄꜱ:\n",
            " Cumulative Average Episode Length =  155.0148 / 200  ( 0.775074 )\n",
            " Cumulative Average Successful Episode Length:  154.9246492985972 / 200  ( 0.774623246492986 )\n",
            " Cumulative Successful Episode Count =  4990 / 5000  ( 0.998 )\n"
          ],
          "name": "stdout"
        }
      ]
    },
    {
      "cell_type": "markdown",
      "metadata": {
        "id": "lduvUP61eiDX"
      },
      "source": [
        "###Performance Result"
      ]
    },
    {
      "cell_type": "markdown",
      "metadata": {
        "id": "U1G-9T0Hejvs"
      },
      "source": [
        "1000 successful episodes out of 1000 test episodes."
      ]
    },
    {
      "cell_type": "code",
      "metadata": {
        "colab": {
          "base_uri": "https://localhost:8080/",
          "height": 0
        },
        "id": "jdJDix2hFD4T",
        "outputId": "e8ad6cda-854d-42fe-e9f7-2b2820a60a52"
      },
      "source": [
        "MountainCar_TEST(trial_count = 20, episode_count = 50, policy_input = pi_f_TREE_BACKUP_3, display_trial_readout = False, display_episode_readout = False)"
      ],
      "execution_count": 161,
      "outputs": [
        {
          "output_type": "stream",
          "text": [
            "CUMULATIVE RESULTS:\n",
            "Total Number of Successful Episodes =  1000 / 1000\n",
            "Fraction of Successful Episodes =  1.0\n",
            "Average of Average Successful Episode Steps per Trial =  154.985 / 200\n",
            "Average of Average Successful Episode Steps per Trial (Fractional) =  0.7749250000000001\n"
          ],
          "name": "stdout"
        }
      ]
    },
    {
      "cell_type": "markdown",
      "metadata": {
        "id": "X69ElW0we3du"
      },
      "source": [
        "##**TD(4) Tree Backup**"
      ]
    },
    {
      "cell_type": "code",
      "metadata": {
        "id": "oFXe8u77gGJI",
        "colab": {
          "base_uri": "https://localhost:8080/",
          "height": 0
        },
        "outputId": "66446483-701b-4ec3-a4ca-f978a3986087"
      },
      "source": [
        "pi_f_TREE_BACKUP_4, q_f_TREE_BACKUP_4 = TD_CONTROL(env, pi_greedy_i, q_i, method = 'TREE_BACKUP', n = 4,  alpha = 0.07, eps = 0.1, gamma = 0.95, episode_count = 5000)"
      ],
      "execution_count": 157,
      "outputs": [
        {
          "output_type": "stream",
          "text": [
            "1000  episodes completed... out of  5000 ****************************************\n",
            " Cumulative Statistics:\n",
            "   Cumulative Average Reward =  73.611\n",
            "   Cumulative Average Episode Length =  155.956 / 200  ( 0.7797799999999999 )\n",
            "   Cumulative Successful Episode Count =  894 / 1000  ( 0.894 )\n",
            "\n",
            " Batch Statistics (episodes  1  to  1000 ):\n",
            "   Batch Average Reward =  73.611\n",
            "   Batch Average Episode Length =  155.956 / 200  ( 0.7797799999999999 )\n",
            "   Batch Successful Episode Count =  894 / 1000  ( 0.894 )\n",
            "\n",
            "2000  episodes completed... out of  5000 ****************************************\n",
            " Cumulative Statistics:\n",
            "   Cumulative Average Reward =  74.732\n",
            "   Cumulative Average Episode Length =  153.034 / 200  ( 0.7651699999999999 )\n",
            "   Cumulative Successful Episode Count =  1894 / 2000  ( 0.947 )\n",
            "\n",
            " Batch Statistics (episodes  1001  to  2000 ):\n",
            "   Batch Average Reward =  75.853\n",
            "   Batch Average Episode Length =  150.112 / 200  ( 0.75056 )\n",
            "   Batch Successful Episode Count =  1000 / 1000  ( 1.0 )\n",
            "\n",
            "3000  episodes completed... out of  5000 ****************************************\n",
            " Cumulative Statistics:\n",
            "   Cumulative Average Reward =  76.452\n",
            "   Cumulative Average Episode Length =  152.07833333333335 / 200  ( 0.7603916666666667 )\n",
            "   Cumulative Successful Episode Count =  2894 / 3000  ( 0.9646666666666667 )\n",
            "\n",
            " Batch Statistics (episodes  2001  to  3000 ):\n",
            "   Batch Average Reward =  79.892\n",
            "   Batch Average Episode Length =  150.167 / 200  ( 0.750835 )\n",
            "   Batch Successful Episode Count =  1000 / 1000  ( 1.0 )\n",
            "\n",
            "4000  episodes completed... out of  5000 ****************************************\n",
            " Cumulative Statistics:\n",
            "   Cumulative Average Reward =  76.55525\n",
            "   Cumulative Average Episode Length =  151.553 / 200  ( 0.757765 )\n",
            "   Cumulative Successful Episode Count =  3894 / 4000  ( 0.9735 )\n",
            "\n",
            " Batch Statistics (episodes  3001  to  4000 ):\n",
            "   Batch Average Reward =  76.865\n",
            "   Batch Average Episode Length =  149.977 / 200  ( 0.749885 )\n",
            "   Batch Successful Episode Count =  1000 / 1000  ( 1.0 )\n",
            "\n",
            "5000  episodes completed... out of  5000 ****************************************\n",
            " Cumulative Statistics:\n",
            "   Cumulative Average Reward =  76.895\n",
            "   Cumulative Average Episode Length =  151.2648 / 200  ( 0.756324 )\n",
            "   Cumulative Successful Episode Count =  4894 / 5000  ( 0.9788 )\n",
            "\n",
            " Batch Statistics (episodes  4001  to  5000 ):\n",
            "   Batch Average Reward =  78.254\n",
            "   Batch Average Episode Length =  150.112 / 200  ( 0.75056 )\n",
            "   Batch Successful Episode Count =  1000 / 1000  ( 1.0 )\n",
            "\n",
            "---------------------------------------------------------------------------------\n",
            "𝐓𝐑𝐀𝐈𝐍𝐈𝐍𝐆 𝐂𝐎𝐌𝐏𝐋𝐄𝐓𝐄\n",
            "ᴛᴅ-ᴄᴏɴᴛʀᴏʟ ᴍᴇᴛʜᴏᴅ:\n",
            "  TREE_BACKUP\n",
            "\n",
            "ᴘᴀʀᴀᴍᴇᴛᴇʀꜱ:\n",
            " Step-size (𝜶) =  0.07\n",
            " Discount Factor (𝜸) =  0.95\n",
            " 𝜀-greedy constant (𝜺) =  0.1\n",
            "\n",
            "ꜱᴜᴍᴍᴀʀʏ ꜱᴛᴀᴛɪꜱᴛɪᴄꜱ:\n",
            " Cumulative Average Episode Length =  151.2648 / 200  ( 0.756324 )\n",
            " Cumulative Average Successful Episode Length:  150.20923579893747 / 200  ( 0.7510461789946874 )\n",
            " Cumulative Successful Episode Count =  4894 / 5000  ( 0.9788 )\n"
          ],
          "name": "stdout"
        }
      ]
    },
    {
      "cell_type": "markdown",
      "metadata": {
        "id": "VbMnhoDAe5Sy"
      },
      "source": [
        "###Performance Result"
      ]
    },
    {
      "cell_type": "markdown",
      "metadata": {
        "id": "GxWH9vWblRAQ"
      },
      "source": [
        "1000 successful episodes out of 1000 test episodes."
      ]
    },
    {
      "cell_type": "code",
      "metadata": {
        "colab": {
          "base_uri": "https://localhost:8080/",
          "height": 0
        },
        "id": "U71PnbRnFFeC",
        "outputId": "fc0a9011-129a-4b35-ba99-d59120595d65"
      },
      "source": [
        "MountainCar_TEST(trial_count = 20, episode_count = 50, policy_input = pi_f_TREE_BACKUP_4, display_trial_readout = False, display_episode_readout = False)"
      ],
      "execution_count": 158,
      "outputs": [
        {
          "output_type": "stream",
          "text": [
            "CUMULATIVE RESULTS:\n",
            "Total Number of Successful Episodes =  1000 / 1000\n",
            "Fraction of Successful Episodes =  1.0\n",
            "Average of Average Successful Episode Steps per Trial =  150.10399999999998 / 200\n",
            "Average of Average Successful Episode Steps per Trial (Fractional) =  0.75052\n"
          ],
          "name": "stdout"
        }
      ]
    },
    {
      "cell_type": "markdown",
      "metadata": {
        "id": "pHUnWGk8gjmn"
      },
      "source": [
        "##**Summary Table**"
      ]
    },
    {
      "cell_type": "markdown",
      "metadata": {
        "id": "-GxF9vzR4D2i"
      },
      "source": [
        "![TREE BACKUP PICTURE.png](data:image/png;base64,iVBORw0KGgoAAAANSUhEUgAAB/IAAADKCAYAAAC2egjnAAAAAXNSR0IArs4c6QAAAARnQU1BAACxjwv8YQUAAAAJcEhZcwAAHYcAAB2HAY/l8WUAAFyQSURBVHhe7d1bluoqEIDhPS4H5Hgcja9nIA6mD5BbQbgTQqL/t1Y92JpICCkgqP1P+SMIgiAIgiAIgiAIgiAIgiAIgiAIgiAI4hJh+J4gCIIgCIIgCIIgCIIgCIIgCIIgCIIgCOL8MMwDAAAAAAAAAAAAAAAwxrJ2rxfxNRbyAQAAAAAAAAAAAAAYaFm714v4Ggv5AAAAAAAAAAAAAAAMtKzd60V8jYV8AAAAAAAAAAAAAAAGWtbu9SK+xkI+AAAAAAAAAAAAAAADLWv3ehFfYyEfAAAAAAAAAAAAAICBlrV7vYivsZAPAAAAAAAAAAAAAMBAy9q9XsTXWMgHAAAAAAAAAAAAAGCgZe1eL+JrLOQDAAAAAAAAAAAAADDQsnavF/E1FvIBAAAAAJf0fj7WSezj9Zn/2u7z2vb77/H6O27PuIzP+++5nGMVz/f8dwAAAAAALmq9VzEzDwAAAAAAuJTP6++xTmAffweu4+tPCCwT4+P3jWuw2g8L+QAAAACA69vuVUzMAwAAAADAr/v8vR7bwmd2rN9ofye3fzwef8/X+++TsXDe91vzzrFmr/K21tE3SJ3nhzrPz7/Xe/ARs5APAAAAALgZMb82zAMAAAAAwK+zf4o8P55qy/LtH893ZHHb3teRP6u/sD4osB5DSmsdfYOCOhj5AQYW8gEAAAAANyPm1IZ5AAAAAAD4de3fyC9e5H4EFrjP+On7qoVevpFfep57fAgjCwv5AAAAAICbEfNpwzwAAAAAAGDPWbiOLkg7C7zuyunn8/d+PqzFVe/rlLpvy5eyy1u/4FxSR98gVm/qHFvnbmB9sJAPAAAAALgZMZ82zAMAAAAAAPYOXMhfOAus+2/cO+/p289HvJcqk3mF+tvraS8iP57qucgq8vu5vbZ+wbmgjt7i2M1x6YXvp/M320cf68NdHH/8PV+xf00wadk2LLaQrzn14fsghv5Qhz5ut2z6/+snzpne/+ett3W2c/8vf2IhX3+oZNtelXHZVLYtz3aG9YsRYlvNaZvmKc+HWHR548cJAAAAAPg121xzYh4AAAAAALDXYSFfsb9x7742tVCsWIu0egFXLIbvIvzT/Md8879kIV8sAKvXveQHCXbbTou/1vO7CB1by7YphQv5bn3sPsjhD3/zUe9tLeC7IY4pspAfbX+JDwAYsX/94LTNd6Jt+o8TAAAAAPCLxJzRMA8AAAAAANjrs5C/e63cb85CauZi8BqhssQWZLNVLuT7Qmxr/VpANPYfQGjZNi22kK+/aW8vku+qPlUHa7hlc+rZGxkL+W7bSXzQwNt0shfyc6L2AyQAAAAAgG8j5ouGeQAAAAAAwF6vhXx3UVYsZjoLvd7d+BZLxU+Vf+RP2JsILJbmvFdS40K+etPp9R/9C+wT5/ge62sm5qflxfNWuVu2zeKc52Dob5t7asKUb/kJfatkqnrs7a0FcrfuVD1vu9cfINDHlVrId8vuaRfe7RxWWTIW8uXP6Ds/3a/D+6sTAAAAAICfI+aKhnkAAAAAAMBer4V8vRYqXisWVO2fPXcWSRfuYqmnXDX7KV/U1hoW8gOvtcoeeI1Vf6LgLdvmyV3I1x8iSP2/e0fkfITaS5BnX9EPCixy2kTJQr7vHLjtoPgcAAAAAAC+kZgrGuYBAAAAAAB791jI936jObbYusjZT1L9Qn6oiuy6yQjxntXbugvQMqxjyl/In8K/6K5/NeH5eITfU8VWP04d5yx8uwvyz4z2oLnb+d6qYCHf36acOoxeVwAAAACAX7HOE2fmAQAAAAAAe70W8p39spAvuHWTEet7Nmzr1IUdcjHePs+7Ovu892WwDjS/jNtmZR8SMaLHE6p7xdnO+7rmhfxw+wcAAAAA/K5tnjgxDwAAAAAA2CtYpC5abA1/I5mF/PLFeP1/8Ju3jS18W8eUWMg3wue35BcDtvppX8h/vp19hBbPd9vNf5eOXsiPXlcAAAAAgF+xzhNn5gEAAAAAAHt9FvLtxXp7sXPkQn7O+vBe54X8okXeMxaIcxbynXKsi+aexXS5efB8HLGQr/9ktzvvflrbVs727vGwkA8AAAAAUNZ54sw8AAAAAABgr8NCvrPQuVsIzVnsbl1sXWQtrKccvZCvXyb2V/iz6y3b5slZyA8tVCe29Sy+T0IfDIjw7svdj+ccuO1z/wJnH/GFfG97cNpB1gcTAAAAAABfT8wVDfMAAAAAAIC9AxfyP5+/9+tpL3J6XxdazBWc19Qu5Gd9+z/p+IX83ULvQ39z3d7rR/8v+udD1UP8gxBF22ZJLcar+nB/Pn890NACv9rs7SyAq5D1s/s2vdp2+zb/R22v2tZDHE+oHbkL7bsPBThl1HW0vJGuN+eDAMmFfB3mHISfD7YDAAAAAMBPEXNFwzwAAAAAAGCvYSE/J7z7SywUa10W8jO+5e3VYSHf3Wc03GNr2TZH6Xm236Puf+Rree8bWrCX+0r9xH5JGbMW8mMRvaYAAAAAAL9EzBcN8wAAAAAAgL1+C/mP5zuwL+c9nUVW45CF/JJjiynYT/ZCvqbqM2tB3ndsLdumlJxnz/6jC936VwK2x7v6SS6Si/eLLOTvztnu+fgxPl7ym/nOMbpt82Efkx3im/oAAAAAgJ8n5oyGeQAAAAAAwF7ZQr67OGrH4+/xeP49X6EF/E3ym/Ife6H16VsNtX6qPbDYLfbh/TBAlpKFfKdM0YX8if7J+adnMVgvEJu6jBS7ZduwvPOsf44+uPv5p/3ldnobfRrlt+G9H3RQhX6bfwuwvW55T+tfCOzayPz3RerDIL4yPpef85fn3FmM9+13ty9VXlUg5x0BAAAAAD9umzdOzAMAAAAAAC4j42fxm53xHvg9qQ8IAAAAAAAQsN2nmJgHAAAAAABcx1Hflg+z/g969c/qAw4W8gEAAAAAldb7FDPzAAAAAACAK7F+Xv/whfb+HxTAj2IhHwAAAABQaZlLqjDMAwAAAAAALsVaED34p++tn9X3/A9+oBYL+QAAAACAStu9iol5AAAAAADA1byf27fyj1wQld/2Z6EVx7J/7eH5pn0BAAAAAPIsc0kVhnkAAAAAAAAAAAAAAADGWNbu9SK+xkI+AAAAAAAAAAAAAAADLWv3ehFfYyEfAAAAAAAAAAAAAICBlrV7vYivyT8QBEEQBEEQBEEQBEEQBEEQBEEQBEEQBDEuDN8TBEEQBEEQBEEQBEEQBEEQBEEQBEEQBEGcH4bvCYIgCIIgCIIgCIIgCIIgCIIgCIIgCIIgzg/DPAAAAAAAAAAAAAAAAGMsa/d6EV9jIR8AAAAAAAAAAAAAgIGWtXu9iK+xkA8AAAAAAAAAAAAAwEDL2r1exNdYyAcAAAAAAAAAAAAAYKBl7V4v4mss5AMAAAAAAAAAAAAAMNCydq8X8TUW8gEAAAAAAAAAAAAAGGhZu9eL+BoL+QAAAAAAAAAAAAAADLSs3etFfI2FfAAAAAAAAAAAAAAABlrW7vUivsZCPgAAAAAAAABc1Pv52G7qPt/zXwEAAMZgbNLPWq8z8wBArfffc7uo/p7vz/z36/i8n2v5/v17qhIDuLSPyiuP5Zp9/L2OTCs99/1NblZP5HkAAGD7/L1fz7/HOj5Q8ThojPB5if2qcdLVBx6M61DknHs88sb3I6tR2uXK2+aaPi9x0//xUtkKY53T5q+vY7+JThjr/BzGdF398tikRa9xzbrPmXkAoJLVsV8zYVnJ5AadHPDr7GtWxYGfaOy5729yt3oizwMAAOn9FOMYEYcMaaybkgftsyPGdShyxj0ed4Eo4y2+ql1YOYQ2PtwN7mueoWu/iS4Y6/wexnQd/frYpEWncc22z4l5AJzvo9q4k3xVPJ55n1rxbTvkk7ws5AMnE5/2swZsob/7fP5e6yc4C+KkHNNzYHq3QW/RufrheiLPA/h1+7kBufBa5m9MuX364/H3VPO/n/3yXy/OHFXGIUOa6pvbjOtyjBnXud+ounYddXXCPR7rHGfNMZ1rZ7eNzrGvv6fKqe61/3g8/14ZSfbznraX25ocrdpCauvybZ3jueQ1qcroLhLGvulrtZubfYv7Bvc1uzuk32Ssc6rLjXUKxjgyRqxlHIIxXY473as7fmwifN6qT5V1kddPnjs22VxlXCPe3zAPgPPZE0UZyUFjsLM+drD8dhKYd983GPDeqdMAksQ1Z11vob97hfNPPE6akFt55eBrtue+uyg4V0dOgG5WT+R5AL8t0Fdc/MbOz3g7P3nqjZstelyce5Nz/Znkz+eYsVL1Qj7juhxjxnXOufnS/HmNezx2XWftP1Ym57lQPILnNGcxJtQO67e12/kV+4DCsYWVF2/Wp3Vv89fX3G8y1jnd9cY6BWMcK8a0i6z+MIoxXY4xY7oaB49NhI/77y9MpNr9mLFJy7Y9xjXifQ3zADhfJOEnEnzop3OO7vzs9wns+wYD3vt0GkAGMZi2BtKhv3vldMyeOHLwiUwFk4P0if9a5HkAP8250bbFmBtjEDIXmDhXx+pxI8lSfHN7wbgux5hxnXNuvrT+L3GPx7p+8s5v9JoO9oH78J3W8P01N/b11bKtW8/Xa3KhfBU4Z9Z56JB3e7rBfc3emvpNxjpDXG+sc6/7jFn9YRRjuhxjxnQVjh6baB/VRoLXRLzNjRqbXG1cI97TMA+A89kJ/2H9XEUsYcS2iyeBUlmd2g0GvLfpNIAMW3u223Lo7/mcQTeL9hfhTA5+eAIQQ54H8Lvs/vvxtD/xT7cxlnszRP9ct+yiPuvPLB47j/t1yRtrrYpvbi8Y1+UYM677jXNzhXs85denM091z40p7/xzr6KoH98CvzvHdRcg9U/HLy/Q+dm5AW/VRcu2hnNv73ITGFk+/dPo23nzlpWF/Ftr6TcZ64xx3bGOdN37jFn9YRRjuhxjxnTlDh+bKLKN6bxo/7uayHuMGptccFwj3s8wD4DzuY37ldcBOIPjV2ai0QOn3P9t4Q7C9iESr3fA+1H7sP83mf7f/+vFHzIP7qykobdViSP9P8087zknnLt0GkCYM0DIieIBcsEA+y2ue5Or5v+FZv1t9ln+T5qTf9S1GMwLVl5R16xMbDqXLc+pMpqn5twh9z9k3zNvvt1FOF/b7L4ie3LgHIsprj4XgTy5E6sn46PeQp/XbV/L/qL5eq5PWYas7Yz2PF/SF24qj7Un5/zWttU78P5vLn1sa9t1rhEdsfz1ZZYbY7v/RTmHzr3f0A7SnH5oOX517O6h2/liiRuPD918LfODjkC/YY339fU0/91mjw18/zO6OK/2HkPMWvriur7Cxx2/herZwzmP3tPoLpp4C+frw3TOCPVhpa+vra/SvjXv9cl57Domaqxf67kTFvJleRnXrY67VrXKc6MUl8M5n+ad5rqU+zgyzw27x7OTvvG945Sn4NTsj9sZIybbmvPecvuWbRd2X7x/fiz7mni+5PFM7cri5sz5z4Zs8yq85zCWc51rxjy1u2ZU+1Q73jZzxhcq8nLk3OZLcqxQnA9KxkU55nqR5dYRysvZ/WYQY51w/fzqWEcquM8o9Kzvov4wyq5fxnT+8t/jXl2fsYlpa+I82m1P/X36886osckVxzXrvmbmAXA+O+HrgWLOBW29RmUJ+yLzbTMl0+01vrAvTrscvhCvdy5i91tAdniSgJFTRhU6+c1b2JzO0wo9GEskIuDyYm08FOFBgV/BAFsO6NXr7E8VTn8z27qdfCB2A57YhMHapx6cFeacnvtW7Jwci9xc5Jx73+jQxzmWd+JYis6B21Z24Tu20Xm+vC+c1BzrCQ5oq5dnJnL2sZhvd8iJrzp2+e2gJXIvk3vztU11rs1sWU3Cnee+uk7U9RD+yToV1sEHrukbV5DV78z9b86cwu2vvFVg5ZppvrKpzKuyf+kxhlDq++LaviLEbW8F2zrH7z0/Vl/t2/c+j9rhblP6+rP61vzXJ+exgfZVXL/RcVKMM57J3dAqL+O6vPf3bRdTc24qy+GczzPmHOff4wmx69nuV/zsYw21Kb9dPS05wHDavvXcwr0+lvdv2XbTcmz92edKXxKyHe3OnZVnnGNpzbnuNRNr/2bRRJU9mNc8bbawzfvTQ2U+kMet2lFwXJRUl5ez+80gt50X5ITWdmHEzrUOd5vS19f2N269uLF/n9zXX3+sI+XkSql/fRf1h1F2jmRM54u73Kuzj6HX2MRue6Ftcq4Z99iXfY3adnP0uGbb18Q8AM7nSRKpTtZ6fkpIqQsk3UEtsW1b1Kk5ZU6Gp2PLL6OKXSJxk0gqShI5cBWl7VxFcoDsyum0Z87AcRfLtqnXreHkrtjAtDXn9Nx30fa5A5ojJgc5kX8OdjfEPLGvdv/rvNEhz9f0hVrNsZ7igL732vaTQTmZip6X2x1rHV8dWIduXcO5+eam1LHqGwTmm4HyW02+43dym4ni/vJK7Py4Xiexvm7h5hHPi+x2ZufW2rzqPQcyWscQDX1x9TFF7PeZ+mbJzDkO7zm06sjt+3L6TrlN6evr66u0by15fbJMS/tqrd+ca8yLcZ16x2Hjurjyc1NdjtLz6ZalIs+lyyrqubV8MTnXnsVpLyXvpeyO29o+75zb+1jOZcu2QjSPj2YfozlE6/w5x2MdS7zNe6srVhelbTIVbl4q3v/+XFbnAyc/7yJznJr//irEPpPbZbz/fh+MdX57rCM5dZ5oT2fUd/o93HYWwphud36Tsa/bs66xqJxrxVI3NrGP1Tmvq1Fjk2uOa7Z9TcwD4Hz2BTLdeIsnAitJzcnTTlzOBeQkIvtnptTT6uKKJaqsBOPrgMwnYOendzdU42U0F7n4+ZOPet5KJCqscjodmNn/srn3U7jtSQQYR+QN+0II/L1EwQB7d92pWPPLR/8q1MRc3/PiyvpHTX/iUm7vXJeRgWlzzum4713OXOvBl+9z2dsGwz3viWNxy6TDKlewnux24v584fKzVvF6PTnPO++f3xdWHOtZGtvqtTm5SIebj3ZtIvC6r+WpI8Y3KzsX23Wzf+5O14aHlQtkG3ByvPfacNuRWxfO83If1XlV8V2/6/btY4jqvrjlmGJ8+XqO6M9SO9t538+qSycHuPWszt/2XqoOzc/2im1KX19dX6V9a+nrJ9E5snZw/Xq392Jct2tr7nUqyjOFU/fVbS/FqcPUhi3lSJzPnnOO3bbz3y2N5YsKtsUApyz551PxHEf0PAR27u1zWraVSuvjVHZ7WsomjymcZ5w2kXMere3j170J0U/5F3T0N1mXF7g5Mmf/4WtLh3XszvZF+cBpAybW7cW4KGZXfnV8a+HV0+p5t/zuOUj2mzG++puDsY673S+MdST72HSdy7ewnFbfk6z+MGqfF7zhvrHvemFMZ6L3OQ8K1mmAU+7c96kagwV2fvjYpGVbqbQuE8S+DPMAOJ+dmJekHO6InSSVfL3zXKCztC5A5+qqSjCe97HLaF/ksedWkWRib+9LEM6gIfQewB2IayE0cbT+XsS5VmIDbHewFnttiHNdW9durONvzDn99m3Xn5uLrO32iSoic3LgljXjWHbnUZYrWE9OO1FP7PbrGJ3nre0DbdXfF5Yf62lar4Mrc9ulCvecu21iihsd4wHsMdrvHX/Mvn3MdeNeN19QZ7H8lpxkK9E84dSXHF/E3ncRnGO413hg+yinbNvu6/vipmNK2bU9O/RN7t37BY9RsOrSPn/2+Q/M44TS19fXV2nfWtcX223bczyN9Ws/F9jei3Gdvb2v7pwyOe/R71p1zk1iu6ZyZJzPcD3X5zkt61pvKl9c6Xb269O5SbKPVcW+soLtVPKWuWVbydlPYDeD2NfEWjarzOKcWHnGOVc5xxnLuW5979qkmzcS10bx/pVIjrX2XZoP3P0Gto9JtjPNPUangux9lF1rhrt/JxjrxJT3xVrynDXWr/1cYPsk59gi7fu8+p6Utoc9xnT29r424pTJeY+zz3lIVj0I9uvz205Wm4vUt+Qt86htJWc/gd1k295rYh4A57MT/npzLNTgrb9vF0osedgJIiOcpFmTYLyLiMGBQW6HHnqd2yH4y5hMMsBdiGvJ6gxDfy+Sez0qwYGjn/7WxlP/7LHYxo3Q8eyea8o5Srd92/Xn1omVh1IVZsmcHOzfMH0s7r7lOY/U075vWb4xOb/AMj7Pt/SFZcd6otbr4LLc861jf87t8z1F0WX1DZw2YCKWt3+Jk7+W9u9ez/68eCf29bI7HqcevMcbySW98qpbrtS1WzaGsOtk3zWG++KmY8qif0lgn7u2cHKdc2689RTM804uTVVy8evb6qu0by19vWa3X8/Yoal+lcJ2vGFcZ/395HFdnFN/iZPaVI6c85l5fe+bSjjPaXa5/fXfVr642LndK89NC/t9dKTzQGj/3jK3bCtlXduj2NeEPETZjta/W23iyD5Nyagnq237rvtIHsw7D+Ec25QPYuXK0pqXJ3ZbDeSGJMY64TbxS2MdKbd9nlvfmr1NTZtnTGf9PVCHsX7w7HMekuyrLeW5ZJHV5pz2UTS+GLWtlNW+823vNTEPgPPZSXlr2P6EYF0oInHZF5BMAm5CzQgnadckGO8FesDAyypLqNNwyr9IJhng4uw2nBM17TzvejKyB/T5ecjaR2z/TTlH6bhvO0+pnLk8l/Ezl2HOAD6SJy1Zgyf3/Ig8Hz3Hqkyh86qO236r0Xk+vw2uYb1HybGeqPU6uCrnuEx4zrk9PlGRe118m4/+CUg1YZV1IeNX68XJXzoeT/tn+b6ibpLXuNN/ePNnKMfGcm9jXo32L1L++8h91PXFrX1Fie3nHnf7lAfi5ENvPQXbQOnYofT1rfVV2reWvl5XX2iOPGuqXyW7HbtK63rGuG7W81otOTeN5Wgcx7XMOewxlOfa0BrLF1N0b6byOtvPnQPv4xxn6JzbdTbvq2VbKevaHsVuT9YhynIvbds6X07bco7TW12xNpVRT/6cI8TaU9Z5COXYxnxQ2c43zvtHdhCro2S/WYSxjnm/0PZfP9aRnHr0XZvG2fWtD0++rqbNl7apWVO+UaLnpaQeWnNH3rntN6YrP+chZ4xNtKw257SP0Hmx9zWXedS2Ulb7zre918Q8AM5nJ3zZsPcJJPe1MgmUJ0T9P0WkmgTjvUCDA4PRnQZwD/a1mBeRyykg73oyMgcuJeW29hHbf1POUXru2x34eKM0B504OZDnPHmOl/8hJ7YXsb1+dJ53ts8Ity/MP9YTtbbVq3LanY79sTnXhPc13y94c0zEkLZ5BZ52ZEfNjZrrKR8b+POAN39Gc0xjXk32L5PqMURVX3xEX1HOrnsdom06x+F9u2CeLx07lL5+RN9a9vrwHHnWVL9KZjveY1wXLKPQd1wXUnJuGsuRcz5j7a8qz03s3NrjHk9c+NzuZZXVsc+rsffIO+f+crRsK2Rd26PYx+geojw285zVJpxjdY7TW10Fbd5XT1Zd+3JLLA9mnYdQ/mrMB7FyZXHeP7KDWB0l+81K+2tS7LupXZT2p6WvP6K/+dWxjhS6blzn13cyPyeVtqlZU75Rkufll8Z0pdeYX7iMey3tJm/blvHFqG2FrPadb3uviXkAnM++QKyG7Tb6Z7hjDXfceQk1JivB5FygwYFBbhlDr2vtNIB7sNtwTtS084KckTWgdwYBOofIHcYmFbH9N+Ucpee+d8e8j/JBTN5gaifnWNx9y3OedY4nH/1hs4fTRgvzdPh1rXm+oF1niB/riZrb6jX5cp3b9nJe892cNj3H9DNyNzjJZ3CuDzvucS2kpfsbX3hzhSefxMfOjXk1q39xj69gDFHVFx/bV5Sw51uirpvyvFMHySRZ+vqxfWvO6+02XHmTKdaPFoyTbKV1Pcspr7tvWScF5f2lcZ2t5Nw0lqO1/bll9YS/jejdytf1uMcTF+9fpIprxWnn6XLlnMeWtpzxGqeu83PJGexzsCubLLs+Nqv+nbbV2qYytrfatq+unfZhHU9O+dw2WdQWImLlypL7/vHXJfvNBox11N5+aqwjHdM+S+XUX1Z/GFXapmZN+UYpOC+/NKYrvcakrmMTIa/N5dRLyznpsa3gtO+6vLFZ32tmHgDnsy9+O3E7F4YM5wqIddytnVLW9o0Dg+CAToq8R3p7ty5jCRm4MtmW5fUo/u7taHNldMiLrIFjLMcpsc49tv/GnNNv33b9PdQA0trXQ52zqkW2yoGicyze8+nUhbXvWD0FhPqj0Xk+qy8rlJw099Z6HVyUXa9TxK5R72u+nK+OSieQXy/QTnR4r5U7cvN3dvjylZNDn6/keKApr2b1L7VjiPq+uEdfkSP4vm473lVUrO9zn0sdT+nr+9RXad8ae31yX031q1SMkyaM69Lbx+u+37Vadm6ayhGpn5V1zsLXd+mcI6vcTeVLyG2LpftXr7eukcwyJdtjJFe0bLvKrY8h7GvCX/zleXX8b3m8TttK1kUi52a0Set8ZORIqwhu+QpzbNZ1FXJAG0i2RS1Rh6V9cIlg/TS1C/e5VJlLX994XgN+Y6wjOe/hu7ZmZ9d3+/sxpktvH29jV7jGjNw6tV4XqK+I3ONN1mvk2h617eqQvLER+zLMA+B88RtUduLZwr0AognKTfyeSZ3+xNLrqSd/+wvUvoD1e88vUPtYXxpJ6KtYovOWcX5O+ViTAR0F25tPY4nnTHgSEXALYgBkDfRELmnqIfMH2O51539bZ1Ar9re/rp19xPZ/cM45bt/yeI/MM0495p5jd4Clw8qPtedgaif7b/+qv4cGpc6+Ts/z3u3lC9RuvH1hxbGepfU6uCjf2Mdte+7z9mu+nzs2Cx3/9NP7qk3f4cQfzZf/dMT6tZux20E8B+3H8/MTQmjeoSOdX1Rk51XF2dZ//daOIRr64pZjCprKo/uRl+q47N3pn4J06t2qDKcO9HsunZ8uR6Lv251TVYdb37v879ptm9LX19dXad9a1xdH58hGW/3mtWMf531zN2Rct6lueymF56alHE3jOFnOkuObnHKPJ8bZd6iarXKm+u9d+y8oz+48ity3ywXOflu2ndm5qvx89mVfE95zJeve+lCJyBmGc33pY13bXkbOzWiTyTbjnC/reHZtSEVDji3KB7Fy5fK+//yckszLSrrfDJnOLWMdWbbSvrWiL1auO9aRpmNb9+O7Nhen1fckqz+Mcuo3t4IOzjfbcxX14K3z+TnlZ+7VOXUeOpVFYxMPu81FyrarF32c83O7azdVpydtOzt6XLPta2IeAOezE/5uIOpL7J6LPN5xT4nN3kcoPBeXewH7XuuUs3ySV1JG3/7dgUkq2pMIMIZo6/YoLvD3Us61WDDAzhrkJMI+pMj+W3NOt30ncpm+saHi+Xo7k9uUghwnz5m3D4mEe76D9ZRZHrtiB+f52r6w5lhP0tz3XpTT7kyoyZmevO0ngVs81HVl/jeavs7U+bjDodba3YDSISZYerJt11Xm5PWb+NrRXa6BLE5uSuUgtz58rw/2GaF6q82rSrB/sdWNIVr64oZjCinqi/f7LKmD/fZ5fdhWd6WvP6tvLX39JH1zu7F+M9vxXubx6GBcN4fbtjtcq0Zmuda6bShH0zgu8b6pOYfbJ6wh3qPrONOuZ+++s16zKbuW3f0VnMfdhd6y7SQnV41jn4dQnvPX//5YmnJuRpu09u/mQC2Wt1tzbElbcI8tVq5sJe/vr7/qtlhUd/tc0dQunDYaiq1OS19fe17z3ud7xzqSU4e+a3N1Vn3PcvrDqMz31SGPuzXfBM9LTT205o6COjDh1u3J5zzI3p9/3JHzGlvJ9Wfvr6Bedsc4atvJ0eMa8Z6GeQCcL5UAPBeP5yJJXyDqfbIuQl9HFUqM4rWHTPLyyqhvzntFO0E1idU3tcVjXxGByxPt3LrOQn8v5uSc2AA7d0CfuDblc9Y+YvtvzTk99x09XhkleSiUhz0RmRyYBU7x2A7Vd7jlCdZTxsBOf4p2fvVmdJ6v6Qtrj/UErW31slJ1ro8j/ppvX8jPb8v6uvdc27/AyV+mLu5xAeSJ9WNebj8SyNHWa+aI3myryatKbvkTeV8+Z+2jqS+uPKagQL3uIrS/+Pb6Q0xbPvTsI1kXzjalr6+qr9K+ta4vzruJ1FC/xdfhIrdNqGBctz7ete3M9/dvG5J7bmR9VJbDPZ++QlrnLL59OAJ1l3pta/minDbnayOF+y5bqFLhvmdOfYb6w5Zt3bqI9rkj2G0lmOe8dRDIG7vXbRHNuRlt8riF/Offy3mtHZ4ca1Tmg1i5iuS9fygv1y++xM/rFqFruaFdaMlrMN6W9uG+R815/fWxjlSa586o70Wobtw2EBKvWyvkcbv5jDHdiec8xNmf71ites9rI0XjE/c9k7lKReh6GrWtW4/J6z1NvK9hHgDnsxP++hMugv5Zn+X5KfnNTwj2a8JJavqG1r5ziH5aW5t/wsTaRn87bn5aP586jj/13tv7hpPdUsZlX8vrp59KmV8UEijntJ0cmHg6QeAORGdqXWciB4TGVXkKOlz3mo69r+/a1AMqtXM5qLHKbg0cnP235pxu+84YSMrIHtAU7Ffu0xl8mZsdu3Oh82tg0TNRT+anrZxy6fNqfk5vfpnP6Dxf3Bc2HGtXTW314jznWZffnJ/5JW77zm5DX0P/TOX0CwR2PakwbfmX6sLDublxxATyStwb1bEuePF2cr8vH9g3A6fX5YwrivOqm5ti7+HL+9ExxDF9cfW8ycccg/96zepLfHWw5jt5vIG+TxVWn/9dzjT16Nmg9PVK97619PWK1Z5j10lt/cbGSVGM61bRulfPhepeOPRatd4zEp68UXMNDJ1zBOp+e4u+48zU4lNyQdax77/i4f1ggnqXaWzlvHa+DuJqt7Xr2V+ukeQ1Ec9zH3384ljML2rNz1mi130s56bbpPUT7r5247ZZJw+u+1fbmqf036z8FsmxQnE+iJWrQm1ezu43fcx5ZaxjmY/pN8c6ktNnZeR0rXt9LwJ1k1PG3bHFQh43Yzqv0855wNFjE83aJhHXGZto1xnXiPc3zAMAAIBa9qBPDabd8YoaddqD/P3A8FC+yQEA/AB3wpyzGI3vcLm+GDgK4zrMviLPRb/VdvXF7QNF6wEA8JUY010TY5N2HcY12/4m5gEAAEAte+HouRuw7P7Hd+YnOKsxOQDwi5zcp4OF/N9xub4YOArjOsy+I89Fboj/0OK2dS7pjwDgNzCmuyjGJq16jGu2ep+YBwAAALXsb8eko/tgnckBgB9kL3DoYKL9Sy7XFwNHYVyH2bfkOes4xM3e31ncjiwYAAC+F2O6y2Js0qLPuGat95l5AAAAUC///2Pp/3XVHZMDAD/HnjxOwU+n/5aL9cXAURjXYfUlec5q08uH7uT/0f339/zmdm59u4+xCgD8DMZ01/XrY5MWncY12z4n5gEAAECrz/v193w8rIG5Cf235+vvfdqYz17Qep73xgAwhjV5nINPzP+k6/TFwFEY18H2DXnu/dy++fZrCxnyW38s4gDAL2FMd2W/PDZp0Wtcs+xThWEeAAAAAABuyvl2gwm+dQ0AAAAAAHAr4t6OYR4AAAAAAAAAAAAAAIAxlrV7vYivsZAPAAAAAAAAAAAAAMBAy9q9XsTX5B8IgiAIgiAIgiAIgiAIgiAIgiAIgiAIghgXhu8JgiAIgiAIgiAIgiAIgiAIgiAIgiAIgiDOD8P3BEEQBEEQBEEQBEEQBEEQBEEQBEEQBEEQ54dhHgAA0NN///23BgDcISfcoYyjUDdh1E0YdQMAAHphnAEAAL7FsnavF/E1FvIBAN0xqQYg3SEn3KGMo1A3YdRNGHUDAAB6YZwBAAC+xbJ2rxfxNRbyAQDdMakGIN0hJ9yhjKNQN2HUTRh1AwAAemGcAQAAvsWydq8X8TUW8gEA3TGpBiDdISfcoYyjUDdh1E0YdQMAAHphnAEAAL7FsnavF/E1FvIBAN0xqQYg3SEn3KGMo1A3YdRNGHUDAAB6YZwBAAC+xbJ2rxfxNRbyAQDdMakGIN0hJ9yhjKNQN2HUTRh1AwAAemGcAQAAvsWydq8X8TUW8gEA3TGpBiDdISfcoYyjUDdh1E0YdQMAAHphnAEAAL7FsnavF/E1FvIBAN0xqQYg3SEn3KGMo1A3YdRNGHUDAAB6YZwBAAC+xbJ2rxfxNRbyAQDdMakGIN0hJ9yhjKNQN2HUTRh1AwAAemGcAQAAvsWydq8X8TUW8jH5vP4epj08/97zn5ot+3y8/j7zn/AtPn+vx5Q/Hi/OLtKYVAOQ7pAT7lDGUaibMOomjLoBAAC9MM4AAADfYlm7V2GYB8Dn9ZgaxvOwZXxlW+w9dLe4ABbyUYZJNQDpDjnhDmUchboJo27CqBsAANAL4wwAAPAtlrV7FYZ5gPO9n+uJyA/xzfbP++l/jYnH3+Px/Hu9P5nfhH//PeftQmuyn/fr7/VU+3Xf5/mOv8dSzsJv5bfWz51Fz+1jrvPhB8pCPsowqb629cNcsUjkWN1PPFWOktssfVHKqG0xzlE5oXp8kqGljL3aZe1+l+2OqqeWuknpfU3rcdZSDz0+aNpSN32O/fP3fqljnsdtcr+x3R7RL7ha6gbAdZTk0dpckrWdiPJ8XpcbAVwX4wwAUs28r2U+NmpbAN9J5APDPMD5mhfysye2D9VZJZJ+dLH9vS7YhiM22U1/SMDnpxfys85tWX0ej4V8lGFSfW1ZOTeSY9/PRN6KzJpGbYux2nNC6/gkrbaMvdpl3X63/joc5f9WqbZuUrpe0x81JnXqokeKqK2bLse+/uusOR4PZ9FKzxPm1zpa+wWf2roBcBEVebQ2l3RdyG/IjQCui3EGAKNy3tcyHxu1LYDvJfKAYR7gIsSEMpWj14mtb9L7+ZhOQE5Ow4v5qQVZvRCvv7H1+ntbXwOf3mPZf3yBJ7b/AgX1c2fRcys+TVh68/RYLOSjDJPqa2vJ0/JG6+Mlv91r9xO+fY/aFuO154T28UlKTRl7tcv6/WbWU+HAqqZuUnpe0x/9rct5exk9xpM1ddPn2PW5n49VXQf2VEB+wMP/4dDDxu9CTd0AuIbaPNojlyy23FnygbS23AjguhhnAKgdr7TMx0ZtC+C7Lde/CsM8wEUctJC/0p9Am/cXnogur6mZqOZNdLPKmoOFfGPr5EfeXGAhH2WYVF9b/U3WrZ/xbyv7Cfcm66htcQV9c0Le+CSlvIy92mWv/dZfJ+V1k9LvmrZujqgB5KfzeLK8bvoce3q8GH9fFvIBLFryaL+F/C2HlXwYrTU3ArguxhnAb6sfr7TMx0ZtC+DbTde+CcM8wEUcvZCviX16J7jLz+pXdgjpibCylqFx4bmgfu4seW4vUQ/bYIIbHMjBpPraam+ybn1ApA9Z+xm7Dxi1La6hd07IGp8klJaxV7vs2d5r66m0blJ6H+P0iwTrH7qOo0rrptexL3k9/jOO82s8Y04W8gEsWvJot4X8yj6hNTcCuC7GGcBvqx2vtMzHRm0L4PtN174JwzzARRRMiNdknzG5XCeinqRfsh+frdOJdSjbJ8xSxxWVXT/bIrN5nfO/cXw3ET7vl3rNcizz6x7Pv5f9W3s7tdvFJM9Jsh4+f+/Xvlzmf/+pDRJHNP18v6gvvd3+XzPEFvLlz/+owcj6dMbi/zpAcQcxy7ZLO9PHaP9cUmu9oy8m1ddWe5M170an/1PGo7bFNfTOCXnjk7jSMvZqlz3b+1ZPkZsHHqV1k3LqNV0w3q5RWjd9jn0bc8UWq2LnfynXkfmztG4AXFRBHu2RS3Jz3F57bgRwXYwzAFgyxyst87FR2wL4fiY/TGGYB7iIgglxcrFXWhdH3f3WToA3a6cTneRu79PU6WTXz/Z+z9e2zRrWxqIOTDz+Hu7CvLfMtdulpc5t/MbC1sFPMZXLqoNH6Fypba1jciJQb+5xbm1CfwBg/qOR0Q5yFvLf8XI2tTF0w6T62pbrtuz6EXkwmpR9E49R2+IqeueEvPFJXFkZe7XLnu192ya+772yukk5+Zq+1EL+4HYT+YZHXb8QV1Y3AC5r9EJ+8P5GSntuBHBdjDMAWLLGKy3zsVHbAvgFJj9MYZgHuIheC/liv3bS3zqNus5g60zinY6eC+e9Liq7fkRnaEJ+o/zz9xGHut3o30/S9TfTl32471e7XY7ouQ2ey4U+J+p4X55v3ie2lcdkfQN//UUDeaz+trN9E99dxNcy2ttad6GF/CWcY9RlFM+Fdo9xmFRfm7z+zYd/lnhOv3Thv6RyJxTi+l0Tw6htcRV9c4LoExrOfVkZe7XLTvtV/eb6+ooPO5TVTcrJ13TBeLtGWd30O/Ytr0fOb2Sxqq5fiCurGwCXVZBHj88lIh/m3AtxtOZGANfFOAOAJWu80jIfG7UtgF9grvspDPMAF1EwIS5ayA92Dtvfa/oCOSlPTXDX11ZMtlfZ9SM6udhr1/2Fy7+WW+6kdrtM2zfu1fmSNzvmv5m/pyo8IFiuZN3qOpXHu9XxUpat3KF62W+zk7WQH9i/OIba+kE/TKqvbcvnoXA+4GMw4UG9njlha8/hfjpHWRl7tctj9qv7aO94Qv4PwQJldZNy8jWdPZ6sU1Y3HY9dfLBUb7Pbu/Wvp/bXSl2/EFdWNwAuqyCPHp5LWnN4Y24EcF2MMwBYssYMLfOxUdsC+AXmup/CMA9wEQWT0kMW8lsmwWICHO9wJmXlDcgu79bJxcqWVSbPwnLtdrnW/Sci/f/u90Jl394zt7x2HW/bx252ZJyXYL3lnFMGN1fGpPr6PvLnSgx1batrcsm7OuxLiwkP6nXLCYXjk5iyMvZql8fsN7aQUjOeKKublJOv6dZFoISyuul77NsvJc3vMX+YQ/5tCv/4rbxfiCurGwCXVZhHj8wlW39WPs9etOZGANfEOAOAJWu80jIfG7UtgF9grvspDPMAF1EwIc5aTF6I/VqdQ+2NTLFd7sJ8UXlDssu7dXKxzlDe1F4m77uYn5c3Cuq20z9h63mdDnUwspTRuvp8/t7rormKYEXomyOvv+fzab/Xsp2z7/WYss+PGEiIaD4vTQv5NceBszCpvrNtgmHnHCY8qNclJ1SMT2LKytirXXbarx5PPMW4oHBBpKxuUk6+pmvHv5nK6qb/sZvxoBoDmm2XUI/NvyhSz011UbpYtZW7pDxldQPgsg7Lo4W5RLxvPGem9cmNAEZinAHAkjVeaZmPjdoWwC8w1/0UhnmAiyiYEBctjItvp1n7rZmAi21KbpJffSE/Garcy1vWbSduUrjh1ElOXa2vUeHWhfvtBm84+16PKb8hiDp+bccWKXPWeWlcyD+knaELJtX3tuU9eW3mTih81++obXEVh+eEyvFJTFkZe7XLzu1djBHj+7eV1U1K52N01Yx/C5TVzcnH7gqOu9L8/UJcWd0AuKwD82hJLtnmwOU5q0hDbgQwDuMMAJas8UrLfGzUtgB+gckPUxjmAS6iYEJcsmAZnhznfvprpv9f3Pz60pvkaxlabq5n109eJ1dbpkOOJSLr3Iq6sI5R3JDX//fW/RXD0L7Lj8mpY1Ge8AAk47w0LuT3Pjeox6T63kI3TvOuua3vkOlh1La4hkNzQsP4JKa0jL3aZd/2vvWvJXVXWjcpp17TBePtGqV1MzKfre9dsdOaBbXSugFwUQfm0fxcIvr6HslbaMmNAMZhnAHAkjleaZmPjdoWwPcz+WEKwzzARRRMiLMWe7XoAuvWGcQWRydi4vzIv2G3OGQynF0/eYu+NTcgtdrtcuWdW/+5Sw0CQvsuPyZPHcsPEXjrvfdCvliMYHRzOUyq7y2UW7Jyx3pd2z9POmpbXMNxOaFtfBJTWsZe7bJvexd9Z2pMKZTWTcqp1/SBC1A+pXUzLp+13RTKu/FkK60bABd1YB7NzSVbruw9rmvLjQDGYZwBwJI5XmmZj43aFsD3m659E4Z5gIsomBCvyT464RU3Z70JP3fhU01m1/1EOpegnEXYDAcv5JfUt+XAGxc+Wed27cjtMqQ+MBG8URLY32b6X7rbc/463gYhvv2I9uY9NvH8rp3J5wKDl+QxYCQm1Tcmct4up8aeMyLX/ahtcQnH5ITW8UlccRl7tcue7V3su+RDcMV1k3LmNS3eq8d4obhuzjz2lR7XNewzWWa/4roBcE1H5dHsXCI+tNd1oteYGwEMxTgDgCV3vNIyHxu1LYCvZ679KQzzABeR28Eo0cXej5qAvuz/kx7aX3qiKjqN6pvkB32qPbt+tjKnbi6ux68Xh9+e1+q6NAvY9nO12+WIL+R/1PPi3Dqv2RbS3cVuVSeqPNNzvn3L8+yUW/9k8fzcVu+hOrb341a/XOh/vN5rGT7vl1iM0RFbyNehyqh2Lrff2vvxizlox6T6usx1+XiaXGZfsurxW/YlvmsrnjvkdbvP26O2xRW05wTZBvrk/fIytrVLPW4wz+9+WaB+v+v1rftcsZlm952BD8kFlNdNSq+68ygYb9cor5tOx662fb5ef2/nxH/038X7+c57W78QVl43AC4pM48elksqPrDdIzcCuDbGGQAsFesI5fOxUdsC+HbL9a/CMA9wETUL+anQE+fYJHSdFAcmz2LSnI7APtbjapwQV3TAqYV8dYDOArLa5vEwYf1tt5/a7dJKzq3s4yeqXNZrdJm2x2v5vB8A2erXFw9V6ds2sTqWZXDbhBykuKEHLa952/B2j6f9IRU7uOlyVUyqrysr53jzzWKfD90I58JR22K05pxwxPgkoa6Mte3SnsTvX1K337wxhXPTIENd3aR0qrvstlLXTlx1ddPh2JPHHR4ztfcLfnV1A2C4yjx6TC4ReS745QNXn9wI4NoYZwA/rmne13J/adS2AL6ZyAOGeYCLKFnIj3VOevH2+fJ/U9yVes/sTlCH/wboOoHPnngHdFnI1/Q3AvQ3wp0bDXM9up/W39RuFxc9tyoe+sMZ6tyG9z79GoBc7F62Wc9n8FzstzUfBtm1pUQdi3O1f95TPlNf+jk1gDF/c9uS+37q8fItCxNLnU+vxvUwqb62JZdZ176KdL5ZqOta/1qINQHJvS5HbYuRmnPCAeOTlPoy1rXL4LcHV5XtXX+aX38IztpOhbrmn55v6ueor5uU4+su78MMOuraiau+bo4+dt/+dF6fz/v8qpD2fmGvvm4AjNSSR5tzScE9EqlXbgRwXYwzgN/WPu+rnG8bo7YF8K22fDAxD/DLShe9y60/Q18y8wYs/dsp+mJSDUC6Q064QxlHoW7CqJsw6gYAAPTCOAMAAHyLZe1ehWEe4Lcd9o15r+Ub1vxEHVqwkH93TKoBSHfICXco4yjUTRh1E0bdAACAXhhnAACAb7Gs3aswzAP8uo6L7cmfcgdysJB/d0yqAUh3yAl3KOMo1E0YdRNG3QAAgF4YZwAAgG+xrN2rMMwDoM/P32+Lr/yqPtqwkH93TKoBSHfICXco4yjUTRh1E0bdAACAXhhnAACAb7Gs3aswzAPg7/P6e5j28Pw7bM192SffxkczFvLvjkk1AOkOOeEOZRyFugmjbsKoGwAA0AvjDAAA8C2WtXsVhnkAAEBPTKoBSHfICXco4yjUTRh1E0bdAACAXhhnAACAb7Gs3etFfI2FfABAd0yqAUh3yAl3KOMo1E0YdRNG3QAAgF4YZwAAgG+xrN3rRXyNhXwAQHdMqgFId8gJdyjjKNRNGHUTRt0AAIBeGGcAAIBvsazd60V8zTyQgx2CIAiCIAiCIAiCIAiCIAiCIAiCIAiCIM6LZe1eL+JrLOQTBEEQBEEQBEEQBEEQBEEQBEEQBEEQxMBY1u71Ir7GQj5BEARBEARBEARBEARBEARBEARBEARBDIxl7V4v4mvmAQAAPcmOCADukBPuUMZRqJsw6iaMugEAAL0wzgAAAN9iWbvXi/gaC/kAgO6YVAOQ7pAT7lDGUaibMOomjLoBAAC9MM4AAADfYlm714v4Ggv5AIDumFQDkO6QE+5QxlGomzDqJoy6AQAAvTDOAAAA32JZu9eL+BoL+QCA7phUA5DukBPuUMZRqJsw6iaMugEAAL0wzgAAAN9iWbvXi/gaC/kAgO6YVAOQ7pAT7lDGUaibMOomjLoBAAC9MM4AAADfYlm714v4Ggv5AIDumFQDkO6QE+5QxlGomzDqJoy6AQAAvTDOAAAA32JZu9eL+BoL+QCA7phUA5DukBPuUMZRqJsw6iaMugEAAL0wzgAAAN9iWbvXi/gaC/kAgO6YVAOQ7pAT7lDGUaibMOomjLoBAAC9MM4AAADfYlm714v4Ggv5AIDumFQDkO6QE+5QxlGomzDqJoy6AQAAvTDOAAAA32JZu9eL+BoL+dj7vP4epm08/97zn5ot+3y8/j7zn/AtPn+vx5RLHi/OLvyYVAOQ7pAT7lDGUaibMOomjLoBAAC9MM4AAADfYlm7V2GYB4D0eT2mRvI8bBlf2RZ7D90tLoCFfKQxqQYg3SEn3KGMo1A3YdRNGHUDAAB6YZwBAAC+xbJ2r8IwDzDW+7melPwQ32z/vJ/+15h4/D0ez7/X+5P5Tfj333PeLrQm+3m//p4PtV/3fZ7v+Hss5Sz8Vn5r/dxZ9Nzqc6DrfPiBspCPNCbV17Z+gCsWiby69A1ym6X/SRm1LcY5KidUj0kytJSxV7us2e8R17erpW5Sel/Temy1tJceHy5tqZs+x/75e7/UMc9jNbnf2G7v1m4AXFNJzm3JOz1yFoB7YZwBQKqZ97XMx0ZtC+A7iXxgmAcYq3khP2fSauKhOq5EBxBdbN8WbMMR+zn+9IcEfH56IT/r3JbV5/FYyEcak+pry8qzkbz6fiZyVWTWNGpbjNWeE1rHJGm1ZezVLmv323p9+9TWTUrXa/qjxqFOm+mRImrrpsuxr/8ua47Hw1nQ13OD+bWOO7UbABdUkXNb8k6PnAXgXhhnADAq530t87FR2wL4XiIPGOYBLkjceEvl63Wx1zMx/Xw+pkOQN/HCi/mpBVm9EK+/5fb6e1tfA5/eY9l/vHOK7b9AQf3cWfTcik8Wjr0pwUI+0phUX1tLbpYfOHq85Leg7b7Bt+9R22K89pzQPiZJqSljr3bZst/Dxl5CTd2k9LymP/ob6fP2MnqMIWvqps+x62tkPlY1TrSH//KDMP4PhN6l3QC4ntqc25J3euQsAPfCOANA7RikZT42alsA3225/lUY5gEu6KCF/JX+NNq8v/A3uJfX1HzDW94QDH8DLqusOVjIN7YOf+S38lnIRxqT6murv/m59S3+bWN9w6htcQV9c8Ix57+8jL3aZdt+77Eg2++atm6OqEHjp/MYsrxu+hx7eowYf18W8gHUaMm5LOQDaME4A/ht9WOQlvnYqG0BfLvp2jdhmAe4oKMX8jWxT+831Jaf1a/sHNI3DJW1DI0LzwX1c2fJc3uJetgGFtw4QQiT6murvfm55f1Iv7H2LXbeH7UtrqF3TsgakySUlrFXu2zd7x0WZHte03rf0y83rH/oOnYqrZtex76c95xfyvKNM+/QbgBcT0vObck7PXIWgHthnAH8ttoxSMt8bNS2AL7fdO2bMMwDXFDBhHdN/Bnfcl9v2Hk6gJL9+GR1QOqZ5dNmTTdPs+tnW2Q2r3P+T45vov95v9RrlmOZX/d4/r2C/5JgUrtdTPKcJOvh8/d+7ctl/keq2iBxRNPP94v60tvt/zVDbCFf/hSQahfr0xmL/+tgxW1Py7ZLG9bHaP90Umu943hMqq+t9ubn2qdE+w3/p4xHbYtr6J0T8sYkcaVl7NUuW/e7bH/kdVBaNymnXtMFY+wapXXT59i3cVZsIT92ndyh3QC4gYKc25J3euQsAPfCOAOAJXMM0jIfG7UtgO9n8sMUhnmACyqY8BYtwK+Lo+5+8274hW0dS3z7jAXcHNn1s73f87Vts4a1sagDE4+/h7sw7y1z7XZpqXMbX6gQ58TEVC6rDh6hBQ61rXVMTgTqzT3OdVCi3ts+TxntIGch/x0vZ1Mbw6GYVF9b3c1Pkfuiidg38Ri1La6ib07Yzn28jcSVlbFXu2zfb931HVdWNyknX9OXWsgf3G4i3/C4frsBcAss5AM4CeMMAJasMUjLfGzUtgB+gckPUxjmAS6o10K+2K/dAWwdSHHH8HlvnU/GN9+WSXa8o0rIrh/RMZqQ3yj//H3Eoa7l8tzM1N9MX/bhvl/tdjmi5zZ4Lhe6s1fH+/J88z6xrTwm6xv46y8ayGP1t53tm/juIr6W0d6SC/lLOMeoyyieC+0e52JSfW3ymjcf+FniOf26hf8yyp1QiGt2TQajtsVVdMsJhWOSmLIy9mqX7futu77jyuom5eRrumCMXaOsbvod+3beI9dBxkL+ddsNgFsoyLkteadHzgJwL4wzAFiyxiAt87FR2wL4Bea6n8IwD3BBBRPeooX8YEex/T3n/daJ8byN2Z/8PzQR6yQ7q7wB2fUjOrzYa9f9hRd+13LLndRul2n7xr2qX3lDYv6b+Xu0ww8LlitZt7pO4wv5W7lD9bLfZidrIT+wf3EMtfWDYzGpvrbt5mconA/1GEx4UO+onNA6JokpK2Ovdtm+37rrO66sblJOvqazx5B1yuqm47GLD5PqbXZ7t/7d1H48df12A+AWCnJuS97pkbMA3AvjDACWrDFIy3xs1LYAfoG57qcwzANcUMGE95CF/IMm2On/u15a3oDs8m4dXqxjzCqTZ2G5drtc6/4TkVPvrlDZt/fMLa9dx9v24Q83uNt4ZSzkh88pA52rYVJ9fR/5EyWGup7VdbjkWh325cSEB/WOygmtY5KYsjL2apfH7Lf8+o4rq5uUk6/pgjFvjbK66Xvs268jze8xf+hF/m0K/5jt2u0GwC0U5tyWvHN0zgJwL4wzAFiyxiAt87FR2wL4Bea6n8IwD3BBBRPerMXkhdiv1VG03NRUE2Z9o3CbIMcXgIvKG5Jd3q3Di3WMciFg/WafG/Pz8vjqttM/++t5nQ51MLKU0brS9b4umqsIVoS+gfH6ez6f9nst2zn7Xo8p+/yIQYWI5vPyblnIrzkO9MSk+s62CYadZ5jwoF63nFA4JokpK2Ovdtm7vW/7L9murG5STr6mW8a8Gcrqpv+xmzGgGveZbZdQj82/JVLPTXUR+/ClzxXaDYBbOCzn1uWdScu2AO6CcQYAS9YYpGU+NmpbAL/AXPdTGOYBLqhgwlu0ML4ujjr7PWKCLfYd61yuvpCfDFXu5S3rthM3Etxw6iSnrtbXqHDrwv0Ggjecfa/HlN0QZB2/tmOLlDnrvDQu5B/SznAYJtX3tuU6eT3mTih81+yobXEV3XNC5pgkpqyMvdpl//buv77jyuompf8xWg5bVPIrq5uTj90VHGuljW83AG7hwJxbk3cWLdsCuAfGGQAsWWOQlvnYqG0B/AKTH6YwzANcUMGEt2TBMjyBzf0kWIzohCJlWcvQssDaayG/sEyHHEtE1rkVdWEdo1jE0P8r2P2lwdC+y4/JqWNRnvBgJOO8NC7k9z43KMOk+t62DwzZ12Pedbb1LzIljNoW19A/J+SNSWJKy9irXfZu76HrO6a0blJOvaYLxtg1SutmZD5b37tip1doNwBu4MCcW5N3Fi3bArgHxhkALJljkJb52KhtAXw/kx+mMMwDXFDBhHedlEYTvxJdYN06htjiaFzeTfOWm4ar7PrJW/Stndj3viGQd2795y41IAjtu/yYPHUsP0TgrfeM89K0kC/aIiOdS2BSfW+hfJKVL9Zr2f7p5lHb4hr65wTRD0T70LDSMvZql73be94NBFtp3aScek0fuKjkU1o34/JZ202hK7QbADdwYM6tyTuLlm0B3APjDACWzDFIy3xs1LYAvt907ZswzANcUMGEd0380UmpuKHtTf4HLHyKMof3kbMImyG7fjLfr/YGQ+12mbLO7dqp22VYb1YECha8mRHY32b6/8Pbc/463gYkvv2I9uY9NvH8bkAjnwsMZJLHgLMxqb4xked2eTT2nBG51kdti0vonhNEG6kd1xSXsVe77Nnek/v2K66blDOvafFePcYIxXVz5rGv9FiuYZ9XaTcAru+onFuZd4yWbQHcBuMMAJbcMUhynBCZj43aFsDXM9f+FIZ5gAvK7WyU6GLv5/P3ftn/Jz20v9QNPfM+j+ff6/Xe/0z7eytv/FNiB/0kTHb9bJ1eatK+Hr8u/9vzWl2XZgHbfq52uxzxhfyPel6cW+c120K6ez5UnajyTM/59i0GCmpbq9wfdf7m57Z6D9WxvR+3+uVC/0O3qeXvqi0t7zFFbCFfhyqj2rncfmuLkU814lRMqq9rze3qWrcvU/X4LfsP3/UUzxfyWt3n6lHb4gpac8IxY5K48jK2tUs9VjDPq+Oyn67fb9v1HVZeNym96s6jYIxdo7xuOh272vb5ev29nQvko/8u3s93fdyn3QC4vMyc25J3euUsAPfCOAOApWLtoHw+NmpbAN9uuf5VGOYBLqhmIT8VenJrz2xtapI7vdY/wc17H6fjca3HVX9j3ajojFML+aoCnAVktc3jYcL6224/tdullZzbfbWrclmv0WXaHq/l834AZKtfXzxUpW/bxOpYlsFtV3LA4oZuR6952/B2j6e8MeNGYxvDoZhUX1dWnvHmmMU+B7oRzn+jtsVorTnhkDFJQl0Za9ulPYnfv6Ruv+3Xt19d3aR0qrt1fJsKd7xRp65uOhx78rjD46R7tRsAl1KZc1vyTq+cBeBeGGcAP65p3tdyf2nUtgC+mcgDhnmACypZyI91VHrx9vkyn05PynlP/YkwvXjqdjLqfZ6eb8W51kl24Fv/2bos5Gv6U/v6G+HOzYC5Ht1vNW1qt4uLnlsVj4fvmwfS9GsAcrF72WYd4ATPxX5bfQNk35YSdSzO1f55T/lMfenn1GDG/M0dYLnvpx4v30YzsdT59GpcA5Pqa1vyl3W9q0jnmIW6lvUvhFh9Q+61OGpbjHRITmgck6TUl7GuXaa/VV633/bre6++blKOr7usBR4ToXovU183Rx+7b3/6vM/Xx/yqkHu1GwBX0ZJzW/JOj5wF4F4YZwC/rX3eVzcfm4zaFsC32vLBxDwAJqWL3uXWn6FPfToBCOrfTnE8JtUApDvkhDuUcRTqJoy6CaNuAABAL4wzAADAt1jW7lUY5gGwOOwb817LN6z5yXO0YCH/jphUA5DukBPuUMZRqJsw6iaMugEAAL0wzgAAAN9iWbtXYZgHwKbjYnvyp9yBHCzk3xGTagDSHXLCHco4CnUTRt2EUTcAAKAXxhkAAOBbLGv3KgzzAJD6/Pz9tvjKr+qjDQv5d8SkGoB0h5xwhzKOQt2EUTdh1A0AAOiFcQYAAPgWy9q9CsM8ACyf19/DtI3n32Fr7ss++TY+mrGQf0dMqgFId8gJdyjjKNRNGHUTRt0AAIBeGGcAAIBvsazdqzDMAwAAemJSDUC6Q064QxlHoW7CqJsw6gYAAPTCOAMAAHyLZe1eL+JrLOQDALpjUg1AukNOuEMZR6FuwqibMOoGAAD0wjgDAAB8i2XtXi/iayzkAwC6Y1INQLpDTrhDGUehbsKomzDqBgAA9MI4AwAAfItl7V4v4mvmgRzsEARBEARBEARBEARBEARBEARBEARBEARxXixr93oRX2MhnyAIgiAIgiAIgiAIgiAIgiAIgiAIgiAGxrJ2rxfxNRbyCYIgCIIgCIIgCIIgCIIgCIIgCIIgCGJgLGv3ehFfMw8AAOhJdkQAcIeccIcyjkLdhFE3YdQNAADohXEGAAD4FsvavV7E11jIBwB0x6QagHSHnHCHMo5C3YRRN2HUDQAA6IVxBgAA+BbL2r1exNdYyAcAdMekGoB0h5xwhzKOQt2EUTdh1A0AAOiFcQYAAPgWy9q9XsTXWMgHAHTHpBqAdIeccIcyjkLdhFE3YdQNAADohXEGAAD4FsvavV7E11jIBwB0x6QagHSHnHCHMo5C3YRRN2HUDQAA6IVxBgAA+BbL2r1exNdYyAcAdMekGoB0h5xwhzKOQt2EUTdh1A0AAOiFcQYAAPgWy9q9XsTXWMgHAHTHpBqAdIeccIcyjkLdhFE3YdQNAADohXEGAAD4FsvavV7E11jIBwB0x6QagHSHnHCHMo5C3YRRN2HUDQAA6IVxBgAA+BbL2r1exNdYyAcAdMekGoB0h5xwhzKOQt2EUTdh1A0AAOiFcQYAAPgWy9q9XsTXWMjH3uf19zBt4/n3nv/UbNnn4/X3mf+Eb/H5ez2mXPJ4cXbhx6QagHSHnHCHMo5C3YRRN2HUDQAA6IVxBgAA+BbL2r0KwzwApM/rMTWS52HL+Mq22HvobnEBLOQjjUk1AOkOOeEOZRyFugmjbsKoGwAA0AvjDAAA8C2WtXsVhnmAsd7P9aTkh/hm++f99L/GxOPv8Xj+vd6fzG/Cv/+e83bZa7LW+6vtQgv1y+sKv5XfWj93Fj23D3Vun++/z/ADZSEfaUyqr239AFcsEnn18379PVVektss/U/KqG0xTreckDsmydBSxl7tsnS/Wde2iNwPW7bUTUrva1qPraZfnurz4dKWuulz7J+/90sd8zxWk/uN7faIfsHVUjcArqMkj44eY+bo3S8AOAfjDABSTf/eMuYYtS2A7yTygWEeYKzmhfzsm7QP1XElOoDlBnj2jbll4X+LcOdY8SEB5acX8rPObVl9Ho+FfKQxqb62rDwbyavvZyJXRWZNo7bFWH1yQsmYJK22jL3aZc1+77aQ3/Wa/qj24Sxmt+wupLZuuhz7+u+y5njoD/iKx2ZuML/W0dov+NTWDYCLqMijI8eYSSf1CwDOwTgDgFHZv7eMOUZtC+B7iTxgmAe4IHHjLZWv15u0ngnw5/MxHYK8iRdezC9fkF0n5vrG4Lr/+UmP5fXNC74F9XNn0XMrPllYeiP1WCzkI41J9bW15Ga5UPh4vUUumvqf7bn9vkdti/F65ITSMUlKTRl7tcue7X3b9/Mvt7pq6ial7zGKMZOIHmPImrrpc+zigy1qnGgP/7exW+gDoYeN2YWaugFwDbV5dNQYM+XMfgHAORhnAKjt31vGHKO2BfDdlutfhWEe4IIOWshf6U+jzfsLf4N7eU3mN7zXMuqf5swrb1ZZc7CQb2wd/shv5bOQjzQm1ddWf5N161v828rFIneRcNS2uILDc0LFmCSlvIy92mXP9r7tu+ST/uV1k9LvGK2bI+oYP53HkOV10+fY02PE+PuykA9g0ZJHx4wx487uFwCcg3EG8Nvq+/eWMceobQF8u+naN2GYB7iggsnk2lGlFsfFPr03a5ef1c/qHLbOxHQ2ueVdX9e48FxQP3eWPLeXqAenLQAeTKqvrfYm6zZRivQba99i5/1R2+Iajs0JlWOShNIy9mqXXdt75XaldZPS8xj1vh9P8Y30zmOn0rrpdexLXo//jOP8Gs84k4V8AIuWPDpijJlydr8A4ByMM4DfVtu/t4w5Rm0L4PtN174JwzzABRVMJtfEn/Et9/WGnacDKNnP7rXZ5d0+bdY0Sc5+v+3mvnmd839yfDcUPu+Xes3Smc6vezz/XvZvku7UbheTPCfJevj8vV/7cpmfHVYbJI5o+vl+UV96u/2/Zogt5MufAlIDk/XpjMX/dbDiDmiWbZc2rI/R/umk1nrH8ZhUX1vtTdbYItDG/ynjUdviGo7MCfVjkrjSMvZql/3a+9YXl/7fvdK6STn1mj6ofYSU1k2fY887t+u147l5tJTryPxZWjcALqogj9bmkm/qFwCcg3EGAEtm/94y5hi1LYDvZ/LDFIZ5gAsqmEyWLMCrXmJpAM5+S27mLp2I+DBAdnkzFnBzVLzf87Vts4a1sagDE4+/h7sw7y1z7XZpqXMbuwErO/sppnJZdfAIfepPbWsdkxOBenOPcx2UqPe2z1NGO8hZyH/Hy9nUxnAoJtXXtlyrZdeMyH3RROybeIzaFldxXE5YznPNmCSurIy92mXH9h4cE6aV1U3Kydf0Qe0jpKxuBrebtQ3sP+Bb1y/EldUNgMsqyKPnjzErdO4XAJyDcQYAS1b/3jLmGLUtgF9g8sMUhnmACyqYTBYt5Iv92h3A1oGkOoZ1cVYWrGIyH++oErLfT3SMJuQ3yj9/H3Goa7k8NzP1N9OXfbjvV7tdjui5DZ7Lhe7s1fG+PN+8T2wrj8n6Bv76iwbyWP1tZ/smvruIr2W0t+RC/hLOMeoyiudCu8e5mFRfm7zmzQd+lnhOv27hv4xyJxTiml2TwahtcRVH5QTvmKJgTBJTVsZe7bLXfsXrc8aPjrK6STn5mj6ofYSU1U2/Y9/yeuhDm0rGQn5ZvxBXVjcALqsgj54/xqzQuV8AcA7GGQAsWf17y5hj1LYAfoG57qcwzANcUMFksmghP9hRbH+Pvt9aLuemYM1kvuLG8Sr7/USHF3vtur/wwm98saBwu0zbN+7V+ZI3Pua/mb9HO/ywYLmSdavrNL6Qv5U7VC/7bXayFvID+xfHUFs/OBaT6mvbbrKGwvlQj8GEB/UOyQlrrq8fk8SUlbFXu+y038Y6KqublJOv6YPaR0hZ3XQ8dvFhUr3Nbu/Wv5vaj6fq+oW4sroBcFkFefT8MWaFzv0CgHMwzgBgyerfW8Yco7YF8AvMdT+FYR7gggomk4cs5Ge939Z57F7TrbwB2e+3lTnWMWaVybOwXLtdrm1BPB7p/3e/Fyr79p655bXreNs+/OEGdxuvjIX88DndXsNA5xqYVF/fR/5EiaGuZ3UdLrlWh305MeFBvfacsJ3f3ektGJPElJWxV7vss99tYaV8bKKV1U3Kydf0Qe0jpKxu+h779utI83vMHwiVf5vCP2Yr7xfiyuoGwGUV5tFzx5gVOvcLAM7BOAOAJat/bxlzjNoWwC8w1/0UhnmACyqYTGYtJi/Efq2OIuP9ou/Tq7wh2e+3dXixjlF+U8D65ruM+Xl507tuu7cqk+d1OtTByFLG6/zz914XzVUEK0LfKHn9PZ9P+72W7Zx9r8eUfX7EoEJE83lpWsivOQ70xKT6zrYJhp1nmPCgXmtOOGpMElNWxl7tssN+Q2PBAmV1k3LyNX1Q+wgpq5v+x27GgGrcZ7ZdQj02/5ZIPTfVRezDlz5buUvKU1Y3AC7rsDwayiXf1S8AOAfjDACWrP69ZcwxalsAv8Bc91MY5gEuqGAyWbQwvi6OOvtNvt/SwaR/yvzQ8oZkv9/W4cU6RrkgnwxV7uUt67bbOmvfa2Qpc+pqfY0Kty7cbzp4w9n3ekypE7mSdfzaji1S5qzz0riQf0g7w2GYVN/bluvk9Zg7ofBds6O2xVW05YTjxiQxZWXs1S6P3+82bnD713xldZPSq+4CDmofIWV1c/Kxu4JjrTR/vxBXVjcALuvAPHr8GLNC534BwDkYZwCwZPXvLWOOUdsC+AUmP0xhmAe4oILJZMmCZfimW+KTYOIDANkRKM9ahpYF1uz6yevwast0yLFEZJ1bURfWMYpz9niq7Z0dhPZdfkxOHYvyhAcjGeelcSG/97lBGSbV9xZa+Mu7zrb+RaaEUdviGppywoFjkpjSMvZql8fud3td/IZBXGndpJx6TReMsWuU1s3IfLa+d8VOaz4QUlo3AC7qwDzaY4xZrHO/AOAcjDMAWDL795Yxx6htAXw/kx+mMMwDXFDBZDJrsVcT+9zfsNs6Bu/iaI+F/JYeKLt+8hZ9a25GarXb5co7t/5zlxoQhPZdfkyeOpYfIvDWe++F/O01Te0Mh2FSfW+hfJKVL9Zr2f729KhtcQ1NOUH0MdkR7Uf9SsvYq10eud9tX23XRWndpJx6TXdesCmtm3H5rO2mUN6NJ1tp3QC4qAPzaI8xZrHO/QKAczDOAGDJ7N9bxhyjtgXw/aZr34RhHuCCCiaTa+KP3kgTC5ve5N+48Jld3pxF2AxHv1/t5L12u0xZ53bt1O0ypD4wEbwBG9jf5qNe8hDP+et4G5D49iPam/fYxPO7AY18LjCQSR4Dzsak+sZEntvl0dhzRuRaH7UtLqFrTjioby4uY692edh+t4Xb1g+5FddNypnX9EHtI6S4bs489pUeyzXsM1lmv+K6AXBNR+XRWC45MzcedTwAhmKcAcCS27+3jDlGbQvg65lrfwrDPMAFFUwmo4u9n8/f+2X/n/TQ/o66oRcv70E/CZP9flun5+8UN+vx68Xht+e1ui7NArb9XO12OeIL+R/1vDi3zmu2hXR3sVvViSrP9Jxv32KgoLa1yv1R529+bqv3UB3b+3GrXy70P17vtQyf92t9jyliC/k6VBnVzuX2W3uPfKoRp2JSfV3mWnw8Tf6yL1P1+C37D9/1FM8X8lrd5+pR2+IKuuaEgjFUTHkZ29qlHiuY59X1aD99UHs/8ENu5XWT0qvuPA5qHyHlddPp2NW2z9fr7+38b6WP/rt4P9/wuK1fCCuvGwCXlJlHx40xr9UvADgH4wwAloq1g/Ixx6htAXy75fpXYZgHuKCCyaRcEI2GnkTbM2jbeoO37KackVve9XX+G4fZKjrj1EK+qgBnAVlt83iYsP6220/tdmkl51b29xNVLus1ukzb47V83g+AbPXri4eq9G2bWB3LMrjtSg5Y3NADmNe8bXi7x9P+kIodjW0Mh2JSfV1ZecabYxb7HOhGOP+N2hajdc0JBWOomLoy1rZLexK/f0lrexf7r/nApqOublI61Z34AEM8Ksa/HnV10+HYk8cdHie19wt+dXUDYLjKPDpujHmtfgHAORhnAD+uqX9vmW+P2hbANxN5wDAPcEEFN6H1p9mXc7kLvXj7fPm/Ke5qufGdue06mW+9iZxd1m0Sn9fx6W8H6G+EOzcd5np0v9W0qd0uLnpuVTz0hzPUuQ3vffo1gKWu5DbrACd4Lvbbmg+D7NpSoo7Fudo/7ymfqS/9nBrMmL+5Ayz3/dTj5RsXJpY6n16Na2BSfW1L/rKudxXpHLNQ17L+hRBrApJ7LY7aFiN1zQkt4xmhvox17TL97cGG9n5QnSzq6ybl+LrL/lDk0IV87ehj9+1P5/XH31P8ElJIe7+wV183AEZqyaOjxphX6hcAnINxBvDb2vv3hvn2sG0BfKstH0zMA2BSuuhdbv0Z+iPuIuNH9W+nOB6TagDSHXLCHco4CnUTRt2EUTcAAKAXxhkAAOBbLGv3KgzzAFgc9o15r+Ub1uGf8gTSWMi/IybVAKQ75IQ7lHEU6iaMugmjbgAAQC+MMwAAwLdY1u5VGOYBsOm42J78KXcgBwv5d8SkGoB0h5xwhzKOQt2EUTdh1A0AAOiFcQYAAPgWy9q9CsM8AKQ+P3+/Lb7yq/pow0L+HTGpBiDdISfcoYyjUDdh1E0YdQMAAHphnAEAAL7FsnavwjAPAMvn9fcwbeP5d9ia+7JPvo2PZizk3xGTagDSHXLCHco4CnUTRt2EUTcAAKAXxhkAAOBbLGv3KgzzAACAnphUA5DukBPuUMZRqJsw6iaMugEAAL0wzgAAAN9iWbvXi/gaC/kAgO6YVAOQ7pAT7lDGUaibMOomjLoBAAC9MM4AAADfYlm714v4Ggv5AIDumFQDkO6QE+5QxlGomzDqJoy6AQAAvTDOAAAA32JZu9eL+Jr8A0EQBEEQBEEQBEEQBEEQBEEQBEEQBEEQ48LwPUEQBEEQBEEQBEEQBEEQBEEQBEEQBEEQxPkBAAAAAAAAAAAAAACu49+//wEStpJIvWPTPAAAAABJRU5ErkJggg==)"
      ]
    },
    {
      "cell_type": "markdown",
      "metadata": {
        "id": "V8T_n4ZWkwU4"
      },
      "source": [
        "##**Discussion**"
      ]
    },
    {
      "cell_type": "markdown",
      "metadata": {
        "id": "N96yorp6kyOe"
      },
      "source": [
        "As we clearly see here, Tree Backup performs astoundingly for all 3 cases of 'n' analyzed. 'Average Successful Episode Length' descreases as 'n' increases, which is both an expected and encouraging result. For all 'n', every test episode is successful."
      ]
    },
    {
      "cell_type": "markdown",
      "metadata": {
        "id": "izhP_9-QpAQW"
      },
      "source": [
        "#**Concluding Remarks**"
      ]
    },
    {
      "cell_type": "markdown",
      "metadata": {
        "id": "Hi854lfnpEFO"
      },
      "source": [
        "We have seen the performance of a variety of TD-Controllers. From the results, it appears that Tree Backup is the most reliable option (for all n values we've attempted). However, it should be noted that TD(0) Off-Policy Expected SARSA produced the best result out of all control algorithms (lowest number of steps needed to reach the flag, with all episodes being successful). Through these tasks, I've found that hyperparameter selection, particularly the choice of $\\alpha$ is critical to the speed towards which the MC converges to an optimal policy."
      ]
    }
  ]
}